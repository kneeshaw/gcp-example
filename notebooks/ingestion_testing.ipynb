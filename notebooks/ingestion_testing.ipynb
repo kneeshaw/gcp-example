{
 "cells": [
  {
   "cell_type": "code",
   "execution_count": 4,
   "id": "9a11de5c",
   "metadata": {},
   "outputs": [],
   "source": [
    "# Add the src directory to Python path so we can import from src modules\n",
    "import sys\n",
    "sys.path.append('../src')"
   ]
  },
  {
   "cell_type": "code",
   "execution_count": 5,
   "id": "e4ebf959",
   "metadata": {},
   "outputs": [],
   "source": [
    "import os\n",
    "import json\n",
    "from ingest.main import run"
   ]
  },
  {
   "cell_type": "code",
   "execution_count": 6,
   "id": "e785336b",
   "metadata": {},
   "outputs": [],
   "source": [
    "# Set logger to debug for detailed output\n",
    "os.environ[\"LOG_LEVEL\"] = \"DEBUG\""
   ]
  },
  {
   "cell_type": "code",
   "execution_count": 7,
   "id": "c3d128fa",
   "metadata": {},
   "outputs": [],
   "source": [
    "os.environ[\"PROJECT_ID\"] = \"regal-dynamo-470908-v9\"\n",
    "os.environ[\"BQ_DATASET\"] = \"auckland_data_dev\"\n",
    "os.environ[\"BUCKET\"] = \"auckland-data-dev\"\n",
    "\n",
    "# Encode headers as base64 (matching Terraform pattern)\n",
    "import base64\n",
    "_headers_dict = {\n",
    "  'Ocp-Apim-Subscription-Key': '1159c79486524360b17501ad888ee7d6'\n",
    "}\n",
    "os.environ[\"HEADERS\"] = base64.b64encode(json.dumps(_headers_dict).encode(\"utf-8\")).decode(\"utf-8\")\n",
    "\n",
    "os.environ[\"URL\"] = 'https://gtfs.at.govt.nz/gtfs.zip'\n",
    "os.environ[\"DATASET\"] = 'schedule'\n",
    "os.environ[\"SPEC\"] = 'sc'\n",
    "os.environ[\"RESPONSE_TYPE\"] = 'zip'"
   ]
  },
  {
   "cell_type": "code",
   "execution_count": 8,
   "id": "37ed8907",
   "metadata": {},
   "outputs": [
    {
     "name": "stdout",
     "output_type": "stream",
     "text": [
      "INFO - Starting data ingestion for schedule...\n",
      "INFO - Fetched and processed data for schedule, size: 29139373 bytes.\n",
      "INFO - Uploaded new GTFS static feed (hash=f54b530ea2782d8ad819f78a9ae13248)\n",
      "INFO - Uploaded schedule to GCS: sc-schedule/year=2025/f54b530ea2782d8ad819f78a9ae13248.zip. Feed hash: f54b530ea2782d8ad819f78a9ae13248\n",
      "INFO - Using deduplication mode 'none' for dataset 'feed_info'\n",
      "INFO - Uploading 1 rows to regal-dynamo-470908-v9.auckland_data_dev.sc_feed_info using batch transport, none deduplication\n",
      "INFO - BigQuery ingestion result: {'table': 'regal-dynamo-470908-v9.auckland_data_dev.sc_feed_info', 'rows_processed': 1, 'method': 'batch', 'job_id': '319e23cd-b985-4600-a01a-d17d74bb015f', 'table_existed': True, 'processing_time': 5.601}\n",
      "INFO - Using deduplication mode 'none' for dataset 'agency'\n",
      "INFO - Uploading 17 rows to regal-dynamo-470908-v9.auckland_data_dev.sc_agency using batch transport, none deduplication\n",
      "INFO - BigQuery ingestion result: {'table': 'regal-dynamo-470908-v9.auckland_data_dev.sc_agency', 'rows_processed': 17, 'method': 'batch', 'job_id': 'ee68b06b-44cb-4498-a296-6ed60948a1aa', 'table_existed': True, 'processing_time': 5.726}\n",
      "INFO - Using deduplication mode 'none' for dataset 'calendar'\n",
      "INFO - Uploading 222 rows to regal-dynamo-470908-v9.auckland_data_dev.sc_calendar using batch transport, none deduplication\n",
      "INFO - BigQuery ingestion result: {'table': 'regal-dynamo-470908-v9.auckland_data_dev.sc_calendar', 'rows_processed': 222, 'method': 'batch', 'job_id': '200fae88-5c80-47b9-8883-8b31a0c180cf', 'table_existed': True, 'processing_time': 5.636}\n",
      "INFO - Using deduplication mode 'none' for dataset 'calendar_dates'\n",
      "INFO - Uploading 1305 rows to regal-dynamo-470908-v9.auckland_data_dev.sc_calendar_dates using batch transport, none deduplication\n",
      "INFO - BigQuery ingestion result: {'table': 'regal-dynamo-470908-v9.auckland_data_dev.sc_calendar_dates', 'rows_processed': 1305, 'method': 'batch', 'job_id': '388dbdd7-6925-4ff1-ac08-9fd81ced5637', 'table_existed': True, 'processing_time': 4.921}\n",
      "INFO - Using deduplication mode 'none' for dataset 'routes'\n",
      "INFO - Uploading 213 rows to regal-dynamo-470908-v9.auckland_data_dev.sc_routes using batch transport, none deduplication\n",
      "INFO - BigQuery ingestion result: {'table': 'regal-dynamo-470908-v9.auckland_data_dev.sc_routes', 'rows_processed': 213, 'method': 'batch', 'job_id': 'a03a30da-ad24-4dd4-ba86-d1de1630545b', 'table_existed': True, 'processing_time': 5.328}\n",
      "INFO - Using deduplication mode 'none' for dataset 'trips'\n",
      "INFO - Uploading 38046 rows to regal-dynamo-470908-v9.auckland_data_dev.sc_trips using batch transport, none deduplication\n",
      "INFO - BigQuery ingestion result: {'table': 'regal-dynamo-470908-v9.auckland_data_dev.sc_trips', 'rows_processed': 38046, 'method': 'batch', 'job_id': '9525964c-e733-4145-bd3d-762019bec106', 'table_existed': True, 'processing_time': 6.922}\n",
      "INFO - Using deduplication mode 'none' for dataset 'shapes'\n",
      "INFO - Uploading 807253 rows to regal-dynamo-470908-v9.auckland_data_dev.sc_shapes using batch transport, none deduplication\n",
      "INFO - BigQuery ingestion result: {'table': 'regal-dynamo-470908-v9.auckland_data_dev.sc_shapes', 'rows_processed': 807253, 'method': 'batch', 'job_id': '2f4e2a8e-db94-4892-9607-56362c3cf9f2', 'table_existed': True, 'processing_time': 9.626}\n",
      "INFO - Using deduplication mode 'none' for dataset 'stops'\n",
      "INFO - Uploading 6927 rows to regal-dynamo-470908-v9.auckland_data_dev.sc_stops using batch transport, none deduplication\n",
      "INFO - BigQuery ingestion result: {'table': 'regal-dynamo-470908-v9.auckland_data_dev.sc_stops', 'rows_processed': 6927, 'method': 'batch', 'job_id': '4f496be5-4767-4771-a6d7-96cedd773c49', 'table_existed': True, 'processing_time': 5.06}\n",
      "INFO - Using deduplication mode 'none' for dataset 'transfers'\n",
      "INFO - Uploading 6 rows to regal-dynamo-470908-v9.auckland_data_dev.sc_transfers using batch transport, none deduplication\n",
      "INFO - BigQuery ingestion result: {'table': 'regal-dynamo-470908-v9.auckland_data_dev.sc_transfers', 'rows_processed': 6, 'method': 'batch', 'job_id': 'ba36b147-07db-4b5e-a9a3-eaefdad3e3a3', 'table_existed': True, 'processing_time': 6.843}\n",
      "INFO - Using deduplication mode 'none' for dataset 'stop_times'\n",
      "INFO - Uploading 1082386 rows to regal-dynamo-470908-v9.auckland_data_dev.sc_stop_times using batch transport, none deduplication\n",
      "INFO - BigQuery ingestion result: {'table': 'regal-dynamo-470908-v9.auckland_data_dev.sc_stop_times', 'rows_processed': 1082386, 'method': 'batch', 'job_id': 'aafa579f-3710-41cc-9919-7dd2e753ae56', 'table_existed': True, 'processing_time': 11.342}\n"
     ]
    }
   ],
   "source": [
    "run({})"
   ]
  },
  {
   "cell_type": "code",
   "execution_count": 9,
   "id": "c9933915",
   "metadata": {},
   "outputs": [
    {
     "ename": "ModuleNotFoundError",
     "evalue": "No module named 'src'",
     "output_type": "error",
     "traceback": [
      "\u001b[31m---------------------------------------------------------------------------\u001b[39m",
      "\u001b[31mModuleNotFoundError\u001b[39m                       Traceback (most recent call last)",
      "\u001b[36mCell\u001b[39m\u001b[36m \u001b[39m\u001b[32mIn[5]\u001b[39m\u001b[32m, line 3\u001b[39m\n\u001b[32m      1\u001b[39m \u001b[38;5;28;01mimport\u001b[39;00m\u001b[38;5;250m \u001b[39m\u001b[34;01mos\u001b[39;00m\n\u001b[32m      2\u001b[39m \u001b[38;5;28;01mimport\u001b[39;00m\u001b[38;5;250m \u001b[39m\u001b[34;01mjson\u001b[39;00m\n\u001b[32m----> \u001b[39m\u001b[32m3\u001b[39m \u001b[38;5;28;01mfrom\u001b[39;00m\u001b[38;5;250m \u001b[39m\u001b[34;01mingest\u001b[39;00m\u001b[34;01m.\u001b[39;00m\u001b[34;01mmain\u001b[39;00m\u001b[38;5;250m \u001b[39m\u001b[38;5;28;01mimport\u001b[39;00m run\n",
      "\u001b[36mFile \u001b[39m\u001b[32m~/Projects/mak-group/gcp-example/notebooks/../src/ingest/main.py:14\u001b[39m\n\u001b[32m     12\u001b[39m \u001b[38;5;28;01mfrom\u001b[39;00m\u001b[38;5;250m \u001b[39m\u001b[34;01mingest\u001b[39;00m\u001b[34;01m.\u001b[39;00m\u001b[34;01mfetch\u001b[39;00m\u001b[38;5;250m \u001b[39m\u001b[38;5;28;01mimport\u001b[39;00m get_data\n\u001b[32m     13\u001b[39m \u001b[38;5;28;01mfrom\u001b[39;00m\u001b[38;5;250m \u001b[39m\u001b[34;01mgcs_storage\u001b[39;00m\u001b[34;01m.\u001b[39;00m\u001b[34;01mstore\u001b[39;00m\u001b[38;5;250m \u001b[39m\u001b[38;5;28;01mimport\u001b[39;00m upload_schedule_response, upload_data_response\n\u001b[32m---> \u001b[39m\u001b[32m14\u001b[39m \u001b[38;5;28;01mfrom\u001b[39;00m\u001b[38;5;250m \u001b[39m\u001b[34;01mingest\u001b[39;00m\u001b[34;01m.\u001b[39;00m\u001b[34;01mtransform\u001b[39;00m\u001b[38;5;250m \u001b[39m\u001b[38;5;28;01mimport\u001b[39;00m transform_realtime, transform_schedule\n\u001b[32m     15\u001b[39m \u001b[38;5;28;01mfrom\u001b[39;00m\u001b[38;5;250m \u001b[39m\u001b[34;01mbig_query\u001b[39;00m\u001b[34;01m.\u001b[39;00m\u001b[34;01mupload\u001b[39;00m\u001b[38;5;250m \u001b[39m\u001b[38;5;28;01mimport\u001b[39;00m upload_to_bigquery\n\u001b[32m     18\u001b[39m \u001b[38;5;28;01mdef\u001b[39;00m\u001b[38;5;250m \u001b[39m\u001b[34mget_globals\u001b[39m():\n\u001b[32m     19\u001b[39m \n\u001b[32m     20\u001b[39m     \u001b[38;5;66;03m# project variables\u001b[39;00m\n",
      "\u001b[36mFile \u001b[39m\u001b[32m~/Projects/mak-group/gcp-example/notebooks/../src/ingest/transform.py:7\u001b[39m\n\u001b[32m      4\u001b[39m \u001b[38;5;28;01mfrom\u001b[39;00m\u001b[38;5;250m \u001b[39m\u001b[34;01mdatetime\u001b[39;00m\u001b[38;5;250m \u001b[39m\u001b[38;5;28;01mimport\u001b[39;00m datetime, timezone\n\u001b[32m      6\u001b[39m \u001b[38;5;28;01mfrom\u001b[39;00m\u001b[38;5;250m \u001b[39m\u001b[34;01mcommon\u001b[39;00m\u001b[34;01m.\u001b[39;00m\u001b[34;01mlogging_utils\u001b[39;00m\u001b[38;5;250m \u001b[39m\u001b[38;5;28;01mimport\u001b[39;00m logger\n\u001b[32m----> \u001b[39m\u001b[32m7\u001b[39m \u001b[38;5;28;01mfrom\u001b[39;00m\u001b[38;5;250m \u001b[39m\u001b[34;01mschemas\u001b[39;00m\u001b[34;01m.\u001b[39;00m\u001b[34;01mschema_registry\u001b[39;00m\u001b[38;5;250m \u001b[39m\u001b[38;5;28;01mimport\u001b[39;00m get_schema_class\n\u001b[32m      8\u001b[39m \u001b[38;5;28;01mfrom\u001b[39;00m\u001b[38;5;250m \u001b[39m\u001b[34;01mschemas\u001b[39;00m\u001b[34;01m.\u001b[39;00m\u001b[34;01mcommon\u001b[39;00m\u001b[34;01m.\u001b[39;00m\u001b[34;01mschema_utils\u001b[39;00m\u001b[38;5;250m \u001b[39m\u001b[38;5;28;01mimport\u001b[39;00m clean_and_validate_dataframe\n\u001b[32m     11\u001b[39m \u001b[38;5;28;01mdef\u001b[39;00m\u001b[38;5;250m \u001b[39m\u001b[34mnormalize_nested_json\u001b[39m(entities) -> pd.DataFrame:\n",
      "\u001b[36mFile \u001b[39m\u001b[32m~/Projects/mak-group/gcp-example/notebooks/../src/schemas/schema_registry.py:25\u001b[39m\n\u001b[32m     23\u001b[39m \u001b[38;5;28;01mfrom\u001b[39;00m\u001b[38;5;250m \u001b[39m\u001b[34;01mschemas\u001b[39;00m\u001b[34;01m.\u001b[39;00m\u001b[34;01mschedule\u001b[39;00m\u001b[34;01m.\u001b[39;00m\u001b[34;01mtransfers\u001b[39;00m\u001b[38;5;250m \u001b[39m\u001b[38;5;28;01mimport\u001b[39;00m Transfers\n\u001b[32m     24\u001b[39m \u001b[38;5;28;01mfrom\u001b[39;00m\u001b[38;5;250m \u001b[39m\u001b[34;01mschemas\u001b[39;00m\u001b[34;01m.\u001b[39;00m\u001b[34;01mschedule\u001b[39;00m\u001b[34;01m.\u001b[39;00m\u001b[34;01mtrips\u001b[39;00m\u001b[38;5;250m \u001b[39m\u001b[38;5;28;01mimport\u001b[39;00m Trips\n\u001b[32m---> \u001b[39m\u001b[32m25\u001b[39m \u001b[38;5;28;01mfrom\u001b[39;00m\u001b[38;5;250m \u001b[39m\u001b[34;01msrc\u001b[39;00m\u001b[34;01m.\u001b[39;00m\u001b[34;01mschemas\u001b[39;00m\u001b[34;01m.\u001b[39;00m\u001b[34;01mderived\u001b[39;00m\u001b[34;01m.\u001b[39;00m\u001b[34;01mdaily_schedule\u001b[39;00m\u001b[38;5;250m \u001b[39m\u001b[38;5;28;01mimport\u001b[39;00m DailySchedule\n\u001b[32m     27\u001b[39m \u001b[38;5;66;03m# Dataset to Schema Class Mapping\u001b[39;00m\n\u001b[32m     28\u001b[39m DATASET_SCHEMA_MAPPING = {\n\u001b[32m     29\u001b[39m     \u001b[38;5;66;03m# Realtime datasets\u001b[39;00m\n\u001b[32m     30\u001b[39m     \u001b[33m'\u001b[39m\u001b[33mvehicle-positions\u001b[39m\u001b[33m'\u001b[39m: VehiclePositions,\n\u001b[32m   (...)\u001b[39m\u001b[32m     50\u001b[39m     \u001b[33m'\u001b[39m\u001b[33mdaily_schedule\u001b[39m\u001b[33m'\u001b[39m: DailySchedule,\n\u001b[32m     51\u001b[39m }\n",
      "\u001b[31mModuleNotFoundError\u001b[39m: No module named 'src'"
     ]
    }
   ],
   "source": [
    "%tb"
   ]
  }
 ],
 "metadata": {
  "kernelspec": {
   "display_name": ".venv",
   "language": "python",
   "name": "python3"
  },
  "language_info": {
   "codemirror_mode": {
    "name": "ipython",
    "version": 3
   },
   "file_extension": ".py",
   "mimetype": "text/x-python",
   "name": "python",
   "nbconvert_exporter": "python",
   "pygments_lexer": "ipython3",
   "version": "3.11.12"
  }
 },
 "nbformat": 4,
 "nbformat_minor": 5
}
