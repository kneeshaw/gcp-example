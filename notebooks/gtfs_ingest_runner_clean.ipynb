{
 "cells": [
  {
   "cell_type": "code",
   "execution_count": 1,
   "id": "466bb3ab",
   "metadata": {},
   "outputs": [
    {
     "name": "stderr",
     "output_type": "stream",
     "text": [
      "/Users/martin/Projects/mak-group/gcp-example/notebooks/.venv/lib/python3.11/site-packages/pandera/_pandas_deprecated.py:160: FutureWarning: Importing pandas-specific classes and functions from the\n",
      "top-level pandera module will be **removed in a future version of pandera**.\n",
      "If you're using pandera to validate pandas objects, we highly recommend updating\n",
      "your import:\n",
      "\n",
      "```\n",
      "# old import\n",
      "import pandera as pa\n",
      "\n",
      "# new import\n",
      "import pandera.pandas as pa\n",
      "```\n",
      "\n",
      "If you're using pandera to validate objects from other compatible libraries\n",
      "like pyspark or polars, see the supported libraries section of the documentation\n",
      "for more information on how to import pandera:\n",
      "\n",
      "https://pandera.readthedocs.io/en/stable/supported_libraries.html\n",
      "\n",
      "To disable this warning, set the environment variable:\n",
      "\n",
      "```\n",
      "export DISABLE_PANDERA_IMPORT_WARNING=True\n",
      "```\n",
      "\n",
      "  warnings.warn(_future_warning, FutureWarning)\n"
     ]
    }
   ],
   "source": [
    "# Add the src directory to Python path so we can import from src modules\n",
    "import sys\n",
    "sys.path.append('../src')\n",
    "\n",
    "import os\n",
    "import json\n",
    "import pandas as pd\n",
    "from pandas import Series\n",
    "\n",
    "from ingest.main_new import run"
   ]
  },
  {
   "cell_type": "code",
   "execution_count": 2,
   "id": "0e7c3788",
   "metadata": {},
   "outputs": [],
   "source": [
    "os.environ[\"PROJECT_ID\"] = \"regal-dynamo-470908-v9\"\n",
    "os.environ[\"BQ_DATASET\"] = \"auckland_data_dev\"\n",
    "os.environ[\"BUCKET\"] = \"auckland-data-dev\"\n",
    "\n",
    "# Encode headers as base64 (matching Terraform pattern)\n",
    "import base64\n",
    "_headers_dict = {\n",
    "  'Ocp-Apim-Subscription-Key': '1159c79486524360b17501ad888ee7d6'\n",
    "}\n",
    "os.environ[\"HEADERS\"] = base64.b64encode(json.dumps(_headers_dict).encode(\"utf-8\")).decode(\"utf-8\")"
   ]
  },
  {
   "cell_type": "code",
   "execution_count": 3,
   "id": "f0b67005",
   "metadata": {},
   "outputs": [],
   "source": [
    "os.environ[\"URL\"] = 'https://api.at.govt.nz/realtime/legacy/vehiclelocations'\n",
    "os.environ[\"DATASET\"] = 'vehicle-positions'\n",
    "os.environ[\"SPEC\"] = 'rt'\n",
    "os.environ[\"RESPONSE_TYPE\"] = 'json'"
   ]
  },
  {
   "cell_type": "code",
   "execution_count": 5,
   "id": "a6659ec7",
   "metadata": {},
   "outputs": [
    {
     "name": "stdout",
     "output_type": "stream",
     "text": [
      "INFO - Starting data ingestion for vehicle-positions...\n",
      "INFO - Fetched and processed data for vehicle-positions, size: 636613 bytes.\n",
      "INFO - Fetched and processed data for vehicle-positions, size: 636613 bytes.\n",
      "INFO - Uploaded real-time data to GCS: rt-vehicle-positions/year=2025/month=09/day=16/hour=05/vehicle-positions-20250916T050858Z.json.gz\n",
      "INFO - Uploaded real-time data to GCS: rt-vehicle-positions/year=2025/month=09/day=16/hour=05/vehicle-positions-20250916T050858Z.json.gz\n",
      "INFO - Transformed data into DataFrame with 1722 records.\n",
      "INFO - Using deduplication mode 'skip_duplicates' for dataset 'vehicle-positions'\n",
      "INFO - Transformed data into DataFrame with 1722 records.\n",
      "INFO - Using deduplication mode 'skip_duplicates' for dataset 'vehicle-positions'\n",
      "INFO - Uploading 1722 rows to regal-dynamo-470908-v9.auckland_data_dev.rt_vehicle_positions using streaming transport, skip_duplicates deduplication\n",
      "INFO - Uploading 1722 rows to regal-dynamo-470908-v9.auckland_data_dev.rt_vehicle_positions using streaming transport, skip_duplicates deduplication\n",
      "INFO - Deduplicated DataFrame: 1722 -> 0 records (1722 duplicates removed)\n",
      "INFO - BigQuery ingestion result: {'table': 'regal-dynamo-470908-v9.auckland_data_dev.rt_vehicle_positions', 'rows_processed': 0, 'method': 'streaming_dedup', 'skipped_existing': 1722, 'processing_time': 4.415}\n",
      "INFO - Data ingestion for vehicle-positions completed successfully.\n",
      "INFO - Deduplicated DataFrame: 1722 -> 0 records (1722 duplicates removed)\n",
      "INFO - BigQuery ingestion result: {'table': 'regal-dynamo-470908-v9.auckland_data_dev.rt_vehicle_positions', 'rows_processed': 0, 'method': 'streaming_dedup', 'skipped_existing': 1722, 'processing_time': 4.415}\n",
      "INFO - Data ingestion for vehicle-positions completed successfully.\n"
     ]
    }
   ],
   "source": [
    "try:\n",
    "\tdata = run({})\n",
    "except Exception as e:\n",
    "\tprint(\"Error:\", e)"
   ]
  }
 ],
 "metadata": {
  "kernelspec": {
   "display_name": ".venv",
   "language": "python",
   "name": "python3"
  },
  "language_info": {
   "codemirror_mode": {
    "name": "ipython",
    "version": 3
   },
   "file_extension": ".py",
   "mimetype": "text/x-python",
   "name": "python",
   "nbconvert_exporter": "python",
   "pygments_lexer": "ipython3",
   "version": "3.11.12"
  }
 },
 "nbformat": 4,
 "nbformat_minor": 5
}
