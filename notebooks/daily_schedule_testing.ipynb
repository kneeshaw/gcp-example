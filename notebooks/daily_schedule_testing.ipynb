{
 "cells": [
  {
   "cell_type": "code",
   "execution_count": 1,
   "id": "9a11de5c",
   "metadata": {},
   "outputs": [],
   "source": [
    "# Add the src directory to Python path so we can import from src modules\n",
    "import sys\n",
    "sys.path.append('../src')"
   ]
  },
  {
   "cell_type": "code",
   "execution_count": 2,
   "id": "e4ebf959",
   "metadata": {},
   "outputs": [],
   "source": [
    "import os\n",
    "import json\n",
    "from daily_schedule.main import run"
   ]
  },
  {
   "cell_type": "code",
   "execution_count": 3,
   "id": "e785336b",
   "metadata": {},
   "outputs": [],
   "source": [
    "# Set logger to debug for detailed output\n",
    "os.environ[\"LOG_LEVEL\"] = \"DEBUG\""
   ]
  },
  {
   "cell_type": "code",
   "execution_count": 4,
   "id": "c3d128fa",
   "metadata": {},
   "outputs": [],
   "source": [
    "os.environ[\"PROJECT_ID\"] = \"regal-dynamo-470908-v9\"\n",
    "os.environ[\"BQ_DATASET\"] = \"auckland_data_dev\"\n",
    "os.environ[\"BUCKET\"] = \"auckland-data-dev\"\n",
    "os.environ[\"DATASET\"] = 'daily-schedule'\n",
    "os.environ[\"SPEC\"] = 'sc'\n",
    "os.environ[\"TIMEZONE\"] = 'Pacific/Auckland'"
   ]
  },
  {
   "cell_type": "code",
   "execution_count": 5,
   "id": "37ed8907",
   "metadata": {},
   "outputs": [
    {
     "name": "stdout",
     "output_type": "stream",
     "text": [
      "INFO - Using service date: 20250921 in timezone Pacific/Auckland\n",
      "INFO - Finding feed for service date: 20250921\n",
      "INFO - Found feed hash: f54b530ea2782d8ad819f78a9ae13248\n",
      "INFO - Getting active services...\n",
      "INFO - Found 37 active services\n",
      "INFO - Getting trips...\n",
      "INFO - All trips: 38046, Filtered: 10658\n",
      "INFO - Getting stop times and converting times...\n",
      "INFO - Stop times: 1082386, Schedule entries: 315515\n",
      "INFO - === Schedule Summary ===\n",
      "INFO - Total entries: 315515\n",
      "INFO - Routes: 173\n",
      "INFO - Trips: 10658\n",
      "INFO - Stops: 5350\n",
      "INFO - Added 2 missing schema fields: ['created_at', 'updated_at'] for schema DailySchedule\n",
      "INFO - Uploading 315515 rows to regal-dynamo-470908-v9.auckland_data_dev.sc_daily_schedule using batch transport, none deduplication\n",
      "INFO - BigQuery ingestion result: {'table': 'regal-dynamo-470908-v9.auckland_data_dev.sc_daily_schedule', 'rows_processed': 315515, 'method': 'batch', 'job_id': '8de0eed6-646e-4db3-9f4d-dd8c37687bfa', 'table_existed': True, 'processing_time': 14.127}\n"
     ]
    }
   ],
   "source": [
    "run({})"
   ]
  }
 ],
 "metadata": {
  "kernelspec": {
   "display_name": ".venv",
   "language": "python",
   "name": "python3"
  },
  "language_info": {
   "codemirror_mode": {
    "name": "ipython",
    "version": 3
   },
   "file_extension": ".py",
   "mimetype": "text/x-python",
   "name": "python",
   "nbconvert_exporter": "python",
   "pygments_lexer": "ipython3",
   "version": "3.11.12"
  }
 },
 "nbformat": 4,
 "nbformat_minor": 5
}
