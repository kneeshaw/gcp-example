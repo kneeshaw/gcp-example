{
 "cells": [
  {
   "cell_type": "markdown",
   "id": "be32dabe",
   "metadata": {},
   "source": [
    "# Shape → Road Link Mapping (Basics)\n",
    "This notebook focuses on a minimal, inspectable mapping from a single GTFS shape_id to OSM road links.\n",
    "\n",
    "What it does:\n",
    "- Select candidate road links near the shape\n",
    "- Compute overlap length with a small buffer around the shape\n",
    "- Apply absolute and ratio thresholds to reduce false positives\n",
    "- Preview results (counts + sample)\n",
    "- Optional: materialize to a clean table one shape at a time"
   ]
  },
  {
   "cell_type": "code",
   "execution_count": 5,
   "id": "557cfbe5",
   "metadata": {},
   "outputs": [
    {
     "name": "stdout",
     "output_type": "stream",
     "text": [
      "{'project_id': 'regal-dynamo-470908-v9', 'dataset_id': 'auckland_data_dev', 'location': 'australia-southeast1', 'shape_id': '240-96608-0ba0b9ba'}\n"
     ]
    }
   ],
   "source": [
    "# Configure variables\n",
    "import os\n",
    "from pathlib import Path\n",
    "from google.cloud import bigquery\n",
    "from google.oauth2 import service_account\n",
    "from IPython.display import display\n",
    "\n",
    "project_id = os.environ.get(\"BQ_PROJECT\", \"regal-dynamo-470908-v9\")\n",
    "dataset_id = os.environ.get(\"BQ_DATASET\", \"auckland_data_dev\")\n",
    "location = os.environ.get(\"BQ_LOCATION\", \"australia-southeast1\")\n",
    "# Set a target shape_id to test mapping (edit this)\n",
    "shape_id = os.environ.get(\"SINGLE_SHAPE_ID\", \"240-96608-0ba0b9ba\")\n",
    "\n",
    "print({\"project_id\": project_id, \"dataset_id\": dataset_id, \"location\": location, \"shape_id\": shape_id})"
   ]
  },
  {
   "cell_type": "code",
   "execution_count": 6,
   "id": "a9f825c8",
   "metadata": {},
   "outputs": [],
   "source": [
    "# BigQuery client + helper\n",
    "credentials_path = os.environ.get(\"GOOGLE_APPLICATION_CREDENTIALS_JSON\")\n",
    "if credentials_path and Path(credentials_path).exists():\n",
    "    creds = service_account.Credentials.from_service_account_file(credentials_path)\n",
    "    client = bigquery.Client(project=project_id, credentials=creds)\n",
    "else:\n",
    "    client = bigquery.Client(project=project_id)\n",
    "\n",
    "def run_sql_loc(sql: str, params=None):\n",
    "    job_config = bigquery.QueryJobConfig(query_parameters=params or [])\n",
    "    job = client.query(sql, job_config=job_config, location=location)\n",
    "    res = job.result()\n",
    "    print(f\"Job {job.job_id} done. bytes={job.total_bytes_processed:,} cache={job.cache_hit}\")\n",
    "    return res.to_dataframe()"
   ]
  },
  {
   "cell_type": "code",
   "execution_count": 12,
   "id": "b01d83a2",
   "metadata": {},
   "outputs": [
    {
     "name": "stdout",
     "output_type": "stream",
     "text": [
      "Job 1de3051e-0465-4e00-b011-03bb194b30c9 done. bytes=35,073,952 cache=False\n",
      "rows=177\n"
     ]
    },
    {
     "data": {
      "application/vnd.microsoft.datawrangler.viewer.v0+json": {
       "columns": [
        {
         "name": "index",
         "rawType": "int64",
         "type": "integer"
        },
        {
         "name": "shape_id",
         "rawType": "object",
         "type": "string"
        },
        {
         "name": "edge_id",
         "rawType": "Int64",
         "type": "integer"
        },
        {
         "name": "road_name",
         "rawType": "object",
         "type": "unknown"
        },
        {
         "name": "highway",
         "rawType": "object",
         "type": "string"
        },
        {
         "name": "oneway",
         "rawType": "object",
         "type": "unknown"
        },
        {
         "name": "maxspeed",
         "rawType": "object",
         "type": "unknown"
        },
        {
         "name": "edge_length_m",
         "rawType": "float64",
         "type": "float"
        },
        {
         "name": "overlap_m",
         "rawType": "float64",
         "type": "float"
        },
        {
         "name": "overlap_ratio",
         "rawType": "float64",
         "type": "float"
        },
        {
         "name": "edge_geom",
         "rawType": "object",
         "type": "string"
        }
       ],
       "ref": "14059368-f729-4f5c-a0d7-12d7ee85f382",
       "rows": [
        [
         "0",
         "240-96608-0ba0b9ba",
         "149318811",
         "Onewa Road",
         "primary",
         null,
         "50",
         "149.45005480127168",
         "149.45005480127168",
         "1.0",
         "LINESTRING(174.7461579 -36.8118231, 174.7467393 -36.8119936, 174.7468447 -36.812026, 174.7471858 -36.8121308, 174.7473274 -36.8121766, 174.7474602 -36.8122118, 174.7475435 -36.8122273, 174.7476379 -36.812241, 174.7477445 -36.8122506)"
        ],
        [
         "1",
         "240-96608-0ba0b9ba",
         "613882668",
         "Onewa Road",
         "primary",
         null,
         "50",
         "25.030688354058974",
         "25.030688354058974",
         "1.0",
         "LINESTRING(174.7428232 -36.8108144, 174.7430862 -36.810894)"
        ],
        [
         "2",
         "240-96608-0ba0b9ba",
         "617488818",
         "Khyber Pass Road",
         "primary",
         null,
         "50",
         "28.910288903739147",
         "28.910288903739147",
         "1.0",
         "LINESTRING(174.7705124 -36.8660219, 174.7708276 -36.8660852)"
        ],
        [
         "3",
         "240-96608-0ba0b9ba",
         "628160158",
         "Jervois Road",
         "secondary",
         null,
         "50",
         "89.52878625482772",
         "89.52878625482772",
         "1.0",
         "LINESTRING(174.7413495 -36.8456053, 174.7418928 -36.8459342, 174.7421526 -36.8460903)"
        ],
        [
         "4",
         "240-96608-0ba0b9ba",
         "627274269",
         "Khyber Pass Road",
         "secondary",
         null,
         "50",
         "72.57496385629085",
         "72.57496385629085",
         "1.0",
         "LINESTRING(174.7754956 -36.8670936, 174.776284 -36.8672614)"
        ],
        [
         "5",
         "240-96608-0ba0b9ba",
         "158619823",
         null,
         "motorway_link",
         "yes",
         "50",
         "28.53928318208155",
         "28.53928318208155",
         "1.0",
         "LINESTRING(174.7515171 -36.8135865, 174.751495 -36.8134936, 174.7514603 -36.8133954, 174.7514346 -36.813339)"
        ],
        [
         "6",
         "240-96608-0ba0b9ba",
         "8371382",
         "Karangahape Road",
         "secondary",
         null,
         "30",
         "65.84672538118123",
         "65.84672538118123",
         "1.0",
         "LINESTRING(174.7556931 -36.8583427, 174.7563827 -36.8581277)"
        ],
        [
         "7",
         "240-96608-0ba0b9ba",
         "616959767",
         "Birkenhead Avenue",
         "secondary",
         null,
         "50",
         "14.739427571069097",
         "14.739427571069097",
         "1.0",
         "LINESTRING(174.7257859 -36.8108446, 174.7258377 -36.8109705)"
        ],
        [
         "8",
         "240-96608-0ba0b9ba",
         "7638428",
         "Curran Street",
         "secondary",
         null,
         "50",
         "399.7461833957755",
         "399.7461833957755",
         "1.0",
         "LINESTRING(174.7395739 -36.8410722, 174.739668 -36.8415728, 174.7397437 -36.8419757, 174.7398618 -36.8426358, 174.7398733 -36.8426996, 174.7399206 -36.842964, 174.739932 -36.8430278, 174.7399368 -36.8430551, 174.7399668 -36.8432241, 174.7400537 -36.8437143, 174.7400755 -36.8438373, 174.7400871 -36.8439027, 174.740112 -36.8440429, 174.7401734 -36.8443893, 174.7401787 -36.8444194, 174.7402119 -36.8446307)"
        ],
        [
         "9",
         "240-96608-0ba0b9ba",
         "813754043",
         null,
         "service",
         "yes",
         null,
         "116.41952328024422",
         "28.916076030607446",
         "0.24837823773767637",
         "LINESTRING(174.739711 -36.8382883, 174.7399031 -36.8381645, 174.7401154 -36.8380257, 174.7403419 -36.8378756, 174.7404693 -36.8377368, 174.7404764 -36.8376546, 174.74048 -36.8375867, 174.7405014 -36.8375165)"
        ],
        [
         "10",
         "240-96608-0ba0b9ba",
         "163683242",
         "Khyber Pass Road",
         "primary",
         null,
         "50",
         "40.92380168868131",
         "40.92380168868131",
         "1.0",
         "LINESTRING(174.771767 -36.8662964, 174.7722113 -36.8663918)"
        ],
        [
         "11",
         "240-96608-0ba0b9ba",
         "628160155",
         "Jervois Road",
         "secondary",
         null,
         "50",
         "22.49057287621593",
         "22.49057287621593",
         "1.0",
         "LINESTRING(174.7411466 -36.8454847, 174.7412382 -36.8455385, 174.7413495 -36.8456053)"
        ],
        [
         "12",
         "240-96608-0ba0b9ba",
         "612703666",
         "Ponsonby Road",
         "secondary",
         null,
         "40",
         "59.64428558693655",
         "59.64428558693655",
         "1.0",
         "LINESTRING(174.7497127 -36.8580639, 174.7500917 -36.8582689, 174.7502686 -36.8583637)"
        ],
        [
         "13",
         "240-96608-0ba0b9ba",
         "881802681",
         "Onewa Road",
         "primary",
         null,
         "50",
         "40.06655353473627",
         "40.06655353473627",
         "1.0",
         "LINESTRING(174.7497059 -36.8122421, 174.7501559 -36.8122358)"
        ],
        [
         "14",
         "240-96608-0ba0b9ba",
         "628328464",
         "Onewa Road",
         "primary",
         null,
         "50",
         "83.62772421007777",
         "83.62772421007777",
         "1.0",
         "LINESTRING(174.7451676 -36.8115243, 174.74533 -36.8115725, 174.7460465 -36.8117898)"
        ],
        [
         "15",
         "240-96608-0ba0b9ba",
         "883951048",
         "Ponsonby Road",
         "secondary",
         null,
         "40",
         "13.370127240065703",
         "13.370127240065703",
         "1.0",
         "LINESTRING(174.7526269 -36.8596506, 174.7527466 -36.8597233)"
        ],
        [
         "16",
         "240-96608-0ba0b9ba",
         "612703662",
         "Ponsonby Road",
         "secondary",
         null,
         "40",
         "35.52141421565476",
         "35.52141421565476",
         "1.0",
         "LINESTRING(174.7510373 -36.8587788, 174.751369 -36.8589566)"
        ],
        [
         "17",
         "240-96608-0ba0b9ba",
         "101960141",
         null,
         "motorway_link",
         "yes",
         "80",
         "66.43857568971306",
         "12.00199280493706",
         "0.1806479546007994",
         "LINESTRING(174.7559911 -36.8585784, 174.7557068 -36.8580259)"
        ],
        [
         "18",
         "240-96608-0ba0b9ba",
         "616959763",
         "Birkenhead Avenue",
         "secondary",
         null,
         "50",
         "31.1140785483477",
         "31.1140785483477",
         "1.0",
         "LINESTRING(174.7254991 -36.8100852, 174.7255347 -36.8101948, 174.7255871 -36.810356)"
        ],
        [
         "19",
         "240-96608-0ba0b9ba",
         "834058910",
         "Park Road",
         "secondary",
         null,
         "50",
         "23.99765032133594",
         "23.99765032133594",
         "1.0",
         "LINESTRING(174.7710895 -36.8641547, 174.7710273 -36.8643647)"
        ]
       ],
       "shape": {
        "columns": 10,
        "rows": 20
       }
      },
      "text/html": [
       "<div>\n",
       "<style scoped>\n",
       "    .dataframe tbody tr th:only-of-type {\n",
       "        vertical-align: middle;\n",
       "    }\n",
       "\n",
       "    .dataframe tbody tr th {\n",
       "        vertical-align: top;\n",
       "    }\n",
       "\n",
       "    .dataframe thead th {\n",
       "        text-align: right;\n",
       "    }\n",
       "</style>\n",
       "<table border=\"1\" class=\"dataframe\">\n",
       "  <thead>\n",
       "    <tr style=\"text-align: right;\">\n",
       "      <th></th>\n",
       "      <th>shape_id</th>\n",
       "      <th>edge_id</th>\n",
       "      <th>road_name</th>\n",
       "      <th>highway</th>\n",
       "      <th>oneway</th>\n",
       "      <th>maxspeed</th>\n",
       "      <th>edge_length_m</th>\n",
       "      <th>overlap_m</th>\n",
       "      <th>overlap_ratio</th>\n",
       "      <th>edge_geom</th>\n",
       "    </tr>\n",
       "  </thead>\n",
       "  <tbody>\n",
       "    <tr>\n",
       "      <th>0</th>\n",
       "      <td>240-96608-0ba0b9ba</td>\n",
       "      <td>149318811</td>\n",
       "      <td>Onewa Road</td>\n",
       "      <td>primary</td>\n",
       "      <td>None</td>\n",
       "      <td>50</td>\n",
       "      <td>149.450055</td>\n",
       "      <td>149.450055</td>\n",
       "      <td>1.000000</td>\n",
       "      <td>LINESTRING(174.7461579 -36.8118231, 174.746739...</td>\n",
       "    </tr>\n",
       "    <tr>\n",
       "      <th>1</th>\n",
       "      <td>240-96608-0ba0b9ba</td>\n",
       "      <td>613882668</td>\n",
       "      <td>Onewa Road</td>\n",
       "      <td>primary</td>\n",
       "      <td>None</td>\n",
       "      <td>50</td>\n",
       "      <td>25.030688</td>\n",
       "      <td>25.030688</td>\n",
       "      <td>1.000000</td>\n",
       "      <td>LINESTRING(174.7428232 -36.8108144, 174.743086...</td>\n",
       "    </tr>\n",
       "    <tr>\n",
       "      <th>2</th>\n",
       "      <td>240-96608-0ba0b9ba</td>\n",
       "      <td>617488818</td>\n",
       "      <td>Khyber Pass Road</td>\n",
       "      <td>primary</td>\n",
       "      <td>None</td>\n",
       "      <td>50</td>\n",
       "      <td>28.910289</td>\n",
       "      <td>28.910289</td>\n",
       "      <td>1.000000</td>\n",
       "      <td>LINESTRING(174.7705124 -36.8660219, 174.770827...</td>\n",
       "    </tr>\n",
       "    <tr>\n",
       "      <th>3</th>\n",
       "      <td>240-96608-0ba0b9ba</td>\n",
       "      <td>628160158</td>\n",
       "      <td>Jervois Road</td>\n",
       "      <td>secondary</td>\n",
       "      <td>None</td>\n",
       "      <td>50</td>\n",
       "      <td>89.528786</td>\n",
       "      <td>89.528786</td>\n",
       "      <td>1.000000</td>\n",
       "      <td>LINESTRING(174.7413495 -36.8456053, 174.741892...</td>\n",
       "    </tr>\n",
       "    <tr>\n",
       "      <th>4</th>\n",
       "      <td>240-96608-0ba0b9ba</td>\n",
       "      <td>627274269</td>\n",
       "      <td>Khyber Pass Road</td>\n",
       "      <td>secondary</td>\n",
       "      <td>None</td>\n",
       "      <td>50</td>\n",
       "      <td>72.574964</td>\n",
       "      <td>72.574964</td>\n",
       "      <td>1.000000</td>\n",
       "      <td>LINESTRING(174.7754956 -36.8670936, 174.776284...</td>\n",
       "    </tr>\n",
       "    <tr>\n",
       "      <th>5</th>\n",
       "      <td>240-96608-0ba0b9ba</td>\n",
       "      <td>158619823</td>\n",
       "      <td>None</td>\n",
       "      <td>motorway_link</td>\n",
       "      <td>yes</td>\n",
       "      <td>50</td>\n",
       "      <td>28.539283</td>\n",
       "      <td>28.539283</td>\n",
       "      <td>1.000000</td>\n",
       "      <td>LINESTRING(174.7515171 -36.8135865, 174.751495...</td>\n",
       "    </tr>\n",
       "    <tr>\n",
       "      <th>6</th>\n",
       "      <td>240-96608-0ba0b9ba</td>\n",
       "      <td>8371382</td>\n",
       "      <td>Karangahape Road</td>\n",
       "      <td>secondary</td>\n",
       "      <td>None</td>\n",
       "      <td>30</td>\n",
       "      <td>65.846725</td>\n",
       "      <td>65.846725</td>\n",
       "      <td>1.000000</td>\n",
       "      <td>LINESTRING(174.7556931 -36.8583427, 174.756382...</td>\n",
       "    </tr>\n",
       "    <tr>\n",
       "      <th>7</th>\n",
       "      <td>240-96608-0ba0b9ba</td>\n",
       "      <td>616959767</td>\n",
       "      <td>Birkenhead Avenue</td>\n",
       "      <td>secondary</td>\n",
       "      <td>None</td>\n",
       "      <td>50</td>\n",
       "      <td>14.739428</td>\n",
       "      <td>14.739428</td>\n",
       "      <td>1.000000</td>\n",
       "      <td>LINESTRING(174.7257859 -36.8108446, 174.725837...</td>\n",
       "    </tr>\n",
       "    <tr>\n",
       "      <th>8</th>\n",
       "      <td>240-96608-0ba0b9ba</td>\n",
       "      <td>7638428</td>\n",
       "      <td>Curran Street</td>\n",
       "      <td>secondary</td>\n",
       "      <td>None</td>\n",
       "      <td>50</td>\n",
       "      <td>399.746183</td>\n",
       "      <td>399.746183</td>\n",
       "      <td>1.000000</td>\n",
       "      <td>LINESTRING(174.7395739 -36.8410722, 174.739668...</td>\n",
       "    </tr>\n",
       "    <tr>\n",
       "      <th>9</th>\n",
       "      <td>240-96608-0ba0b9ba</td>\n",
       "      <td>813754043</td>\n",
       "      <td>None</td>\n",
       "      <td>service</td>\n",
       "      <td>yes</td>\n",
       "      <td>None</td>\n",
       "      <td>116.419523</td>\n",
       "      <td>28.916076</td>\n",
       "      <td>0.248378</td>\n",
       "      <td>LINESTRING(174.739711 -36.8382883, 174.7399031...</td>\n",
       "    </tr>\n",
       "    <tr>\n",
       "      <th>10</th>\n",
       "      <td>240-96608-0ba0b9ba</td>\n",
       "      <td>163683242</td>\n",
       "      <td>Khyber Pass Road</td>\n",
       "      <td>primary</td>\n",
       "      <td>None</td>\n",
       "      <td>50</td>\n",
       "      <td>40.923802</td>\n",
       "      <td>40.923802</td>\n",
       "      <td>1.000000</td>\n",
       "      <td>LINESTRING(174.771767 -36.8662964, 174.7722113...</td>\n",
       "    </tr>\n",
       "    <tr>\n",
       "      <th>11</th>\n",
       "      <td>240-96608-0ba0b9ba</td>\n",
       "      <td>628160155</td>\n",
       "      <td>Jervois Road</td>\n",
       "      <td>secondary</td>\n",
       "      <td>None</td>\n",
       "      <td>50</td>\n",
       "      <td>22.490573</td>\n",
       "      <td>22.490573</td>\n",
       "      <td>1.000000</td>\n",
       "      <td>LINESTRING(174.7411466 -36.8454847, 174.741238...</td>\n",
       "    </tr>\n",
       "    <tr>\n",
       "      <th>12</th>\n",
       "      <td>240-96608-0ba0b9ba</td>\n",
       "      <td>612703666</td>\n",
       "      <td>Ponsonby Road</td>\n",
       "      <td>secondary</td>\n",
       "      <td>None</td>\n",
       "      <td>40</td>\n",
       "      <td>59.644286</td>\n",
       "      <td>59.644286</td>\n",
       "      <td>1.000000</td>\n",
       "      <td>LINESTRING(174.7497127 -36.8580639, 174.750091...</td>\n",
       "    </tr>\n",
       "    <tr>\n",
       "      <th>13</th>\n",
       "      <td>240-96608-0ba0b9ba</td>\n",
       "      <td>881802681</td>\n",
       "      <td>Onewa Road</td>\n",
       "      <td>primary</td>\n",
       "      <td>None</td>\n",
       "      <td>50</td>\n",
       "      <td>40.066554</td>\n",
       "      <td>40.066554</td>\n",
       "      <td>1.000000</td>\n",
       "      <td>LINESTRING(174.7497059 -36.8122421, 174.750155...</td>\n",
       "    </tr>\n",
       "    <tr>\n",
       "      <th>14</th>\n",
       "      <td>240-96608-0ba0b9ba</td>\n",
       "      <td>628328464</td>\n",
       "      <td>Onewa Road</td>\n",
       "      <td>primary</td>\n",
       "      <td>None</td>\n",
       "      <td>50</td>\n",
       "      <td>83.627724</td>\n",
       "      <td>83.627724</td>\n",
       "      <td>1.000000</td>\n",
       "      <td>LINESTRING(174.7451676 -36.8115243, 174.74533 ...</td>\n",
       "    </tr>\n",
       "    <tr>\n",
       "      <th>15</th>\n",
       "      <td>240-96608-0ba0b9ba</td>\n",
       "      <td>883951048</td>\n",
       "      <td>Ponsonby Road</td>\n",
       "      <td>secondary</td>\n",
       "      <td>None</td>\n",
       "      <td>40</td>\n",
       "      <td>13.370127</td>\n",
       "      <td>13.370127</td>\n",
       "      <td>1.000000</td>\n",
       "      <td>LINESTRING(174.7526269 -36.8596506, 174.752746...</td>\n",
       "    </tr>\n",
       "    <tr>\n",
       "      <th>16</th>\n",
       "      <td>240-96608-0ba0b9ba</td>\n",
       "      <td>612703662</td>\n",
       "      <td>Ponsonby Road</td>\n",
       "      <td>secondary</td>\n",
       "      <td>None</td>\n",
       "      <td>40</td>\n",
       "      <td>35.521414</td>\n",
       "      <td>35.521414</td>\n",
       "      <td>1.000000</td>\n",
       "      <td>LINESTRING(174.7510373 -36.8587788, 174.751369...</td>\n",
       "    </tr>\n",
       "    <tr>\n",
       "      <th>17</th>\n",
       "      <td>240-96608-0ba0b9ba</td>\n",
       "      <td>101960141</td>\n",
       "      <td>None</td>\n",
       "      <td>motorway_link</td>\n",
       "      <td>yes</td>\n",
       "      <td>80</td>\n",
       "      <td>66.438576</td>\n",
       "      <td>12.001993</td>\n",
       "      <td>0.180648</td>\n",
       "      <td>LINESTRING(174.7559911 -36.8585784, 174.755706...</td>\n",
       "    </tr>\n",
       "    <tr>\n",
       "      <th>18</th>\n",
       "      <td>240-96608-0ba0b9ba</td>\n",
       "      <td>616959763</td>\n",
       "      <td>Birkenhead Avenue</td>\n",
       "      <td>secondary</td>\n",
       "      <td>None</td>\n",
       "      <td>50</td>\n",
       "      <td>31.114079</td>\n",
       "      <td>31.114079</td>\n",
       "      <td>1.000000</td>\n",
       "      <td>LINESTRING(174.7254991 -36.8100852, 174.725534...</td>\n",
       "    </tr>\n",
       "    <tr>\n",
       "      <th>19</th>\n",
       "      <td>240-96608-0ba0b9ba</td>\n",
       "      <td>834058910</td>\n",
       "      <td>Park Road</td>\n",
       "      <td>secondary</td>\n",
       "      <td>None</td>\n",
       "      <td>50</td>\n",
       "      <td>23.997650</td>\n",
       "      <td>23.997650</td>\n",
       "      <td>1.000000</td>\n",
       "      <td>LINESTRING(174.7710895 -36.8641547, 174.771027...</td>\n",
       "    </tr>\n",
       "  </tbody>\n",
       "</table>\n",
       "</div>"
      ],
      "text/plain": [
       "              shape_id    edge_id          road_name        highway oneway  \\\n",
       "0   240-96608-0ba0b9ba  149318811         Onewa Road        primary   None   \n",
       "1   240-96608-0ba0b9ba  613882668         Onewa Road        primary   None   \n",
       "2   240-96608-0ba0b9ba  617488818   Khyber Pass Road        primary   None   \n",
       "3   240-96608-0ba0b9ba  628160158       Jervois Road      secondary   None   \n",
       "4   240-96608-0ba0b9ba  627274269   Khyber Pass Road      secondary   None   \n",
       "5   240-96608-0ba0b9ba  158619823               None  motorway_link    yes   \n",
       "6   240-96608-0ba0b9ba    8371382   Karangahape Road      secondary   None   \n",
       "7   240-96608-0ba0b9ba  616959767  Birkenhead Avenue      secondary   None   \n",
       "8   240-96608-0ba0b9ba    7638428      Curran Street      secondary   None   \n",
       "9   240-96608-0ba0b9ba  813754043               None        service    yes   \n",
       "10  240-96608-0ba0b9ba  163683242   Khyber Pass Road        primary   None   \n",
       "11  240-96608-0ba0b9ba  628160155       Jervois Road      secondary   None   \n",
       "12  240-96608-0ba0b9ba  612703666      Ponsonby Road      secondary   None   \n",
       "13  240-96608-0ba0b9ba  881802681         Onewa Road        primary   None   \n",
       "14  240-96608-0ba0b9ba  628328464         Onewa Road        primary   None   \n",
       "15  240-96608-0ba0b9ba  883951048      Ponsonby Road      secondary   None   \n",
       "16  240-96608-0ba0b9ba  612703662      Ponsonby Road      secondary   None   \n",
       "17  240-96608-0ba0b9ba  101960141               None  motorway_link    yes   \n",
       "18  240-96608-0ba0b9ba  616959763  Birkenhead Avenue      secondary   None   \n",
       "19  240-96608-0ba0b9ba  834058910          Park Road      secondary   None   \n",
       "\n",
       "   maxspeed  edge_length_m   overlap_m  overlap_ratio  \\\n",
       "0        50     149.450055  149.450055       1.000000   \n",
       "1        50      25.030688   25.030688       1.000000   \n",
       "2        50      28.910289   28.910289       1.000000   \n",
       "3        50      89.528786   89.528786       1.000000   \n",
       "4        50      72.574964   72.574964       1.000000   \n",
       "5        50      28.539283   28.539283       1.000000   \n",
       "6        30      65.846725   65.846725       1.000000   \n",
       "7        50      14.739428   14.739428       1.000000   \n",
       "8        50     399.746183  399.746183       1.000000   \n",
       "9      None     116.419523   28.916076       0.248378   \n",
       "10       50      40.923802   40.923802       1.000000   \n",
       "11       50      22.490573   22.490573       1.000000   \n",
       "12       40      59.644286   59.644286       1.000000   \n",
       "13       50      40.066554   40.066554       1.000000   \n",
       "14       50      83.627724   83.627724       1.000000   \n",
       "15       40      13.370127   13.370127       1.000000   \n",
       "16       40      35.521414   35.521414       1.000000   \n",
       "17       80      66.438576   12.001993       0.180648   \n",
       "18       50      31.114079   31.114079       1.000000   \n",
       "19       50      23.997650   23.997650       1.000000   \n",
       "\n",
       "                                            edge_geom  \n",
       "0   LINESTRING(174.7461579 -36.8118231, 174.746739...  \n",
       "1   LINESTRING(174.7428232 -36.8108144, 174.743086...  \n",
       "2   LINESTRING(174.7705124 -36.8660219, 174.770827...  \n",
       "3   LINESTRING(174.7413495 -36.8456053, 174.741892...  \n",
       "4   LINESTRING(174.7754956 -36.8670936, 174.776284...  \n",
       "5   LINESTRING(174.7515171 -36.8135865, 174.751495...  \n",
       "6   LINESTRING(174.7556931 -36.8583427, 174.756382...  \n",
       "7   LINESTRING(174.7257859 -36.8108446, 174.725837...  \n",
       "8   LINESTRING(174.7395739 -36.8410722, 174.739668...  \n",
       "9   LINESTRING(174.739711 -36.8382883, 174.7399031...  \n",
       "10  LINESTRING(174.771767 -36.8662964, 174.7722113...  \n",
       "11  LINESTRING(174.7411466 -36.8454847, 174.741238...  \n",
       "12  LINESTRING(174.7497127 -36.8580639, 174.750091...  \n",
       "13  LINESTRING(174.7497059 -36.8122421, 174.750155...  \n",
       "14  LINESTRING(174.7451676 -36.8115243, 174.74533 ...  \n",
       "15  LINESTRING(174.7526269 -36.8596506, 174.752746...  \n",
       "16  LINESTRING(174.7510373 -36.8587788, 174.751369...  \n",
       "17  LINESTRING(174.7559911 -36.8585784, 174.755706...  \n",
       "18  LINESTRING(174.7254991 -36.8100852, 174.725534...  \n",
       "19  LINESTRING(174.7710895 -36.8641547, 174.771027...  "
      ]
     },
     "metadata": {},
     "output_type": "display_data"
    }
   ],
   "source": [
    "# Map a single shape_id to nearby road links\n",
    "# Tunables (meters):\n",
    "BUF_M = 6.0        # buffer around the shape for overlap measurement\n",
    "BBOX_M = 25.0      # bounding box margin around the shape to prefilter roads\n",
    "OVERLAP_MIN = 10.0 # keep edges with at least this many meters overlapped\n",
    "RATIO_MIN = 0.15   # keep edges where overlap/edge_length >= this ratio\n",
    "\n",
    "sql = f\"\"\"\n",
    "WITH s AS (\n",
    "  SELECT\n",
    "    shape_id,\n",
    "    geom,\n",
    "    ST_BUFFER(geom, @buf_m) AS buf_geom,\n",
    "    ST_BOUNDINGBOX(ST_BUFFER(geom, @bbox_m)) AS env_box\n",
    "  FROM `{project_id}.{dataset_id}.shapes_geog`\n",
    "  WHERE shape_id = @shape_id\n",
    "), r AS (\n",
    "  SELECT\n",
    "    edge_id, name AS road_name, highway, oneway, maxspeed,\n",
    "    length_m AS edge_length_m, geom AS edge_geom\n",
    "  FROM `{project_id}.{dataset_id}.vw_osm_akl_road_links`\n",
    "  WHERE highway NOT IN ('footway','path','cycleway','steps','track','pedestrian','bridleway','corridor')\n",
    ")\n",
    "SELECT\n",
    "  s.shape_id, r.edge_id, r.road_name, r.highway, r.oneway, r.maxspeed, r.edge_length_m,\n",
    "  ST_LENGTH(ST_INTERSECTION(r.edge_geom, s.buf_geom)) AS overlap_m,\n",
    "  SAFE_DIVIDE(ST_LENGTH(ST_INTERSECTION(r.edge_geom, s.buf_geom)), r.edge_length_m) AS overlap_ratio,\n",
    "  r.edge_geom\n",
    "FROM s\n",
    "JOIN r\n",
    "  ON ST_INTERSECTSBOX(r.edge_geom, s.env_box.xmin, s.env_box.ymin, s.env_box.xmax, s.env_box.ymax)\n",
    "WHERE ST_LENGTH(ST_INTERSECTION(r.edge_geom, s.buf_geom)) > @overlap_min\n",
    "  AND SAFE_DIVIDE(ST_LENGTH(ST_INTERSECTION(r.edge_geom, s.buf_geom)), r.edge_length_m) >= @ratio_min\n",
    "\"\"\"\n",
    "params = [\n",
    "  bigquery.ScalarQueryParameter('shape_id', 'STRING', shape_id),\n",
    "  bigquery.ScalarQueryParameter('buf_m', 'FLOAT64', BUF_M),\n",
    "  bigquery.ScalarQueryParameter('bbox_m', 'FLOAT64', BBOX_M),\n",
    "  bigquery.ScalarQueryParameter('overlap_min', 'FLOAT64', OVERLAP_MIN),\n",
    "  bigquery.ScalarQueryParameter('ratio_min', 'FLOAT64', RATIO_MIN),\n",
    "]\n",
    "df = run_sql_loc(sql, params)\n",
    "print(f\"rows={len(df)}\")\n",
    "display(df.head(20))"
   ]
  },
  {
   "cell_type": "markdown",
   "id": "0e80ecb5",
   "metadata": {},
   "source": [
    "## Plot edge geometries (Plotly Express)\n",
    "Simple map of the road link geometries already in `df` using Plotly Express (no extra queries)."
   ]
  },
  {
   "cell_type": "code",
   "execution_count": 13,
   "id": "86bbe3a1",
   "metadata": {},
   "outputs": [
    {
     "name": "stderr",
     "output_type": "stream",
     "text": [
      "/var/folders/yb/hshltv157x9fyt_dsl7vnn940000gn/T/ipykernel_10505/940428077.py:63: DeprecationWarning:\n",
      "\n",
      "*line_mapbox* is deprecated! Use *line_map* instead. Learn more at: https://plotly.com/python/mapbox-to-maplibre/\n",
      "\n"
     ]
    },
    {
     "data": {
      "application/vnd.plotly.v1+json": {
       "config": {
        "plotlyServerURL": "https://plot.ly"
       },
       "data": [
        {
         "hovertemplate": "edge_id=149318811<br>segment=149318811-0<br>lat=%{lat}<br>lon=%{lon}<extra></extra>",
         "lat": {
          "bdata": "lFHA0elnQsDZRwJo72dCwDjAzHfwZ0LAgwnt5vNnQsDKyR9n9WdCwHA2Z472Z0LAjjVtEPdnQsA0vFmD92dCwASU4dP3Z0LA",
          "dtype": "f8"
         },
         "legendgroup": "149318811",
         "line": {
          "color": "#636efa"
         },
         "lon": {
          "bdata": "3USIhuDXZUBqBNFJ5ddlQBw22ybm12VAJOEx8ujXZUDzzCYb6tdlQPlBpzHr12VAzJpY4OvXZUABOFGm7NdlQHKo34Xt12VA",
          "dtype": "f8"
         },
         "mode": "lines",
         "name": "149318811",
         "showlegend": true,
         "subplot": "mapbox",
         "type": "scattermapbox"
        },
        {
         "hovertemplate": "edge_id=613882668<br>segment=613882668-0<br>lat=%{lat}<br>lon=%{lon}<extra></extra>",
         "lat": {
          "bdata": "HJApxMhnQsDlQuVfy2dCwA==",
          "dtype": "f8"
         },
         "legendgroup": "613882668",
         "line": {
          "color": "#EF553B"
         },
         "lon": {
          "bdata": "udYoNcXXZUB847Vcx9dlQA==",
          "dtype": "f8"
         },
         "mode": "lines",
         "name": "613882668",
         "showlegend": true,
         "subplot": "mapbox",
         "type": "scattermapbox"
        },
        {
         "hovertemplate": "edge_id=617488818<br>segment=617488818-0<br>lat=%{lat}<br>lon=%{lon}<extra></extra>",
         "lat": {
          "bdata": "VQ89ztluQsBaxjzh225CwA==",
          "dtype": "f8"
         },
         "legendgroup": "617488818",
         "line": {
          "color": "#00cc96"
         },
         "lon": {
          "bdata": "M+WeCajYZUBVm6SeqthlQA==",
          "dtype": "f8"
         },
         "mode": "lines",
         "name": "617488818",
         "showlegend": true,
         "subplot": "mapbox",
         "type": "scattermapbox"
        },
        {
         "hovertemplate": "edge_id=628160158<br>segment=628160158-0<br>lat=%{lat}<br>lon=%{lon}<extra></extra>",
         "lat": {
          "bdata": "gmliyzxsQsCyyGWSR2xCwD77269MbELA",
          "dtype": "f8"
         },
         "legendgroup": "628160158",
         "line": {
          "color": "#ab63fa"
         },
         "lon": {
          "bdata": "/iyWIrnXZUBpJPiVvddlQIY0z7a/12VA",
          "dtype": "f8"
         },
         "mode": "lines",
         "name": "628160158",
         "showlegend": true,
         "subplot": "mapbox",
         "type": "scattermapbox"
        },
        {
         "hovertemplate": "edge_id=627274269<br>segment=627274269-0<br>lat=%{lat}<br>lon=%{lon}<extra></extra>",
         "lat": {
          "bdata": "E0lP7PxuQsClCutrAm9CwA==",
          "dtype": "f8"
         },
         "legendgroup": "627274269",
         "line": {
          "color": "#FFA15A"
         },
         "lon": {
          "bdata": "JAYm3NDYZUAPDYtR19hlQA==",
          "dtype": "f8"
         },
         "mode": "lines",
         "name": "627274269",
         "showlegend": true,
         "subplot": "mapbox",
         "type": "scattermapbox"
        },
        {
         "hovertemplate": "edge_id=158619823<br>segment=158619823-0<br>lat=%{lat}<br>lon=%{lon}<extra></extra>",
         "lat": {
          "bdata": "yvs4miNoQsCuwOuOIGhCwMHbKFcdaELA2scKfhtoQsA=",
          "dtype": "f8"
         },
         "legendgroup": "158619823",
         "line": {
          "color": "#19d3f3"
         },
         "lon": {
          "bdata": "UNyWbQzYZUBxAz4/DNhlQMGXePYL2GVApwKTwAvYZUA=",
          "dtype": "f8"
         },
         "mode": "lines",
         "name": "158619823",
         "showlegend": true,
         "subplot": "mapbox",
         "type": "scattermapbox"
        },
        {
         "hovertemplate": "edge_id=8371382<br>segment=8371382-0<br>lat=%{lat}<br>lon=%{lon}<extra></extra>",
         "lat": {
          "bdata": "U6FwLN5tQsBWpeMg121CwA==",
          "dtype": "f8"
         },
         "legendgroup": "8371382",
         "line": {
          "color": "#FF6692"
         },
         "lon": {
          "bdata": "A8pLoy7YZUBT+H1JNNhlQA==",
          "dtype": "f8"
         },
         "mode": "lines",
         "name": "8371382",
         "showlegend": true,
         "subplot": "mapbox",
         "type": "scattermapbox"
        },
        {
         "hovertemplate": "edge_id=616959767<br>segment=616959767-0<br>lat=%{lat}<br>lon=%{lon}<extra></extra>",
         "lat": {
          "bdata": "sZF/wclnQsCpwp/hzWdCwA==",
          "dtype": "f8"
         },
         "legendgroup": "616959767",
         "line": {
          "color": "#B6E880"
         },
         "lon": {
          "bdata": "vAxaoznXZUCG9vsPOtdlQA==",
          "dtype": "f8"
         },
         "mode": "lines",
         "name": "616959767",
         "showlegend": true,
         "subplot": "mapbox",
         "type": "scattermapbox"
        },
        {
         "hovertemplate": "edge_id=7638428<br>segment=7638428-0<br>lat=%{lat}<br>lon=%{lon}<extra></extra>",
         "lat": {
          "bdata": "kkn8QKhrQsABmlKouGtCwGvDF9zFa0LAKrhpfdtrQsAYLZuU3WtCwEnajT7ma0LANk+/VehrQsDunME66WtCwHpZbsTua0LActWG1P5rQsCNUlPcAmxCwMjA8AAFbELA4/UFmQlsQsDSS9byFGxCwNGNVe8VbELAS9nY2xxsQsA=",
          "dtype": "f8"
         },
         "legendgroup": "7638428",
         "line": {
          "color": "#FF97FF"
         },
         "lon": {
          "bdata": "NS/ilqrXZUC6vDlcq9dlQIHd+vqr12VA6VGn8qzXZUDgVcUKrddlQGBU922t12VAcqjfha3XZUBso/CPrddlQAbE2s6t12VAFdkYha7XZUBEotCyrtdlQCFWJMuu12VAEmxc/67XZUDQSyCAr9dlQES2PYuv12VAhdPd0K/XZUA=",
          "dtype": "f8"
         },
         "mode": "lines",
         "name": "7638428",
         "showlegend": true,
         "subplot": "mapbox",
         "type": "scattermapbox"
        },
        {
         "hovertemplate": "edge_id=813754043<br>segment=813754043-0<br>lat=%{lat}<br>lon=%{lon}<extra></extra>",
         "lat": {
          "bdata": "So/wB01rQsCHFW75SGtCwJBaF21Ea0LA5Q72gT9rQsDuU5/1OmtCwAcsFEQ4a0LARAh+CjZrQsAhrpy9M2tCwA==",
          "dtype": "f8"
         },
         "legendgroup": "813754043",
         "line": {
          "color": "#FECB52"
         },
         "lon": {
          "bdata": "ui9ntqvXZUCwFkRJrddlQIPIfQav12VAeQt/4bDXZUAlZqzssddlQLcukPux12VA8uocA7LXZUCN9P0vstdlQA==",
          "dtype": "f8"
         },
         "mode": "lines",
         "name": "813754043",
         "showlegend": true,
         "subplot": "mapbox",
         "type": "scattermapbox"
        },
        {
         "hovertemplate": "edge_id=163683242<br>segment=163683242-0<br>lat=%{lat}<br>lon=%{lon}<extra></extra>",
         "lat": {
          "bdata": "P1LpzOJuQsDkQi/t5W5CwA==",
          "dtype": "f8"
         },
         "legendgroup": "163683242",
         "line": {
          "color": "#636efa"
         },
         "lon": {
          "bdata": "OiS1ULLYZUBB43j0tdhlQA==",
          "dtype": "f8"
         },
         "mode": "lines",
         "name": "163683242",
         "showlegend": true,
         "subplot": "mapbox",
         "type": "scattermapbox"
        },
        {
         "hovertemplate": "edge_id=628160155<br>segment=628160155-0<br>lat=%{lat}<br>lon=%{lon}<extra></extra>",
         "lat": {
          "bdata": "WuK31zhsQsAkgQabOmxCwIJpYss8bELA",
          "dtype": "f8"
         },
         "legendgroup": "628160155",
         "line": {
          "color": "#EF553B"
         },
         "lon": {
          "bdata": "VRETebfXZUB4cSw5uNdlQP4sliK512VA",
          "dtype": "f8"
         },
         "mode": "lines",
         "name": "628160155",
         "showlegend": true,
         "subplot": "mapbox",
         "type": "scattermapbox"
        },
        {
         "hovertemplate": "edge_id=612703666<br>segment=612703666-0<br>lat=%{lat}<br>lon=%{lon}<extra></extra>",
         "lat": {
          "bdata": "aTCyCdVtQsBCVlzB221CwGrJmdzebULA",
          "dtype": "f8"
         },
         "legendgroup": "612703666",
         "line": {
          "color": "#00cc96"
         },
         "lon": {
          "bdata": "q/x8pf3XZUAJEE/AANhlQOeGSzMC2GVA",
          "dtype": "f8"
         },
         "mode": "lines",
         "name": "612703666",
         "showlegend": true,
         "subplot": "mapbox",
         "type": "scattermapbox"
        },
        {
         "hovertemplate": "edge_id=881802681<br>segment=881802681-0<br>lat=%{lat}<br>lon=%{lon}<extra></extra>",
         "lat": {
          "bdata": "mfeTjPdnQsD50bpX92dCwA==",
          "dtype": "f8"
         },
         "legendgroup": "881802681",
         "line": {
          "color": "#ab63fa"
         },
         "lon": {
          "bdata": "yUM6l/3XZUDZLPJGAdhlQA==",
          "dtype": "f8"
         },
         "mode": "lines",
         "name": "881802681",
         "showlegend": true,
         "subplot": "mapbox",
         "type": "scattermapbox"
        },
        {
         "hovertemplate": "edge_id=628328464<br>segment=628328464-0<br>lat=%{lat}<br>lon=%{lon}<extra></extra>",
         "lat": {
          "bdata": "ZDQ8B+BnQsCe6pCb4WdCwPocabroZ0LA",
          "dtype": "f8"
         },
         "legendgroup": "628328464",
         "line": {
          "color": "#FFA15A"
         },
         "lon": {
          "bdata": "PgG5adjXZUBJ10y+2ddlQHPZ6Jzf12VA",
          "dtype": "f8"
         },
         "mode": "lines",
         "name": "628328464",
         "showlegend": true,
         "subplot": "mapbox",
         "type": "scattermapbox"
        },
        {
         "hovertemplate": "edge_id=883951048<br>segment=883951048-0<br>lat=%{lat}<br>lon=%{lon}<extra></extra>",
         "lat": {
          "bdata": "T37mBwluQsD6jcBpC25CwA==",
          "dtype": "f8"
         },
         "legendgroup": "883951048",
         "line": {
          "color": "#19d3f3"
         },
         "lon": {
          "bdata": "4DIChRXYZUCbpQmAFthlQA==",
          "dtype": "f8"
         },
         "mode": "lines",
         "name": "883951048",
         "showlegend": true,
         "subplot": "mapbox",
         "type": "scattermapbox"
        },
        {
         "hovertemplate": "edge_id=612703662<br>segment=612703662-0<br>lat=%{lat}<br>lon=%{lon}<extra></extra>",
         "lat": {
          "bdata": "wz+2duxtQsB41zRK8m1CwA==",
          "dtype": "f8"
         },
         "legendgroup": "612703662",
         "line": {
          "color": "#FF6692"
         },
         "lon": {
          "bdata": "cDJgfwjYZUBORwA3C9hlQA==",
          "dtype": "f8"
         },
         "mode": "lines",
         "name": "612703662",
         "showlegend": true,
         "subplot": "mapbox",
         "type": "scattermapbox"
        },
        {
         "hovertemplate": "edge_id=101960141<br>segment=101960141-0<br>lat=%{lat}<br>lon=%{lon}<extra></extra>",
         "lat": {
          "bdata": "qIai5eVtQsB8z+3K021CwA==",
          "dtype": "f8"
         },
         "legendgroup": "101960141",
         "line": {
          "color": "#B6E880"
         },
         "lon": {
          "bdata": "JVI/FDHYZUCt6wbALthlQA==",
          "dtype": "f8"
         },
         "mode": "lines",
         "name": "101960141",
         "showlegend": true,
         "subplot": "mapbox",
         "type": "scattermapbox"
        },
        {
         "hovertemplate": "edge_id=616959763<br>segment=616959763-0<br>lat=%{lat}<br>lon=%{lon}<extra></extra>",
         "lat": {
          "bdata": "oHww37BnQsDTsZR2tGdCwAYP0765Z0LA",
          "dtype": "f8"
         },
         "legendgroup": "616959763",
         "line": {
          "color": "#FF97FF"
         },
         "lon": {
          "bdata": "4XjjSTfXZUCfE4yUN9dlQMkccAI412VA",
          "dtype": "f8"
         },
         "mode": "lines",
         "name": "616959763",
         "showlegend": true,
         "subplot": "mapbox",
         "type": "scattermapbox"
        },
        {
         "hovertemplate": "edge_id=834058910<br>segment=834058910-0<br>lat=%{lat}<br>lon=%{lon}<extra></extra>",
         "lat": {
          "bdata": "pJcHn5xuQsCPKKOAo25CwA==",
          "dtype": "f8"
         },
         "legendgroup": "834058910",
         "line": {
          "color": "#FECB52"
         },
         "lon": {
          "bdata": "Pxnjw6zYZUBXunFBrNhlQA==",
          "dtype": "f8"
         },
         "mode": "lines",
         "name": "834058910",
         "showlegend": true,
         "subplot": "mapbox",
         "type": "scattermapbox"
        },
        {
         "hovertemplate": "edge_id=27353375<br>segment=27353375-0<br>lat=%{lat}<br>lon=%{lon}<extra></extra>",
         "lat": {
          "bdata": "Bg/TvrlnQsBHnAQlu2dCwGfKmMzCZ0LAsZF/wclnQsA=",
          "dtype": "f8"
         },
         "legendgroup": "27353375",
         "line": {
          "color": "#636efa"
         },
         "lon": {
          "bdata": "yRxwAjjXZUDISoImONdlQP7neuw412VAvAxaoznXZUA=",
          "dtype": "f8"
         },
         "mode": "lines",
         "name": "27353375",
         "showlegend": true,
         "subplot": "mapbox",
         "type": "scattermapbox"
        },
        {
         "hovertemplate": "edge_id=612703670<br>segment=612703670-0<br>lat=%{lat}<br>lon=%{lon}<extra></extra>",
         "lat": {
          "bdata": "OJcsOM1tQsBpMLIJ1W1CwA==",
          "dtype": "f8"
         },
         "legendgroup": "612703670",
         "line": {
          "color": "#EF553B"
         },
         "lon": {
          "bdata": "pD25AfrXZUCr/Hyl/ddlQA==",
          "dtype": "f8"
         },
         "mode": "lines",
         "name": "612703670",
         "showlegend": true,
         "subplot": "mapbox",
         "type": "scattermapbox"
        },
        {
         "hovertemplate": "edge_id=205619016<br>segment=205619016-0<br>lat=%{lat}<br>lon=%{lon}<extra></extra>",
         "lat": {
          "bdata": "KWfeYF5vQsCDhM2lXW9CwAZ9jjRdb0LAd/C4TV1vQsD0m9N2XW9CwMQrpFdeb0LAsYxoll9vQsDN2yJ6Y29CwA==",
          "dtype": "f8"
         },
         "legendgroup": "205619016",
         "line": {
          "color": "#00cc96"
         },
         "lon": {
          "bdata": "hZ/u8uPYZUBHNCZp49hlQCE5Pv/i2GVAEmkbf+LYZUAeRedG4thlQLNjfsnh2GVA8qPQaOHYZUB4Tmmz4NhlQA==",
          "dtype": "f8"
         },
         "mode": "lines",
         "name": "205619016",
         "showlegend": true,
         "subplot": "mapbox",
         "type": "scattermapbox"
        },
        {
         "hovertemplate": "edge_id=243407448<br>segment=243407448-0<br>lat=%{lat}<br>lon=%{lon}<extra></extra>",
         "lat": {
          "bdata": "kfP+P05oQsAheNc0SmhCwA==",
          "dtype": "f8"
         },
         "legendgroup": "243407448",
         "line": {
          "color": "#ab63fa"
         },
         "lon": {
          "bdata": "xoA2gwnYZUC5LqEnCthlQA==",
          "dtype": "f8"
         },
         "mode": "lines",
         "name": "243407448",
         "showlegend": true,
         "subplot": "mapbox",
         "type": "scattermapbox"
        },
        {
         "hovertemplate": "edge_id=634432749<br>segment=634432749-0<br>lat=%{lat}<br>lon=%{lon}<extra></extra>",
         "lat": {
          "bdata": "WCyPf7BnQsDhhWNMsGdCwA==",
          "dtype": "f8"
         },
         "legendgroup": "634432749",
         "line": {
          "color": "#FFA15A"
         },
         "lon": {
          "bdata": "nq6TnznXZUCpyUIqO9dlQA==",
          "dtype": "f8"
         },
         "mode": "lines",
         "name": "634432749",
         "showlegend": true,
         "subplot": "mapbox",
         "type": "scattermapbox"
        },
        {
         "hovertemplate": "edge_id=7632537<br>segment=7632537-0<br>lat=%{lat}<br>lon=%{lon}<extra></extra>",
         "lat": {
          "bdata": "9Vd+z/5vQsAfUy3Y/G9CwBRPh1/7b0LA/bbMjvlvQsA+neG87m9CwOrL0k7Nb0LAXTHIAstvQsCZ84x9yW9CwGqJldHIb0LAHGIXoMhvQsA0QongyW9CwNjQckXOb0LAI6TJINJvQsA=",
          "dtype": "f8"
         },
         "legendgroup": "7632537",
         "line": {
          "color": "#19d3f3"
         },
         "lon": {
          "bdata": "tdSL6+nYZUD0QvCu6dhlQEQFPYrp2GVAtTNMbenYZUCPfX856dhlQEoNyLno2GVAcVBnk+jYZUBdkl4v6NhlQAwYycPn2GVAqnddZOfYZUCQW9375dhlQDOqZ5zh2GVA3OM7593YZUA=",
          "dtype": "f8"
         },
         "mode": "lines",
         "name": "7632537",
         "showlegend": true,
         "subplot": "mapbox",
         "type": "scattermapbox"
        },
        {
         "hovertemplate": "edge_id=620736501<br>segment=620736501-0<br>lat=%{lat}<br>lon=%{lon}<extra></extra>",
         "lat": {
          "bdata": "/KyNDM1tQsC9PzllyW1CwE7EEVrFbULAs3UV98RtQsA=",
          "dtype": "f8"
         },
         "legendgroup": "620736501",
         "line": {
          "color": "#FF6692"
         },
         "lon": {
          "bdata": "I+77gTzYZUCwWvSpPthlQNsJQO1B2GVAlM0LZkLYZUA=",
          "dtype": "f8"
         },
         "mode": "lines",
         "name": "620736501",
         "showlegend": true,
         "subplot": "mapbox",
         "type": "scattermapbox"
        },
        {
         "hovertemplate": "edge_id=4282847<br>segment=4282847-0<br>lat=%{lat}<br>lon=%{lon}<extra></extra>",
         "lat": {
          "bdata": "VyoDYm1rQsAfaXBbW2tCwP0ubM1Wa0LAI7Wav1NrQsAZGYl1T2tCwEqP8AdNa0LASsM6n0trQsC3D9SESGtCwNwfOeNFa0LA",
          "dtype": "f8"
         },
         "legendgroup": "4282847",
         "line": {
          "color": "#B6E880"
         },
         "lon": {
          "bdata": "5LRMK6rXZUDYBpOHqtdlQBf/Lbeq12VALp0g+6rXZUAT14xnq9dlQLovZ7ar12VAz6hU5KvXZUCfxfdqrNdlQLa/Dves12VA",
          "dtype": "f8"
         },
         "mode": "lines",
         "name": "4282847",
         "showlegend": true,
         "subplot": "mapbox",
         "type": "scattermapbox"
        },
        {
         "hovertemplate": "edge_id=665046245<br>segment=665046245-0<br>lat=%{lat}<br>lon=%{lon}<extra></extra>",
         "lat": {
          "bdata": "tIjNbPxuQsCRmEXN/G5CwNnADHz7bkLAvFF12fluQsA=",
          "dtype": "f8"
         },
         "legendgroup": "665046245",
         "line": {
          "color": "#FF97FF"
         },
         "lon": {
          "bdata": "Zg9ZSdDYZUCTiJV2z9hlQEm6ZvLN2GVAFDR3Ps3YZUA=",
          "dtype": "f8"
         },
         "mode": "lines",
         "name": "665046245",
         "showlegend": true,
         "subplot": "mapbox",
         "type": "scattermapbox"
        },
        {
         "hovertemplate": "edge_id=951656492<br>segment=951656492-0<br>lat=%{lat}<br>lon=%{lon}<extra></extra>",
         "lat": {
          "bdata": "Rqo5ir1nQsCmAGJcu2dCwH5FbdG4Z0LA",
          "dtype": "f8"
         },
         "legendgroup": "951656492",
         "line": {
          "color": "#FECB52"
         },
         "lon": {
          "bdata": "HQgkvJjXZUDw6gvXmddlQEP907Ka12VA",
          "dtype": "f8"
         },
         "mode": "lines",
         "name": "951656492",
         "showlegend": true,
         "subplot": "mapbox",
         "type": "scattermapbox"
        },
        {
         "hovertemplate": "edge_id=628160157<br>segment=628160157-0<br>lat=%{lat}<br>lon=%{lon}<extra></extra>",
         "lat": {
          "bdata": "I17oWzBsQsDk5Z/PNmxCwA==",
          "dtype": "f8"
         },
         "legendgroup": "628160157",
         "line": {
          "color": "#636efa"
         },
         "lon": {
          "bdata": "OUyPAbTXZUA0qOyqttdlQA==",
          "dtype": "f8"
         },
         "mode": "lines",
         "name": "628160157",
         "showlegend": true,
         "subplot": "mapbox",
         "type": "scattermapbox"
        },
        {
         "hovertemplate": "edge_id=617488816<br>segment=617488816-0<br>lat=%{lat}<br>lon=%{lon}<extra></extra>",
         "lat": {
          "bdata": "zJiCNc5uQsA/2d641m5CwFUPPc7ZbkLA",
          "dtype": "f8"
         },
         "legendgroup": "617488816",
         "line": {
          "color": "#EF553B"
         },
         "lon": {
          "bdata": "U07F16jYZUDLyXogqNhlQDPlngmo2GVA",
          "dtype": "f8"
         },
         "mode": "lines",
         "name": "617488816",
         "showlegend": true,
         "subplot": "mapbox",
         "type": "scattermapbox"
        },
        {
         "hovertemplate": "edge_id=617488796<br>segment=617488796-0<br>lat=%{lat}<br>lon=%{lon}<extra></extra>",
         "lat": {
          "bdata": "QvwNJDluQsBrvToiOm5CwLgMkwQ8bkLAyV3f4jxuQsC9w5IXPm5CwMjHOJA/bkLA0n3vJUNuQsA=",
          "dtype": "f8"
         },
         "legendgroup": "617488796",
         "line": {
          "color": "#00cc96"
         },
         "lon": {
          "bdata": "V1XUBaHYZUAP0egOothlQJTl2gak2GVAYfSBiaTYZUAs9SwIpdhlQIVrpFul2GVA/FbrxKXYZUA=",
          "dtype": "f8"
         },
         "mode": "lines",
         "name": "617488796",
         "showlegend": true,
         "subplot": "mapbox",
         "type": "scattermapbox"
        },
        {
         "hovertemplate": "edge_id=670223637<br>segment=670223637-0<br>lat=%{lat}<br>lon=%{lon}<extra></extra>",
         "lat": {
          "bdata": "WoKMgAprQsDxlYrXBmtCwJtfKLv0akLA",
          "dtype": "f8"
         },
         "legendgroup": "670223637",
         "line": {
          "color": "#ab63fa"
         },
         "lon": {
          "bdata": "7TZecLzXZUDe7dUivddlQIPeG0PA12VA",
          "dtype": "f8"
         },
         "mode": "lines",
         "name": "670223637",
         "showlegend": true,
         "subplot": "mapbox",
         "type": "scattermapbox"
        },
        {
         "hovertemplate": "edge_id=628328462<br>segment=628328462-0<br>lat=%{lat}<br>lon=%{lon}<extra></extra>",
         "lat": {
          "bdata": "5ULlX8tnQsC6/37nzWdCwMbvt4fOZ0LAco8Ayc9nQsA=",
          "dtype": "f8"
         },
         "legendgroup": "628328462",
         "line": {
          "color": "#FFA15A"
         },
         "lon": {
          "bdata": "fOO1XMfXZUDd2Q2RyddlQGAUThzK12VAWmjnNMvXZUA=",
          "dtype": "f8"
         },
         "mode": "lines",
         "name": "628328462",
         "showlegend": true,
         "subplot": "mapbox",
         "type": "scattermapbox"
        },
        {
         "hovertemplate": "edge_id=190862658<br>segment=190862658-0<br>lat=%{lat}<br>lon=%{lon}<extra></extra>",
         "lat": {
          "bdata": "BtodUgxvQsDbVDjdDW9CwFL7YxAOb0LAb2r7sg9vQsA=",
          "dtype": "f8"
         },
         "legendgroup": "190862658",
         "line": {
          "color": "#19d3f3"
         },
         "lon": {
          "bdata": "DAVsB+PYZUAsxxrk5NhlQDEoLiLl2GVAkCovnubYZUA=",
          "dtype": "f8"
         },
         "mode": "lines",
         "name": "190862658",
         "showlegend": true,
         "subplot": "mapbox",
         "type": "scattermapbox"
        },
        {
         "hovertemplate": "edge_id=616787774<br>segment=616787774-0<br>lat=%{lat}<br>lon=%{lon}<extra></extra>",
         "lat": {
          "bdata": "LSnSWFZvQsD5xVudUm9CwFVRF4RNb0LA",
          "dtype": "f8"
         },
         "legendgroup": "616787774",
         "line": {
          "color": "#FF6692"
         },
         "lon": {
          "bdata": "JMCf0OHYZUDaR10h4thlQM6wrI/i2GVA",
          "dtype": "f8"
         },
         "mode": "lines",
         "name": "616787774",
         "showlegend": true,
         "subplot": "mapbox",
         "type": "scattermapbox"
        },
        {
         "hovertemplate": "edge_id=317748787<br>segment=317748787-0<br>lat=%{lat}<br>lon=%{lon}<extra></extra>",
         "lat": {
          "bdata": "pgXUQJhrQsDQgUDCi2tCwLwpQG+Fa0LA",
          "dtype": "f8"
         },
         "legendgroup": "317748787",
         "line": {
          "color": "#B6E880"
         },
         "lon": {
          "bdata": "KYTELKrXZUA4s6cuqtdlQGpFQCqq12VA",
          "dtype": "f8"
         },
         "mode": "lines",
         "name": "317748787",
         "showlegend": true,
         "subplot": "mapbox",
         "type": "scattermapbox"
        },
        {
         "hovertemplate": "edge_id=805519475<br>segment=805519475-0<br>lat=%{lat}<br>lon=%{lon}<extra></extra>",
         "lat": {
          "bdata": "7/Zqkf5tQsDm2ZvOBG5CwA==",
          "dtype": "f8"
         },
         "legendgroup": "805519475",
         "line": {
          "color": "#FF97FF"
         },
         "lon": {
          "bdata": "61eV2BDYZUDzAuyjE9hlQA==",
          "dtype": "f8"
         },
         "mode": "lines",
         "name": "805519475",
         "showlegend": true,
         "subplot": "mapbox",
         "type": "scattermapbox"
        },
        {
         "hovertemplate": "edge_id=950264736<br>segment=950264736-0<br>lat=%{lat}<br>lon=%{lon}<extra></extra>",
         "lat": {
          "bdata": "VyoDYm1rQsBCQpQvaGtCwOaFhaRga0LA",
          "dtype": "f8"
         },
         "legendgroup": "950264736",
         "line": {
          "color": "#FECB52"
         },
         "lon": {
          "bdata": "5LRMK6rXZUBEpnwIqtdlQKmzpO2p12VA",
          "dtype": "f8"
         },
         "mode": "lines",
         "name": "950264736",
         "showlegend": true,
         "subplot": "mapbox",
         "type": "scattermapbox"
        },
        {
         "hovertemplate": "edge_id=953984535<br>segment=953984535-0<br>lat=%{lat}<br>lon=%{lon}<extra></extra>",
         "lat": {
          "bdata": "5EIv7eVuQsCDpE+r6G5CwGr67IDrbkLA8MtPYPBuQsAR0glX9m5CwA==",
          "dtype": "f8"
         },
         "legendgroup": "953984535",
         "line": {
          "color": "#636efa"
         },
         "lon": {
          "bdata": "QeN49LXYZUDIjAEjudhlQOcxb3q82GVAr6qoC8LYZUCZgF8jydhlQA==",
          "dtype": "f8"
         },
         "mode": "lines",
         "name": "953984535",
         "showlegend": true,
         "subplot": "mapbox",
         "type": "scattermapbox"
        },
        {
         "hovertemplate": "edge_id=52729424<br>segment=52729424-0<br>lat=%{lat}<br>lon=%{lon}<extra></extra>",
         "lat": {
          "bdata": "2NByRc5tQsBhPrTqzm1CwNfKOtLPbULADd78K9BtQsAkfO9v0G1CwGA4fHfQbULA17CVhtBtQsBO+5xx0G1CwA==",
          "dtype": "f8"
         },
         "legendgroup": "52729424",
         "line": {
          "color": "#EF553B"
         },
         "lon": {
          "bdata": "r9rrk1LYZUBnbQmvU9hlQNGn+jpV2GVAaUQf4lXYZUD0v1yLVthlQB6bLtVW2GVAvPcmPFfYZUDwG7o0WdhlQA==",
          "dtype": "f8"
         },
         "mode": "lines",
         "name": "52729424",
         "showlegend": true,
         "subplot": "mapbox",
         "type": "scattermapbox"
        },
        {
         "hovertemplate": "edge_id=132577903<br>segment=132577903-0<br>lat=%{lat}<br>lon=%{lon}<extra></extra>",
         "lat": {
          "bdata": "sMUT5uJtQsAHLX8Z521CwOKS407pbULAKcnfYuptQsA=",
          "dtype": "f8"
         },
         "legendgroup": "132577903",
         "line": {
          "color": "#00cc96"
         },
         "lon": {
          "bdata": "15ZL9APYZUAJxOv6BdhlQCBfQgUH2GVAIw5+hwfYZUA=",
          "dtype": "f8"
         },
         "mode": "lines",
         "name": "132577903",
         "showlegend": true,
         "subplot": "mapbox",
         "type": "scattermapbox"
        },
        {
         "hovertemplate": "edge_id=612397891<br>segment=612397891-0<br>lat=%{lat}<br>lon=%{lon}<extra></extra>",
         "lat": {
          "bdata": "3+OnzChsQsCv6UFBKWxCwHPLWH4qbELAI17oWzBsQsA=",
          "dtype": "f8"
         },
         "legendgroup": "612397891",
         "line": {
          "color": "#ab63fa"
         },
         "lon": {
          "bdata": "0laASrDXZUBVqMnnsNdlQLqyVZOx12VAOUyPAbTXZUA=",
          "dtype": "f8"
         },
         "mode": "lines",
         "name": "612397891",
         "showlegend": true,
         "subplot": "mapbox",
         "type": "scattermapbox"
        },
        {
         "hovertemplate": "edge_id=624801300<br>segment=624801300-0<br>lat=%{lat}<br>lon=%{lon}<extra></extra>",
         "lat": {
          "bdata": "Pvvbr0xsQsATAC2nTmxCwD2t7MxObELA",
          "dtype": "f8"
         },
         "legendgroup": "624801300",
         "line": {
          "color": "#FFA15A"
         },
         "lon": {
          "bdata": "hjTPtr/XZUCMTSuFwNdlQOh1epTA12VA",
          "dtype": "f8"
         },
         "mode": "lines",
         "name": "624801300",
         "showlegend": true,
         "subplot": "mapbox",
         "type": "scattermapbox"
        },
        {
         "hovertemplate": "edge_id=114133935<br>segment=114133935-0<br>lat=%{lat}<br>lon=%{lon}<extra></extra>",
         "lat": {
          "bdata": "BdDez99tQsA5UzJK4W1CwA==",
          "dtype": "f8"
         },
         "legendgroup": "114133935",
         "line": {
          "color": "#19d3f3"
         },
         "lon": {
          "bdata": "fcYqSm7YZUAU7YVdb9hlQA==",
          "dtype": "f8"
         },
         "mode": "lines",
         "name": "114133935",
         "showlegend": true,
         "subplot": "mapbox",
         "type": "scattermapbox"
        },
        {
         "hovertemplate": "edge_id=617488799<br>segment=617488799-0<br>lat=%{lat}<br>lon=%{lon}<extra></extra>",
         "lat": {
          "bdata": "EWePYV9uQsBeO2I+am5CwG1Sdp+IbkLA",
          "dtype": "f8"
         },
         "legendgroup": "617488799",
         "line": {
          "color": "#FF6692"
         },
         "lon": {
          "bdata": "eh43V6jYZUBN0wxOqdhlQFVnWges2GVA",
          "dtype": "f8"
         },
         "mode": "lines",
         "name": "617488799",
         "showlegend": true,
         "subplot": "mapbox",
         "type": "scattermapbox"
        },
        {
         "hovertemplate": "edge_id=665046246<br>segment=665046246-0<br>lat=%{lat}<br>lon=%{lon}<extra></extra>",
         "lat": {
          "bdata": "vFF12fluQsCAOcSJ+W5CwPEcgMP6bkLAtIjNbPxuQsA=",
          "dtype": "f8"
         },
         "legendgroup": "665046246",
         "line": {
          "color": "#B6E880"
         },
         "lon": {
          "bdata": "FDR3Ps3YZUBA1Y0czthlQBlHm5nP2GVAZg9ZSdDYZUA=",
          "dtype": "f8"
         },
         "mode": "lines",
         "name": "665046246",
         "showlegend": true,
         "subplot": "mapbox",
         "type": "scattermapbox"
        },
        {
         "hovertemplate": "edge_id=620736502<br>segment=620736502-0<br>lat=%{lat}<br>lon=%{lon}<extra></extra>",
         "lat": {
          "bdata": "/8euWdNtQsAd4Vkn021CwE9JjFTObULAzSjxFM1tQsD8rI0MzW1CwA==",
          "dtype": "f8"
         },
         "legendgroup": "620736502",
         "line": {
          "color": "#FF97FF"
         },
         "lon": {
          "bdata": "eUa2TjfYZUD18dB3N9hlQErvG1872GVAuqTFdDzYZUAj7vuBPNhlQA==",
          "dtype": "f8"
         },
         "mode": "lines",
         "name": "620736502",
         "showlegend": true,
         "subplot": "mapbox",
         "type": "scattermapbox"
        },
        {
         "hovertemplate": "edge_id=617488794<br>segment=617488794-0<br>lat=%{lat}<br>lon=%{lon}<extra></extra>",
         "lat": {
          "bdata": "RNcqZiluQsBJRnMJLG5CwKeK84EubkLAhzGONjNuQsA=",
          "dtype": "f8"
         },
         "legendgroup": "617488794",
         "line": {
          "color": "#FECB52"
         },
         "lon": {
          "bdata": "3RRF/o/YZUBH7dnOkthlQMsVOZ+V2GVAPbPJhprYZUA=",
          "dtype": "f8"
         },
         "mode": "lines",
         "name": "617488794",
         "showlegend": true,
         "subplot": "mapbox",
         "type": "scattermapbox"
        },
        {
         "hovertemplate": "edge_id=7632502<br>segment=7632502-0<br>lat=%{lat}<br>lon=%{lon}<extra></extra>",
         "lat": {
          "bdata": "1CzQ7pBvQsAmOWBXk29CwEg3HVyVb0LA",
          "dtype": "f8"
         },
         "legendgroup": "7632502",
         "line": {
          "color": "#636efa"
         },
         "lon": {
          "bdata": "hvGJK93YZUCZ0TTN4NhlQILWDSXk2GVA",
          "dtype": "f8"
         },
         "mode": "lines",
         "name": "7632502",
         "showlegend": true,
         "subplot": "mapbox",
         "type": "scattermapbox"
        },
        {
         "hovertemplate": "edge_id=25092129<br>segment=25092129-0<br>lat=%{lat}<br>lon=%{lon}<extra></extra>",
         "lat": {
          "bdata": "SDcdXJVvQsDmXrsPm29CwM7xG3Cnb0LAbpvznalvQsChEtcxrm9CwL0fEhmxb0LAe6AVGLJvQsD2r1F7tm9CwGPXUTC+b0LANEKJ4MlvQsA=",
          "dtype": "f8"
         },
         "legendgroup": "25092129",
         "line": {
          "color": "#EF553B"
         },
         "lon": {
          "bdata": "gtYNJeTYZUBHMYov5NhlQGKvZlPk2GVAI/zmWeTYZUCLRR1n5NhlQFvBgG/k2GVAgkk7f+TYZUDEZtvE5NhlQMD5Hj/l2GVAkFvd++XYZUA=",
          "dtype": "f8"
         },
         "mode": "lines",
         "name": "25092129",
         "showlegend": true,
         "subplot": "mapbox",
         "type": "scattermapbox"
        },
        {
         "hovertemplate": "edge_id=163899694<br>segment=163899694-0<br>lat=%{lat}<br>lon=%{lon}<extra></extra>",
         "lat": {
          "bdata": "hbb3BORtQsASjUna6G1CwA==",
          "dtype": "f8"
         },
         "legendgroup": "163899694",
         "line": {
          "color": "#00cc96"
         },
         "lon": {
          "bdata": "NIEiFnHYZUAq8jUVc9hlQA==",
          "dtype": "f8"
         },
         "mode": "lines",
         "name": "163899694",
         "showlegend": true,
         "subplot": "mapbox",
         "type": "scattermapbox"
        },
        {
         "hovertemplate": "edge_id=120740327<br>segment=120740327-0<br>lat=%{lat}<br>lon=%{lon}<extra></extra>",
         "lat": {
          "bdata": "jeWngptsQsCGxhNBnGxCwPFiYYicbELAUce+v5xsQsB6RmzBnGxCwDMk3YWcbELA",
          "dtype": "f8"
         },
         "legendgroup": "120740327",
         "line": {
          "color": "#ab63fa"
         },
         "lon": {
          "bdata": "L8+U58vXZUClK32NyddlQECuw4fI12VAl9S/2sfXZUD2actvx9dlQCaSQx/H12VA",
          "dtype": "f8"
         },
         "mode": "lines",
         "name": "120740327",
         "showlegend": true,
         "subplot": "mapbox",
         "type": "scattermapbox"
        },
        {
         "hovertemplate": "edge_id=627196062<br>segment=627196062-0<br>lat=%{lat}<br>lon=%{lon}<extra></extra>",
         "lat": {
          "bdata": "zCVV201tQsCzlZf8T21CwAndJXFWbULA",
          "dtype": "f8"
         },
         "legendgroup": "627196062",
         "line": {
          "color": "#FFA15A"
         },
         "lon": {
          "bdata": "SCqdWdzXZUAwLeqT3NdlQNwU6kTd12VA",
          "dtype": "f8"
         },
         "mode": "lines",
         "name": "627196062",
         "showlegend": true,
         "subplot": "mapbox",
         "type": "scattermapbox"
        },
        {
         "hovertemplate": "edge_id=147615031<br>segment=147615031-0<br>lat=%{lat}<br>lon=%{lon}<extra></extra>",
         "lat": {
          "bdata": "2scKfhtoQsD5yQfzDWhCwKn9MQgHaELAdnLhmwFoQsBBHaBFAGhCwKdeEsL+Z0LAzDotif1nQsC1WrtI/GdCwAISqFn7Z0LAtTLhl/pnQsCSpLWz+WdCwBYTQNb4Z0LAEPrjB/hnQsA=",
          "dtype": "f8"
         },
         "legendgroup": "147615031",
         "line": {
          "color": "#19d3f3"
         },
         "lon": {
          "bdata": "pwKTwAvYZUDyUvu+CdhlQPbwZaII2GVAgkTJmgfYZUA+AiQ/B9hlQJFfP8QG2GVAymyQSQbYZUAYl6q0BdhlQN053i4F2GVAodwRqQTYZUC8RoH0A9hlQDqZEw8D2GVA1TJjGwLYZUA=",
          "dtype": "f8"
         },
         "mode": "lines",
         "name": "147615031",
         "showlegend": true,
         "subplot": "mapbox",
         "type": "scattermapbox"
        },
        {
         "hovertemplate": "edge_id=616959756<br>segment=616959756-0<br>lat=%{lat}<br>lon=%{lon}<extra></extra>",
         "lat": {
          "bdata": "oHww37BnQsDJzcu8sGdCwFgsj3+wZ0LA",
          "dtype": "f8"
         },
         "legendgroup": "616959756",
         "line": {
          "color": "#FF6692"
         },
         "lon": {
          "bdata": "4XjjSTfXZUCcvdggONdlQJ6uk58512VA",
          "dtype": "f8"
         },
         "mode": "lines",
         "name": "616959756",
         "showlegend": true,
         "subplot": "mapbox",
         "type": "scattermapbox"
        },
        {
         "hovertemplate": "edge_id=613882669<br>segment=613882669-0<br>lat=%{lat}<br>lon=%{lon}<extra></extra>",
         "lat": {
          "bdata": "anhpedRnQsC2D3nL1WdCwA==",
          "dtype": "f8"
         },
         "legendgroup": "613882669",
         "line": {
          "color": "#B6E880"
         },
         "lon": {
          "bdata": "YGzGDs/XZUAEyxEy0NdlQA==",
          "dtype": "f8"
         },
         "mode": "lines",
         "name": "613882669",
         "showlegend": true,
         "subplot": "mapbox",
         "type": "scattermapbox"
        },
        {
         "hovertemplate": "edge_id=600464786<br>segment=600464786-0<br>lat=%{lat}<br>lon=%{lon}<extra></extra>",
         "lat": {
          "bdata": "WCyPf7BnQsDZQLrYtGdCwBSHfUy1Z0LABg/TvrlnQsA=",
          "dtype": "f8"
         },
         "legendgroup": "600464786",
         "line": {
          "color": "#FF97FF"
         },
         "lon": {
          "bdata": "nq6TnznXZUDC5tKuONdlQLau4p4412VAyRxwAjjXZUA=",
          "dtype": "f8"
         },
         "mode": "lines",
         "name": "600464786",
         "showlegend": true,
         "subplot": "mapbox",
         "type": "scattermapbox"
        },
        {
         "hovertemplate": "edge_id=159934865<br>segment=159934865-0<br>lat=%{lat}<br>lon=%{lon}<extra></extra>",
         "lat": {
          "bdata": "m1Atx9BtQsCbNoh70W1CwEEZmTbSbULA",
          "dtype": "f8"
         },
         "legendgroup": "159934865",
         "line": {
          "color": "#FECB52"
         },
         "lon": {
          "bdata": "X6FqT2TYZUCgMTjvZNhlQKjlYmdl2GVA",
          "dtype": "f8"
         },
         "mode": "lines",
         "name": "159934865",
         "showlegend": true,
         "subplot": "mapbox",
         "type": "scattermapbox"
        },
        {
         "hovertemplate": "edge_id=617488802<br>segment=617488802-0<br>lat=%{lat}<br>lon=%{lon}<extra></extra>",
         "lat": {
          "bdata": "yS5i6Y1uQsAryIW5k25CwL8fyIuWbkLA",
          "dtype": "f8"
         },
         "legendgroup": "617488802",
         "line": {
          "color": "#636efa"
         },
         "lon": {
          "bdata": "vTrHgKzYZUAZ7Uz8rNhlQBb2WQqt2GVA",
          "dtype": "f8"
         },
         "mode": "lines",
         "name": "617488802",
         "showlegend": true,
         "subplot": "mapbox",
         "type": "scattermapbox"
        },
        {
         "hovertemplate": "edge_id=7638635<br>segment=7638635-0<br>lat=%{lat}<br>lon=%{lon}<extra></extra>",
         "lat": {
          "bdata": "MyTdhZxsQsCMywI3nGxCwArt5vObbELAaccNv5tsQsCr/lJQm2xCwBZZIZuabELAaufqfZlsQsA=",
          "dtype": "f8"
         },
         "legendgroup": "7638635",
         "line": {
          "color": "#EF553B"
         },
         "lon": {
          "bdata": "JpJDH8fXZUA+j/bkxtdlQBfZKbHG12VANQnekMbXZUAssddgxtdlQJjD7jvG12VA4oBMIcbXZUA=",
          "dtype": "f8"
         },
         "mode": "lines",
         "name": "7638635",
         "showlegend": true,
         "subplot": "mapbox",
         "type": "scattermapbox"
        },
        {
         "hovertemplate": "edge_id=7991511<br>segment=7991511-0<br>lat=%{lat}<br>lon=%{lon}<extra></extra>",
         "lat": {
          "bdata": "GOcUia5nQsChEtcxrmdCwN0WG6mtZ0LAKuJ0kq1nQsCKehxhrGdCwGwzX2+sZ0LA+xtZnqxnQsAA01ixrmdCwAaQkDevZ0LA",
          "dtype": "f8"
         },
         "legendgroup": "7991511",
         "line": {
          "color": "#00cc96"
         },
         "lon": {
          "bdata": "Tj13J0TXZUC/IDNhRddlQI4JjFBH12VAKUF/oUfXZUDl+i3wS9dlQH/TYL9M12VAF56Xik3XZUA2as92VtdlQDi0EgRZ12VA",
          "dtype": "f8"
         },
         "mode": "lines",
         "name": "7991511",
         "showlegend": true,
         "subplot": "mapbox",
         "type": "scattermapbox"
        },
        {
         "hovertemplate": "edge_id=620918973<br>segment=620918973-0<br>lat=%{lat}<br>lon=%{lon}<extra></extra>",
         "lat": {
          "bdata": "i7Wuh+VtQsC7P4Py421CwJdpoJ7jbULA5sqg2uBtQsA=",
          "dtype": "f8"
         },
         "legendgroup": "620918973",
         "line": {
          "color": "#ab63fa"
         },
         "lon": {
          "bdata": "TdaohyjYZUAvFobIKdhlQLUCng8q2GVA4IZzaCzYZUA=",
          "dtype": "f8"
         },
         "mode": "lines",
         "name": "620918973",
         "showlegend": true,
         "subplot": "mapbox",
         "type": "scattermapbox"
        },
        {
         "hovertemplate": "edge_id=620736506<br>segment=620736506-0<br>lat=%{lat}<br>lon=%{lon}<extra></extra>",
         "lat": {
          "bdata": "xReSONBtQsDjXk8q0G1CwGbhRiXQbULAAaYMHNBtQsChb8EI0G1CwA==",
          "dtype": "f8"
         },
         "legendgroup": "620736506",
         "line": {
          "color": "#FFA15A"
         },
         "lon": {
          "bdata": "0AoMWV3YZUAj78EQXthlQK/dLBRf2GVAb2mQ3WDYZUB3AHrQYthlQA==",
          "dtype": "f8"
         },
         "mode": "lines",
         "name": "620736506",
         "showlegend": true,
         "subplot": "mapbox",
         "type": "scattermapbox"
        },
        {
         "hovertemplate": "edge_id=639183619<br>segment=639183619-0<br>lat=%{lat}<br>lon=%{lon}<extra></extra>",
         "lat": {
          "bdata": "eNc0SvJtQsD9tsyO+W1CwA==",
          "dtype": "f8"
         },
         "legendgroup": "639183619",
         "line": {
          "color": "#19d3f3"
         },
         "lon": {
          "bdata": "TkcANwvYZUB2FmKaDthlQA==",
          "dtype": "f8"
         },
         "mode": "lines",
         "name": "639183619",
         "showlegend": true,
         "subplot": "mapbox",
         "type": "scattermapbox"
        },
        {
         "hovertemplate": "edge_id=183732426<br>segment=183732426-0<br>lat=%{lat}<br>lon=%{lon}<extra></extra>",
         "lat": {
          "bdata": "rRrfclBpQsAbxpOTP2lCwAqMq4AxaULAK7S9JyBpQsDPMLWlDmlCwC+YCdAAaULA",
          "dtype": "f8"
         },
         "legendgroup": "183732426",
         "line": {
          "color": "#FF6692"
         },
         "lon": {
          "bdata": "7dPxmAHYZUBcr+lBAdhlQERwt38A2GVA6xPld//XZUDF1n0R/tdlQPt5rkr912VA",
          "dtype": "f8"
         },
         "mode": "lines",
         "name": "183732426",
         "showlegend": true,
         "subplot": "mapbox",
         "type": "scattermapbox"
        },
        {
         "hovertemplate": "edge_id=613882670<br>segment=613882670-0<br>lat=%{lat}<br>lon=%{lon}<extra></extra>",
         "lat": {
          "bdata": "G+lWGddnQsC0c5oF2mdCwHhBRGraZ0LAZuq/GNtnQsA=",
          "dtype": "f8"
         },
         "legendgroup": "613882670",
         "line": {
          "color": "#B6E880"
         },
         "lon": {
          "bdata": "vF0vTdHXZUDMejGU09dlQMPDauLT12VA2K+FatTXZUA=",
          "dtype": "f8"
         },
         "mode": "lines",
         "name": "613882670",
         "showlegend": true,
         "subplot": "mapbox",
         "type": "scattermapbox"
        },
        {
         "hovertemplate": "edge_id=7636912<br>segment=7636912-0<br>lat=%{lat}<br>lon=%{lon}<extra></extra>",
         "lat": {
          "bdata": "3NTlOcdpQsD1mO2vw2lCwAF1uXfDaULA",
          "dtype": "f8"
         },
         "legendgroup": "7636912",
         "line": {
          "color": "#FF97FF"
         },
         "lon": {
          "bdata": "1ab7SvHXZUDwICwZ9tdlQPmPO1v212VA",
          "dtype": "f8"
         },
         "mode": "lines",
         "name": "7636912",
         "showlegend": true,
         "subplot": "mapbox",
         "type": "scattermapbox"
        },
        {
         "hovertemplate": "edge_id=12269289<br>segment=12269289-0<br>lat=%{lat}<br>lon=%{lon}<extra></extra>",
         "lat": {
          "bdata": "wzC7gshuQsA6YR0iyW5CwMyYgjXObkLA",
          "dtype": "f8"
         },
         "legendgroup": "12269289",
         "line": {
          "color": "#FECB52"
         },
         "lon": {
          "bdata": "fYW7aanYZUDfm/BcqdhlQFNOxdeo2GVA",
          "dtype": "f8"
         },
         "mode": "lines",
         "name": "12269289",
         "showlegend": true,
         "subplot": "mapbox",
         "type": "scattermapbox"
        },
        {
         "hovertemplate": "edge_id=624804554<br>segment=624804554-0<br>lat=%{lat}<br>lon=%{lon}<extra></extra>",
         "lat": {
          "bdata": "PKZJhKFsQsAxv4nXq2xCwMXUTK2tbELAUoPE0bBsQsA=",
          "dtype": "f8"
         },
         "legendgroup": "624804554",
         "line": {
          "color": "#636efa"
         },
         "lon": {
          "bdata": "3tVhO87XZUDd6c4Tz9dlQBCqeTPP12VAIv5hS8/XZUA=",
          "dtype": "f8"
         },
         "mode": "lines",
         "name": "624804554",
         "showlegend": true,
         "subplot": "mapbox",
         "type": "scattermapbox"
        },
        {
         "hovertemplate": "edge_id=183732408<br>segment=183732408-0<br>lat=%{lat}<br>lon=%{lon}<extra></extra>",
         "lat": {
          "bdata": "zge6rHhpQsDAcilTcWlCwAuz0M5paULALXTKSGJpQsABPFi1WmlCwGn/A6xVaULArRrfclBpQsA=",
          "dtype": "f8"
         },
         "legendgroup": "183732408",
         "line": {
          "color": "#EF553B"
         },
         "lon": {
          "bdata": "igBMvv7XZUCkkpW6/9dlQAOvO4IA2GVAI9NGGgHYZUDws9t4AdhlQPbm3JIB2GVA7dPxmAHYZUA=",
          "dtype": "f8"
         },
         "mode": "lines",
         "name": "183732408",
         "showlegend": true,
         "subplot": "mapbox",
         "type": "scattermapbox"
        },
        {
         "hovertemplate": "edge_id=204749496<br>segment=204749496-0<br>lat=%{lat}<br>lon=%{lon}<extra></extra>",
         "lat": {
          "bdata": "a+QEt/9oQsBxxtVt9WhCwA==",
          "dtype": "f8"
         },
         "legendgroup": "204749496",
         "line": {
          "color": "#00cc96"
         },
         "lon": {
          "bdata": "ctgiDv7XZUCugEI9/ddlQA==",
          "dtype": "f8"
         },
         "mode": "lines",
         "name": "204749496",
         "showlegend": true,
         "subplot": "mapbox",
         "type": "scattermapbox"
        },
        {
         "hovertemplate": "edge_id=616787783<br>segment=616787783-0<br>lat=%{lat}<br>lon=%{lon}<extra></extra>",
         "lat": {
          "bdata": "pQrrawJvQsC2J+2yBG9CwA==",
          "dtype": "f8"
         },
         "legendgroup": "616787783",
         "line": {
          "color": "#ab63fa"
         },
         "lon": {
          "bdata": "Dw2LUdfYZUCQ+dv52dhlQA==",
          "dtype": "f8"
         },
         "mode": "lines",
         "name": "616787783",
         "showlegend": true,
         "subplot": "mapbox",
         "type": "scattermapbox"
        },
        {
         "hovertemplate": "edge_id=615604467<br>segment=615604467-0<br>lat=%{lat}<br>lon=%{lon}<extra></extra>",
         "lat": {
          "bdata": "asmZ3N5tQsCwxRPm4m1CwA==",
          "dtype": "f8"
         },
         "legendgroup": "615604467",
         "line": {
          "color": "#FFA15A"
         },
         "lon": {
          "bdata": "54ZLMwLYZUDXlkv0A9hlQA==",
          "dtype": "f8"
         },
         "mode": "lines",
         "name": "615604467",
         "showlegend": true,
         "subplot": "mapbox",
         "type": "scattermapbox"
        },
        {
         "hovertemplate": "edge_id=612703681<br>segment=612703681-0<br>lat=%{lat}<br>lon=%{lon}<extra></extra>",
         "lat": {
          "bdata": "VaNXA5RtQsAOpOYGnm1CwA==",
          "dtype": "f8"
         },
         "legendgroup": "612703681",
         "line": {
          "color": "#19d3f3"
         },
         "lon": {
          "bdata": "ppXnZuTXZUBD70OU5ddlQA==",
          "dtype": "f8"
         },
         "mode": "lines",
         "name": "612703681",
         "showlegend": true,
         "subplot": "mapbox",
         "type": "scattermapbox"
        },
        {
         "hovertemplate": "edge_id=613882671<br>segment=613882671-0<br>lat=%{lat}<br>lon=%{lon}<extra></extra>",
         "lat": {
          "bdata": "Zuq/GNtnQsA2vA/23GdCwGQ0PAfgZ0LA",
          "dtype": "f8"
         },
         "legendgroup": "613882671",
         "line": {
          "color": "#FF6692"
         },
         "lon": {
          "bdata": "2K+FatTXZUAWRsTe1ddlQD4BuWnY12VA",
          "dtype": "f8"
         },
         "mode": "lines",
         "name": "613882671",
         "showlegend": true,
         "subplot": "mapbox",
         "type": "scattermapbox"
        },
        {
         "hovertemplate": "edge_id=612388339<br>segment=612388339-0<br>lat=%{lat}<br>lon=%{lon}<extra></extra>",
         "lat": {
          "bdata": "15ghn6FrQsCSSfxAqGtCwA==",
          "dtype": "f8"
         },
         "legendgroup": "612388339",
         "line": {
          "color": "#B6E880"
         },
         "lon": {
          "bdata": "FGf7RqrXZUA1L+KWqtdlQA==",
          "dtype": "f8"
         },
         "mode": "lines",
         "name": "612388339",
         "showlegend": true,
         "subplot": "mapbox",
         "type": "scattermapbox"
        },
        {
         "hovertemplate": "edge_id=627900118<br>segment=627900118-0<br>lat=%{lat}<br>lon=%{lon}<extra></extra>",
         "lat": {
          "bdata": "oW/BCNBtQsAH2Q020G1CwH2tS43QbULAm1Atx9BtQsA=",
          "dtype": "f8"
         },
         "legendgroup": "627900118",
         "line": {
          "color": "#FF97FF"
         },
         "lon": {
          "bdata": "dwB60GLYZUDxJ89hY9hlQDKhk+9j2GVAX6FqT2TYZUA=",
          "dtype": "f8"
         },
         "mode": "lines",
         "name": "627900118",
         "showlegend": true,
         "subplot": "mapbox",
         "type": "scattermapbox"
        },
        {
         "hovertemplate": "edge_id=612703658<br>segment=612703658-0<br>lat=%{lat}<br>lon=%{lon}<extra></extra>",
         "lat": {
          "bdata": "/bbMjvltQsDxCBPr+W1CwO/2apH+bULA",
          "dtype": "f8"
         },
         "legendgroup": "612703658",
         "line": {
          "color": "#FECB52"
         },
         "lon": {
          "bdata": "dhZimg7YZUDywXzDDthlQOtXldgQ2GVA",
          "dtype": "f8"
         },
         "mode": "lines",
         "name": "612703658",
         "showlegend": true,
         "subplot": "mapbox",
         "type": "scattermapbox"
        },
        {
         "hovertemplate": "edge_id=119020519<br>segment=119020519-0<br>lat=%{lat}<br>lon=%{lon}<extra></extra>",
         "lat": {
          "bdata": "uDQjKCNrQsD+ne3RG2tCwMjJafQPa0LAWoKMgAprQsA=",
          "dtype": "f8"
         },
         "legendgroup": "119020519",
         "line": {
          "color": "#636efa"
         },
         "lon": {
          "bdata": "42YCj7nXZUDK3HwjutdlQDLyaJm712VA7TZecLzXZUA=",
          "dtype": "f8"
         },
         "mode": "lines",
         "name": "119020519",
         "showlegend": true,
         "subplot": "mapbox",
         "type": "scattermapbox"
        },
        {
         "hovertemplate": "edge_id=950264738<br>segment=950264738-0<br>lat=%{lat}<br>lon=%{lon}<extra></extra>",
         "lat": {
          "bdata": "3B8540VrQsAgNdw2QmtCwPKOnQE/a0LAaieUzzxrQsDYCdQHN2tCwA==",
          "dtype": "f8"
         },
         "legendgroup": "950264738",
         "line": {
          "color": "#EF553B"
         },
         "lon": {
          "bdata": "tr8O96zXZUCzrna5rddlQGK7e4Cu12VAYorNIq/XZUDkeboEsddlQA==",
          "dtype": "f8"
         },
         "mode": "lines",
         "name": "950264738",
         "showlegend": true,
         "subplot": "mapbox",
         "type": "scattermapbox"
        },
        {
         "hovertemplate": "edge_id=118001841<br>segment=118001841-0<br>lat=%{lat}<br>lon=%{lon}<extra></extra>",
         "lat": {
          "bdata": "8u7IWG1vQsDN2yJ6Y29CwA==",
          "dtype": "f8"
         },
         "legendgroup": "118001841",
         "line": {
          "color": "#00cc96"
         },
         "lon": {
          "bdata": "zE9g8N/YZUB4Tmmz4NhlQA==",
          "dtype": "f8"
         },
         "mode": "lines",
         "name": "118001841",
         "showlegend": true,
         "subplot": "mapbox",
         "type": "scattermapbox"
        },
        {
         "hovertemplate": "edge_id=4279676<br>segment=4279676-0<br>lat=%{lat}<br>lon=%{lon}<extra></extra>",
         "lat": {
          "bdata": "+o3AaQtuQsD7UXngCG5CwN4kYToIbkLAwck2cAduQsA4SIjyBW5CwGgU3FkFbkLAxbk8jP9tQsA=",
          "dtype": "f8"
         },
         "legendgroup": "4279676",
         "line": {
          "color": "#ab63fa"
         },
         "lon": {
          "bdata": "m6UJgBbYZUCbom1GF9hlQC2ZY3kX2GVAg+rVthfYZUCIkAQrGNhlQE0Zk1kY2GVA1fZlHxrYZUA=",
          "dtype": "f8"
         },
         "mode": "lines",
         "name": "4279676",
         "showlegend": true,
         "subplot": "mapbox",
         "type": "scattermapbox"
        },
        {
         "hovertemplate": "edge_id=883951049<br>segment=883951049-0<br>lat=%{lat}<br>lon=%{lon}<extra></extra>",
         "lat": {
          "bdata": "KcnfYuptQsDDP7Z27G1CwA==",
          "dtype": "f8"
         },
         "legendgroup": "883951049",
         "line": {
          "color": "#FFA15A"
         },
         "lon": {
          "bdata": "Iw5+hwfYZUBwMmB/CNhlQA==",
          "dtype": "f8"
         },
         "mode": "lines",
         "name": "883951049",
         "showlegend": true,
         "subplot": "mapbox",
         "type": "scattermapbox"
        },
        {
         "hovertemplate": "edge_id=7636954<br>segment=7636954-0<br>lat=%{lat}<br>lon=%{lon}<extra></extra>",
         "lat": {
          "bdata": "IXjXNEpoQsApLRLJRmhCwA==",
          "dtype": "f8"
         },
         "legendgroup": "7636954",
         "line": {
          "color": "#19d3f3"
         },
         "lon": {
          "bdata": "uS6hJwrYZUDvQWOBCthlQA==",
          "dtype": "f8"
         },
         "mode": "lines",
         "name": "7636954",
         "showlegend": true,
         "subplot": "mapbox",
         "type": "scattermapbox"
        },
        {
         "hovertemplate": "edge_id=190863132<br>segment=190863132-0<br>lat=%{lat}<br>lon=%{lon}<extra></extra>",
         "lat": {
          "bdata": "tiftsgRvQsBude+XBW9CwPtLQW0Kb0LA",
          "dtype": "f8"
         },
         "legendgroup": "190863132",
         "line": {
          "color": "#FF6692"
         },
         "lon": {
          "bdata": "kPnb+dnYZUBjxboC29hlQLTc45bg2GVA",
          "dtype": "f8"
         },
         "mode": "lines",
         "name": "190863132",
         "showlegend": true,
         "subplot": "mapbox",
         "type": "scattermapbox"
        },
        {
         "hovertemplate": "edge_id=617488798<br>segment=617488798-0<br>lat=%{lat}<br>lon=%{lon}<extra></extra>",
         "lat": {
          "bdata": "RAlEmVduQsA9WkF4WW5CwIqpmVpbbkLA3D9gL15uQsARZ49hX25CwA==",
          "dtype": "f8"
         },
         "legendgroup": "617488798",
         "line": {
          "color": "#B6E880"
         },
         "lon": {
          "bdata": "vwdUpKfYZUBL4lHPp9hlQKEcu/qn2GVAMBy+O6jYZUB6HjdXqNhlQA==",
          "dtype": "f8"
         },
         "mode": "lines",
         "name": "617488798",
         "showlegend": true,
         "subplot": "mapbox",
         "type": "scattermapbox"
        },
        {
         "hovertemplate": "edge_id=666022404<br>segment=666022404-0<br>lat=%{lat}<br>lon=%{lon}<extra></extra>",
         "lat": {
          "bdata": "HG1mPjFsQsAJOIQqNWxCwKlxyjc2bELA3mrnRTdsQsCthO6SOGxCwON9C6E5bELAvnPetTpsQsCCaWLLPGxCwA==",
          "dtype": "f8"
         },
         "legendgroup": "666022404",
         "line": {
          "color": "#FF97FF"
         },
         "lon": {
          "bdata": "idmBKbnXZUAKCWLquNdlQAHfbd6412VAMGMK1rjXZUAQ90fOuNdlQGYDn9W412VAMHoT6LjXZUD+LJYiuddlQA==",
          "dtype": "f8"
         },
         "mode": "lines",
         "name": "666022404",
         "showlegend": true,
         "subplot": "mapbox",
         "type": "scattermapbox"
        },
        {
         "hovertemplate": "edge_id=616959754<br>segment=616959754-0<br>lat=%{lat}<br>lon=%{lon}<extra></extra>",
         "lat": {
          "bdata": "fMDy1q9nQsBx/star2dCwBjnFImuZ0LA",
          "dtype": "f8"
         },
         "legendgroup": "616959754",
         "line": {
          "color": "#FECB52"
         },
         "lon": {
          "bdata": "elufKD/XZUALqIEwQddlQE49dydE12VA",
          "dtype": "f8"
         },
         "mode": "lines",
         "name": "616959754",
         "showlegend": true,
         "subplot": "mapbox",
         "type": "scattermapbox"
        },
        {
         "hovertemplate": "edge_id=616787760<br>segment=616787760-0<br>lat=%{lat}<br>lon=%{lon}<extra></extra>",
         "lat": {
          "bdata": "zdsiemNvQsBBZy1gXW9CwC0p0lhWb0LA",
          "dtype": "f8"
         },
         "legendgroup": "616787760",
         "line": {
          "color": "#636efa"
         },
         "lon": {
          "bdata": "eE5ps+DYZUBUjPM34dhlQCTAn9Dh2GVA",
          "dtype": "f8"
         },
         "mode": "lines",
         "name": "616787760",
         "showlegend": true,
         "subplot": "mapbox",
         "type": "scattermapbox"
        },
        {
         "hovertemplate": "edge_id=276984115<br>segment=276984115-0<br>lat=%{lat}<br>lon=%{lon}<extra></extra>",
         "lat": {
          "bdata": "ZdKVvsZtQsDP3nQmyG1CwBa5TPLIbULACguTTsltQsA=",
          "dtype": "f8"
         },
         "legendgroup": "276984115",
         "line": {
          "color": "#EF553B"
         },
         "lon": {
          "bdata": "Vng80kXYZUBkzF1LSNhlQCKphZJJ2GVAgZcZNkrYZUA=",
          "dtype": "f8"
         },
         "mode": "lines",
         "name": "276984115",
         "showlegend": true,
         "subplot": "mapbox",
         "type": "scattermapbox"
        },
        {
         "hovertemplate": "edge_id=617488815<br>segment=617488815-0<br>lat=%{lat}<br>lon=%{lon}<extra></extra>",
         "lat": {
          "bdata": "m6kQj8RuQsA2gkNexW5CwMMwu4LIbkLA",
          "dtype": "f8"
         },
         "legendgroup": "617488815",
         "line": {
          "color": "#00cc96"
         },
         "lon": {
          "bdata": "JuyRvKnYZUCF9MqrqdhlQH2Fu2mp2GVA",
          "dtype": "f8"
         },
         "mode": "lines",
         "name": "617488815",
         "showlegend": true,
         "subplot": "mapbox",
         "type": "scattermapbox"
        },
        {
         "hovertemplate": "edge_id=120740336<br>segment=120740336-0<br>lat=%{lat}<br>lon=%{lon}<extra></extra>",
         "lat": {
          "bdata": "SQ9Dq5NsQsAfFJSilWxCwCpg8YqWbELA+h3Uj5dsQsAXHdoRmGxCwHAGf7+YbELAn/qs15lsQsBYkGYsmmxCwHtmSYCabELAaYWOwppsQsB165D2mmxCwBwWWSGbbELAjeWngptsQsA=",
          "dtype": "f8"
         },
         "legendgroup": "120740336",
         "line": {
          "color": "#ab63fa"
         },
         "lon": {
          "bdata": "jnLV4c3XZUA+JlKazddlQFhfE4jN12VA+SjIdM3XZUAFM6ZgzddlQP//pEbN12VAIBBDBs3XZUBfrLntzNdlQH/qadHM12VAqTsFr8zXZUBlPnuJzNdlQJGGCVnM12VAL8+U58vXZUA=",
          "dtype": "f8"
         },
         "mode": "lines",
         "name": "120740336",
         "showlegend": true,
         "subplot": "mapbox",
         "type": "scattermapbox"
        },
        {
         "hovertemplate": "edge_id=158619822<br>segment=158619822-0<br>lat=%{lat}<br>lon=%{lon}<extra></extra>",
         "lat": {
          "bdata": "BpCQN69nQsD/KEWGsGdCwOF/K9mxZ0LAS3Jl9bNnQsDkjBfBtWdCwBQlIZG2Z0LAB+f4DbhnQsA8mF6suWdCwDs2AvG6Z0LAmcI52bxnQsCN5m0RvWdCwEaqOYq9Z0LA1O5XAb5nQsBXhbzUvmdCwLBuYYK/Z0LAsCaqEsBnQsCjXksjwWdCwFDqJozBZ0LAhD9o4sJnQsCKcmn8wmdCwGDtg4fEZ0LA",
          "dtype": "f8"
         },
         "legendgroup": "158619822",
         "line": {
          "color": "#FFA15A"
         },
         "lon": {
          "bdata": "OLQSBFnXZUBSbSaVX9dlQFXQ/lFl12VA0wCUdW7XZUCmB6rrdddlQCd+MQB512VAFcGknX/XZUAgGifPhtdlQLsZJDON12VA0XnoFpXXZUBj93h8ltdlQB0IJLyY12VAgQx49JrXZUAUeCefntdlQNeYIZ+h12VA1dHM7qTXZUCsk47NqddlQDqkYq2r12VAYzA1+LHXZUDmU2xxstdlQF8PgX6612VA",
          "dtype": "f8"
         },
         "mode": "lines",
         "name": "158619822",
         "showlegend": true,
         "subplot": "mapbox",
         "type": "scattermapbox"
        },
        {
         "hovertemplate": "edge_id=158619820<br>segment=158619820-0<br>lat=%{lat}<br>lon=%{lon}<extra></extra>",
         "lat": {
          "bdata": "BJTh0/dnQsBL5IIz+GdCwMKKrmb4Z0LAmfeTjPdnQsA=",
          "dtype": "f8"
         },
         "legendgroup": "158619820",
         "line": {
          "color": "#19d3f3"
         },
         "lon": {
          "bdata": "cqjfhe3XZUCPdjeq7tdlQHa7A+Hv12VAyUM6l/3XZUA=",
          "dtype": "f8"
         },
         "mode": "lines",
         "name": "158619820",
         "showlegend": true,
         "subplot": "mapbox",
         "type": "scattermapbox"
        },
        {
         "hovertemplate": "edge_id=616959755<br>segment=616959755-0<br>lat=%{lat}<br>lon=%{lon}<extra></extra>",
         "lat": {
          "bdata": "4YVjTLBnQsB87gT7r2dCwHzA8tavZ0LA",
          "dtype": "f8"
         },
         "legendgroup": "616959755",
         "line": {
          "color": "#FF6692"
         },
         "lon": {
          "bdata": "qclCKjvXZUDjkwSXPddlQHpbnyg/12VA",
          "dtype": "f8"
         },
         "mode": "lines",
         "name": "616959755",
         "showlegend": true,
         "subplot": "mapbox",
         "type": "scattermapbox"
        },
        {
         "hovertemplate": "edge_id=276984117<br>segment=276984117-0<br>lat=%{lat}<br>lon=%{lon}<extra></extra>",
         "lat": {
          "bdata": "s3UV98RtQsB+kGXBxG1CwN2YnrDEbULArUIU3cRtQsBl0pW+xm1CwA==",
          "dtype": "f8"
         },
         "legendgroup": "276984117",
         "line": {
          "color": "#B6E880"
         },
         "lon": {
          "bdata": "lM0LZkLYZUDVL8fhQthlQOYN5mVD2GVAeKUbF0TYZUBWeDzSRdhlQA==",
          "dtype": "f8"
         },
         "mode": "lines",
         "name": "276984117",
         "showlegend": true,
         "subplot": "mapbox",
         "type": "scattermapbox"
        },
        {
         "hovertemplate": "edge_id=111875686<br>segment=111875686-0<br>lat=%{lat}<br>lon=%{lon}<extra></extra>",
         "lat": {
          "bdata": "sMUT5uJtQsAIYcmw5W1CwH4H9ePlbULA2DhRAeZtQsB+NQcI5m1CwFu7SPzlbULAMbJkjuVtQsA=",
          "dtype": "f8"
         },
         "legendgroup": "111875686",
         "line": {
          "color": "#FF97FF"
         },
         "lon": {
          "bdata": "15ZL9APYZUA45is3B9hlQPOg6qEH2GVA2NpWDgjYZUCQniKHCNhlQHv0hvsI2GVAsHfadQrYZUA=",
          "dtype": "f8"
         },
         "mode": "lines",
         "name": "111875686",
         "showlegend": true,
         "subplot": "mapbox",
         "type": "scattermapbox"
        },
        {
         "hovertemplate": "edge_id=922793376<br>segment=922793376-0<br>lat=%{lat}<br>lon=%{lon}<extra></extra>",
         "lat": {
          "bdata": "TKoRVVNpQsCmN5K6U2lCwDQ0+cFUaULAvbvfslRpQsA=",
          "dtype": "f8"
         },
         "legendgroup": "922793376",
         "line": {
          "color": "#FECB52"
         },
         "lon": {
          "bdata": "1sLR+gDYZUCLSo9LAdhlQHUKTW0E2GVAwqT4+ATYZUA=",
          "dtype": "f8"
         },
         "mode": "lines",
         "name": "922793376",
         "showlegend": true,
         "subplot": "mapbox",
         "type": "scattermapbox"
        },
        {
         "hovertemplate": "edge_id=77452184<br>segment=77452184-0<br>lat=%{lat}<br>lon=%{lon}<extra></extra>",
         "lat": {
          "bdata": "m18ou/RqQsAiIpCm1WlCwA==",
          "dtype": "f8"
         },
         "legendgroup": "77452184",
         "line": {
          "color": "#636efa"
         },
         "lon": {
          "bdata": "g94bQ8DXZUDNazag79dlQA==",
          "dtype": "f8"
         },
         "mode": "lines",
         "name": "77452184",
         "showlegend": true,
         "subplot": "mapbox",
         "type": "scattermapbox"
        },
        {
         "hovertemplate": "edge_id=612397888<br>segment=612397888-0<br>lat=%{lat}<br>lon=%{lon}<extra></extra>",
         "lat": {
          "bdata": "Pa3szE5sQsDauuU0VWxCwJxcQvRabELA",
          "dtype": "f8"
         },
         "legendgroup": "612397888",
         "line": {
          "color": "#EF553B"
         },
         "lon": {
          "bdata": "6HV6lMDXZUCuMUM+w9dlQLxuW6XF12VA",
          "dtype": "f8"
         },
         "mode": "lines",
         "name": "612397888",
         "showlegend": true,
         "subplot": "mapbox",
         "type": "scattermapbox"
        },
        {
         "hovertemplate": "edge_id=620918971<br>segment=620918971-0<br>lat=%{lat}<br>lon=%{lon}<extra></extra>",
         "lat": {
          "bdata": "Kgaj7fNtQsDjRXBt8m1CwMYE6+7wbULASl8IOe9tQsA=",
          "dtype": "f8"
         },
         "legendgroup": "620918971",
         "line": {
          "color": "#00cc96"
         },
         "lon": {
          "bdata": "XG9A8B3YZUBkUX2MHthlQLpaOFof2GVAchtomSDYZUA=",
          "dtype": "f8"
         },
         "mode": "lines",
         "name": "620918971",
         "showlegend": true,
         "subplot": "mapbox",
         "type": "scattermapbox"
        },
        {
         "hovertemplate": "edge_id=52729390<br>segment=52729390-0<br>lat=%{lat}<br>lon=%{lon}<extra></extra>",
         "lat": {
          "bdata": "VqXjINdtQsAVtlX/1m1CwLFSQUXVbULAOmqWFdRtQsD/x65Z021CwA==",
          "dtype": "f8"
         },
         "legendgroup": "52729390",
         "line": {
          "color": "#ab63fa"
         },
         "lon": {
          "bdata": "U/h9STTYZUChCPNoNNhlQK/sgsE12GVAUgazrjbYZUB5RrZON9hlQA==",
          "dtype": "f8"
         },
         "mode": "lines",
         "name": "52729390",
         "showlegend": true,
         "subplot": "mapbox",
         "type": "scattermapbox"
        },
        {
         "hovertemplate": "edge_id=624801748<br>segment=624801748-0<br>lat=%{lat}<br>lon=%{lon}<extra></extra>",
         "lat": {
          "bdata": "UoPE0bBsQsDLv5ZXrmxCwAf4JGasbELAoqh9hKtsQsAzQcNRqGxCwPKfJBOmbELA",
          "dtype": "f8"
         },
         "legendgroup": "624801748",
         "line": {
          "color": "#FFA15A"
         },
         "lon": {
          "bdata": "Iv5hS8/XZUCxu+WPztdlQP9vNmfO12VAkxgEVs7XZUCIhO/9zddlQNU4QNXN12VA",
          "dtype": "f8"
         },
         "mode": "lines",
         "name": "624801748",
         "showlegend": true,
         "subplot": "mapbox",
         "type": "scattermapbox"
        },
        {
         "hovertemplate": "edge_id=163683236<br>segment=163683236-0<br>lat=%{lat}<br>lon=%{lon}<extra></extra>",
         "lat": {
          "bdata": "THTxEvduQsDmjqPe+G5CwLxRddn5bkLA",
          "dtype": "f8"
         },
         "legendgroup": "163683236",
         "line": {
          "color": "#19d3f3"
         },
         "lon": {
          "bdata": "/s8GBcrYZUCMJfYazNhlQBQ0dz7N2GVA",
          "dtype": "f8"
         },
         "mode": "lines",
         "name": "163683236",
         "showlegend": true,
         "subplot": "mapbox",
         "type": "scattermapbox"
        },
        {
         "hovertemplate": "edge_id=149321389<br>segment=149321389-0<br>lat=%{lat}<br>lon=%{lon}<extra></extra>",
         "lat": {
          "bdata": "co8Ayc9nQsAwJHGg0WdCwMOVWL7TZ0LAanhpedRnQsA=",
          "dtype": "f8"
         },
         "legendgroup": "149321389",
         "line": {
          "color": "#FF6692"
         },
         "lon": {
          "bdata": "WmjnNMvXZUApxwm4zNdlQDEZ2HTO12VAYGzGDs/XZUA=",
          "dtype": "f8"
         },
         "mode": "lines",
         "name": "149321389",
         "showlegend": true,
         "subplot": "mapbox",
         "type": "scattermapbox"
        },
        {
         "hovertemplate": "edge_id=616787771<br>segment=616787771-0<br>lat=%{lat}<br>lon=%{lon}<extra></extra>",
         "lat": {
          "bdata": "1CzQ7pBvQsA7jh8qjW9CwMiPQqOFb0LA",
          "dtype": "f8"
         },
         "legendgroup": "616787771",
         "line": {
          "color": "#B6E880"
         },
         "lon": {
          "bdata": "hvGJK93YZUAP7J123dhlQDsxkAze2GVA",
          "dtype": "f8"
         },
         "mode": "lines",
         "name": "616787771",
         "showlegend": true,
         "subplot": "mapbox",
         "type": "scattermapbox"
        },
        {
         "hovertemplate": "edge_id=617488795<br>segment=617488795-0<br>lat=%{lat}<br>lon=%{lon}<extra></extra>",
         "lat": {
          "bdata": "hzGONjNuQsDjaZ7IOG5CwEL8DSQ5bkLA",
          "dtype": "f8"
         },
         "legendgroup": "617488795",
         "line": {
          "color": "#FF97FF"
         },
         "lon": {
          "bdata": "PbPJhprYZUB4N2ChoNhlQFdV1AWh2GVA",
          "dtype": "f8"
         },
         "mode": "lines",
         "name": "617488795",
         "showlegend": true,
         "subplot": "mapbox",
         "type": "scattermapbox"
        },
        {
         "hovertemplate": "edge_id=362118425<br>segment=362118425-0<br>lat=%{lat}<br>lon=%{lon}<extra></extra>",
         "lat": {
          "bdata": "H3bwXZRpQsCrD3+oj2lCwBcozvaNaULAO+pDco1pQsAFBZQ8jWlCwDPzieGPaULAhgVSvZBpQsB6mRcWkmlCwA==",
          "dtype": "f8"
         },
         "legendgroup": "362118425",
         "line": {
          "color": "#FECB52"
         },
         "lon": {
          "bdata": "4OXYMPnXZUCD0fb5+ddlQOJjZlX612VAFVIjmfrXZUC7qv3n+tdlQDlvrUD+12VAS9qeav7XZUDvyFht/tdlQA==",
          "dtype": "f8"
         },
         "mode": "lines",
         "name": "362118425",
         "showlegend": true,
         "subplot": "mapbox",
         "type": "scattermapbox"
        },
        {
         "hovertemplate": "edge_id=670234637<br>segment=670234637-0<br>lat=%{lat}<br>lon=%{lon}<extra></extra>",
         "lat": {
          "bdata": "yNS4knhoQsA5EViUbWhCwBeGI6NeaELAH2+ozlloQsCB5a1fVWhCwJHz/j9OaELA",
          "dtype": "f8"
         },
         "legendgroup": "670234637",
         "line": {
          "color": "#636efa"
         },
         "lon": {
          "bdata": "XQ2apwTYZUDcrAuJBdhlQPDapQ0H2GVAL3SAuwfYZUCUfgxnCNhlQMaANoMJ2GVA",
          "dtype": "f8"
         },
         "mode": "lines",
         "name": "670234637",
         "showlegend": true,
         "subplot": "mapbox",
         "type": "scattermapbox"
        },
        {
         "hovertemplate": "edge_id=73175159<br>segment=73175159-0<br>lat=%{lat}<br>lon=%{lon}<extra></extra>",
         "lat": {
          "bdata": "BNyYQ/dnQsDPPqB99mdCwLJtrB/2Z0LA",
          "dtype": "f8"
         },
         "legendgroup": "73175159",
         "line": {
          "color": "#EF553B"
         },
         "lon": {
          "bdata": "Is0OpwLYZUCqZcY2BNhlQGyvqgMF2GVA",
          "dtype": "f8"
         },
         "mode": "lines",
         "name": "73175159",
         "showlegend": true,
         "subplot": "mapbox",
         "type": "scattermapbox"
        },
        {
         "hovertemplate": "edge_id=616787777<br>segment=616787777-0<br>lat=%{lat}<br>lon=%{lon}<extra></extra>",
         "lat": {
          "bdata": "XPwSlh1vQsA0nUJTG29CwEmW3d0Ub0LAb2r7sg9vQsA=",
          "dtype": "f8"
         },
         "legendgroup": "616787777",
         "line": {
          "color": "#00cc96"
         },
         "lon": {
          "bdata": "9gzhmOXYZUBYUSiw5dhlQE/ffDTm2GVAkCovnubYZUA=",
          "dtype": "f8"
         },
         "mode": "lines",
         "name": "616787777",
         "showlegend": true,
         "subplot": "mapbox",
         "type": "scattermapbox"
        },
        {
         "hovertemplate": "edge_id=627829831<br>segment=627829831-0<br>lat=%{lat}<br>lon=%{lon}<extra></extra>",
         "lat": {
          "bdata": "DZnh9U9uQsAQ/LmyVW5CwEQJRJlXbkLA",
          "dtype": "f8"
         },
         "legendgroup": "627829831",
         "line": {
          "color": "#ab63fa"
         },
         "lon": {
          "bdata": "JS8h1abYZUAh8HZzp9hlQL8HVKSn2GVA",
          "dtype": "f8"
         },
         "mode": "lines",
         "name": "627829831",
         "showlegend": true,
         "subplot": "mapbox",
         "type": "scattermapbox"
        },
        {
         "hovertemplate": "edge_id=149494103<br>segment=149494103-0<br>lat=%{lat}<br>lon=%{lon}<extra></extra>",
         "lat": {
          "bdata": "auor/qVtQsAab4Z2qW1CwCwc95yqbULAWtzaHa1tQsBMHHkgsm1CwHQFgM+0bULAO5ImObttQsCCgGvdvG1CwMr5Yu/FbULA",
          "dtype": "f8"
         },
         "legendgroup": "149494103",
         "line": {
          "color": "#FFA15A"
         },
         "lon": {
          "bdata": "rSaZ5ufXZUAsw26O6ddlQPnoHiPq12VANyM5T+vXZUBCO0yg7ddlQIOaa+Lu12VAwCpy4/HXZUAlTAeh8tdlQGdRjrj212VA",
          "dtype": "f8"
         },
         "mode": "lines",
         "name": "149494103",
         "showlegend": true,
         "subplot": "mapbox",
         "type": "scattermapbox"
        },
        {
         "hovertemplate": "edge_id=132577900<br>segment=132577900-0<br>lat=%{lat}<br>lon=%{lon}<extra></extra>",
         "lat": {
          "bdata": "5tmbzgRuQsBtsTYhCG5CwH8cKEsIbkLAT37mBwluQsA=",
          "dtype": "f8"
         },
         "legendgroup": "132577900",
         "line": {
          "color": "#19d3f3"
         },
         "lon": {
          "bdata": "8wLsoxPYZUBP9/AbFdhlQP4dmy4V2GVA4DIChRXYZUA=",
          "dtype": "f8"
         },
         "mode": "lines",
         "name": "132577900",
         "showlegend": true,
         "subplot": "mapbox",
         "type": "scattermapbox"
        },
        {
         "hovertemplate": "edge_id=119983818<br>segment=119983818-0<br>lat=%{lat}<br>lon=%{lon}<extra></extra>",
         "lat": {
          "bdata": "ccbVbfVoQsC4if/g6GhCwKjZTTrbaELAmhzjL9JoQsAyM9h5wGhCwBmRKLSsaELA/id/945oQsA=",
          "dtype": "f8"
         },
         "legendgroup": "119983818",
         "line": {
          "color": "#FF6692"
         },
         "lon": {
          "bdata": "roBCPf3XZUDeBN80/ddlQFXZHIz912VAQlSGFv7XZUD0JtBx/9dlQCy4H/AA2GVAqKId3ALYZUA=",
          "dtype": "f8"
         },
         "mode": "lines",
         "name": "119983818",
         "showlegend": true,
         "subplot": "mapbox",
         "type": "scattermapbox"
        },
        {
         "hovertemplate": "edge_id=950264737<br>segment=950264737-0<br>lat=%{lat}<br>lon=%{lon}<extra></extra>",
         "lat": {
          "bdata": "2AnUBzdrQsAhrpy9M2tCwKMHPgYra0LAXfEesSdrQsAGuMWhI2tCwIFO9/Aba0LAw11i0RlrQsDUceskEWtCwFqCjIAKa0LA",
          "dtype": "f8"
         },
         "legendgroup": "950264737",
         "line": {
          "color": "#B6E880"
         },
         "lon": {
          "bdata": "5Hm6BLHXZUCN9P0vstdlQK9iTFW112VAOEO7VLbXZUA6kzZVt9dlQIy5awm512VAXaj8a7nXZUBTj9n+utdlQO02XnC812VA",
          "dtype": "f8"
         },
         "mode": "lines",
         "name": "950264737",
         "showlegend": true,
         "subplot": "mapbox",
         "type": "scattermapbox"
        },
        {
         "hovertemplate": "edge_id=671791888<br>segment=671791888-0<br>lat=%{lat}<br>lon=%{lon}<extra></extra>",
         "lat": {
          "bdata": "tg95y9VnQsAb6VYZ12dCwA==",
          "dtype": "f8"
         },
         "legendgroup": "671791888",
         "line": {
          "color": "#FF97FF"
         },
         "lon": {
          "bdata": "BMsRMtDXZUC8XS9N0ddlQA==",
          "dtype": "f8"
         },
         "mode": "lines",
         "name": "671791888",
         "showlegend": true,
         "subplot": "mapbox",
         "type": "scattermapbox"
        },
        {
         "hovertemplate": "edge_id=616787762<br>segment=616787762-0<br>lat=%{lat}<br>lon=%{lon}<extra></extra>",
         "lat": {
          "bdata": "yI9Co4VvQsDy7shYbW9CwA==",
          "dtype": "f8"
         },
         "legendgroup": "616787762",
         "line": {
          "color": "#FECB52"
         },
         "lon": {
          "bdata": "OzGQDN7YZUDMT2Dw39hlQA==",
          "dtype": "f8"
         },
         "mode": "lines",
         "name": "616787762",
         "showlegend": true,
         "subplot": "mapbox",
         "type": "scattermapbox"
        },
        {
         "hovertemplate": "edge_id=628147516<br>segment=628147516-0<br>lat=%{lat}<br>lon=%{lon}<extra></extra>",
         "lat": {
          "bdata": "wcNZtntsQsAPgX46eWxCwE5V6w5zbELAJxww/mxsQsCyySshaWxCwOOBErBnbELASZVyCGZsQsA=",
          "dtype": "f8"
         },
         "legendgroup": "628147516",
         "line": {
          "color": "#636efa"
         },
         "lon": {
          "bdata": "nR7KBsjXZUBGV441yNdlQH+PVaXI12VAIghGFMnXZUDptdlYyddlQGaPBqbJ12VAZkdPNsrXZUA=",
          "dtype": "f8"
         },
         "mode": "lines",
         "name": "628147516",
         "showlegend": true,
         "subplot": "mapbox",
         "type": "scattermapbox"
        },
        {
         "hovertemplate": "edge_id=736410334<br>segment=736410334-0<br>lat=%{lat}<br>lon=%{lon}<extra></extra>",
         "lat": {
          "bdata": "ypNa3gtrQsBoMcIlEWtCwN5BRwYUa0LAKr+xDBZrQsDi2GlaGGtCwCjHrv4Za0LAt2fxvRprQsA6vNaUGmtCwMNdYtEZa0LA",
          "dtype": "f8"
         },
         "legendgroup": "736410334",
         "line": {
          "color": "#EF553B"
         },
         "lon": {
          "bdata": "Jb4k37bXZUAHGKdrt9dlQJYAoZq312VAb70BwbfXZUC61oPut9dlQEXIiiu412VA+EFMeLjXZUAhYjn4uNdlQF2o/Gu512VA",
          "dtype": "f8"
         },
         "mode": "lines",
         "name": "736410334",
         "showlegend": true,
         "subplot": "mapbox",
         "type": "scattermapbox"
        },
        {
         "hovertemplate": "edge_id=330604958<br>segment=330604958-0<br>lat=%{lat}<br>lon=%{lon}<extra></extra>",
         "lat": {
          "bdata": "L5gJ0ABpQsBxxtVt9WhCwA==",
          "dtype": "f8"
         },
         "legendgroup": "330604958",
         "line": {
          "color": "#00cc96"
         },
         "lon": {
          "bdata": "+3muSv3XZUCugEI9/ddlQA==",
          "dtype": "f8"
         },
         "mode": "lines",
         "name": "330604958",
         "showlegend": true,
         "subplot": "mapbox",
         "type": "scattermapbox"
        },
        {
         "hovertemplate": "edge_id=614967567<br>segment=614967567-0<br>lat=%{lat}<br>lon=%{lon}<extra></extra>",
         "lat": {
          "bdata": "1+/TAsVnQsCnUZK/xWdCwA==",
          "dtype": "f8"
         },
         "legendgroup": "614967567",
         "line": {
          "color": "#ab63fa"
         },
         "lon": {
          "bdata": "CCho7rzXZUDN4JRewNdlQA==",
          "dtype": "f8"
         },
         "mode": "lines",
         "name": "614967567",
         "showlegend": true,
         "subplot": "mapbox",
         "type": "scattermapbox"
        },
        {
         "hovertemplate": "edge_id=190863686<br>segment=190863686-0<br>lat=%{lat}<br>lon=%{lon}<extra></extra>",
         "lat": {
          "bdata": "GD4ipkRvQsAAGHTnLm9CwLs1nykqb0LAIZG28SdvQsDtVRrnJW9CwFz8EpYdb0LA",
          "dtype": "f8"
         },
         "legendgroup": "190863686",
         "line": {
          "color": "#FFA15A"
         },
         "lon": {
          "bdata": "8RDGT+PYZUDGufL+5NhlQDFtSVjl2GVAiKeyg+XYZUACLsiW5dhlQPYM4Zjl2GVA",
          "dtype": "f8"
         },
         "mode": "lines",
         "name": "190863686",
         "showlegend": true,
         "subplot": "mapbox",
         "type": "scattermapbox"
        },
        {
         "hovertemplate": "edge_id=617488793<br>segment=617488793-0<br>lat=%{lat}<br>lon=%{lon}<extra></extra>",
         "lat": {
          "bdata": "pBOu7CduQsBE1ypmKW5CwA==",
          "dtype": "f8"
         },
         "legendgroup": "617488793",
         "line": {
          "color": "#19d3f3"
         },
         "lon": {
          "bdata": "lj0JbI7YZUDdFEX+j9hlQA==",
          "dtype": "f8"
         },
         "mode": "lines",
         "name": "617488793",
         "showlegend": true,
         "subplot": "mapbox",
         "type": "scattermapbox"
        },
        {
         "hovertemplate": "edge_id=29060342<br>segment=29060342-0<br>lat=%{lat}<br>lon=%{lon}<extra></extra>",
         "lat": {
          "bdata": "jyijgKNuQsCUw4JWu25CwC4MR0a9bkLA33b8csFuQsA=",
          "dtype": "f8"
         },
         "legendgroup": "29060342",
         "line": {
          "color": "#FF6692"
         },
         "lon": {
          "bdata": "V7pxQazYZUDwMVhxqthlQMeEmEuq2GVAU75W+KnYZUA=",
          "dtype": "f8"
         },
         "mode": "lines",
         "name": "29060342",
         "showlegend": true,
         "subplot": "mapbox",
         "type": "scattermapbox"
        },
        {
         "hovertemplate": "edge_id=27376527<br>segment=27376527-0<br>lat=%{lat}<br>lon=%{lon}<extra></extra>",
         "lat": {
          "bdata": "+0DyzqFoQsBaSSu+oWhCwNGt1/SgaELA0oX9Q59oQsBQZWIEnmhCwEs4mV2caELApdGJqZloQsDePqvMlGhCwP4nf/eOaELA",
          "dtype": "f8"
         },
         "legendgroup": "27376527",
         "line": {
          "color": "#B6E880"
         },
         "lon": {
          "bdata": "qNd3j/3XZUAHxgsz/tdlQHsWhPL+12VAJPCHn//XZUCGkPP+/9dlQGvhaH0A2GVAhQCFHwHYZUDbrRulAdhlQKiiHdwC2GVA",
          "dtype": "f8"
         },
         "mode": "lines",
         "name": "27376527",
         "showlegend": true,
         "subplot": "mapbox",
         "type": "scattermapbox"
        },
        {
         "hovertemplate": "edge_id=24457498<br>segment=24457498-0<br>lat=%{lat}<br>lon=%{lon}<extra></extra>",
         "lat": {
          "bdata": "Hq+brRduQsAuPC8VG25CwA==",
          "dtype": "f8"
         },
         "legendgroup": "24457498",
         "line": {
          "color": "#FF97FF"
         },
         "lon": {
          "bdata": "D2oab4bYZUBYCjfPh9hlQA==",
          "dtype": "f8"
         },
         "mode": "lines",
         "name": "24457498",
         "showlegend": true,
         "subplot": "mapbox",
         "type": "scattermapbox"
        },
        {
         "hovertemplate": "edge_id=623580294<br>segment=623580294-0<br>lat=%{lat}<br>lon=%{lon}<extra></extra>",
         "lat": {
          "bdata": "LjwvFRtuQsBPSCF/H25CwFvcNdcfbkLAbJ0T1iFuQsA=",
          "dtype": "f8"
         },
         "legendgroup": "623580294",
         "line": {
          "color": "#FECB52"
         },
         "lon": {
          "bdata": "WAo3z4fYZUCuVXGZidhlQOMjGL2J2GVAmEwVjIrYZUA=",
          "dtype": "f8"
         },
         "mode": "lines",
         "name": "623580294",
         "showlegend": true,
         "subplot": "mapbox",
         "type": "scattermapbox"
        },
        {
         "hovertemplate": "edge_id=620736504<br>segment=620736504-0<br>lat=%{lat}<br>lon=%{lon}<extra></extra>",
         "lat": {
          "bdata": "CguTTsltQsDIXYQpym1CwFZUs73MbULA",
          "dtype": "f8"
         },
         "legendgroup": "620736504",
         "line": {
          "color": "#636efa"
         },
         "lon": {
          "bdata": "gZcZNkrYZUBiBQmbS9hlQCi7mdFP2GVA",
          "dtype": "f8"
         },
         "mode": "lines",
         "name": "620736504",
         "showlegend": true,
         "subplot": "mapbox",
         "type": "scattermapbox"
        },
        {
         "hovertemplate": "edge_id=620736503<br>segment=620736503-0<br>lat=%{lat}<br>lon=%{lon}<extra></extra>",
         "lat": {
          "bdata": "VlSzvcxtQsD2jfnKzW1CwNjQckXObULA",
          "dtype": "f8"
         },
         "legendgroup": "620736503",
         "line": {
          "color": "#EF553B"
         },
         "lon": {
          "bdata": "KLuZ0U/YZUAySXa2UdhlQK/a65NS2GVA",
          "dtype": "f8"
         },
         "mode": "lines",
         "name": "620736503",
         "showlegend": true,
         "subplot": "mapbox",
         "type": "scattermapbox"
        },
        {
         "hovertemplate": "edge_id=617488797<br>segment=617488797-0<br>lat=%{lat}<br>lon=%{lon}<extra></extra>",
         "lat": {
          "bdata": "0n3vJUNuQsDPUaKASG5CwCd3jrdLbkLACPyGLk1uQsANmeH1T25CwA==",
          "dtype": "f8"
         },
         "legendgroup": "617488797",
         "line": {
          "color": "#00cc96"
         },
         "lon": {
          "bdata": "/FbrxKXYZUANHgE3pthlQApsKXum2GVAjRwzmqbYZUAlLyHVpthlQA==",
          "dtype": "f8"
         },
         "mode": "lines",
         "name": "617488797",
         "showlegend": true,
         "subplot": "mapbox",
         "type": "scattermapbox"
        },
        {
         "hovertemplate": "edge_id=779745355<br>segment=779745355-0<br>lat=%{lat}<br>lon=%{lon}<extra></extra>",
         "lat": {
          "bdata": "aufqfZlsQsCCixU1mGxCwEhf9wyXbELAy0NLw5VsQsDTtgZbkWxCwBfmTvqMbELA",
          "dtype": "f8"
         },
         "legendgroup": "779745355",
         "line": {
          "color": "#ab63fa"
         },
         "lon": {
          "bdata": "4oBMIcbXZUASBekYxtdlQAwA+iLG12VANZawNsbXZUCJ8C+CxtdlQHcmftbG12VA",
          "dtype": "f8"
         },
         "mode": "lines",
         "name": "779745355",
         "showlegend": true,
         "subplot": "mapbox",
         "type": "scattermapbox"
        },
        {
         "hovertemplate": "edge_id=624818424<br>segment=624818424-0<br>lat=%{lat}<br>lon=%{lon}<extra></extra>",
         "lat": {
          "bdata": "F+ZO+oxsQsC0YJgCiGxCwIwv2uOFbELARnXf1oJsQsC54Az+fmxCwMHDWbZ7bELA",
          "dtype": "f8"
         },
         "legendgroup": "624818424",
         "line": {
          "color": "#FFA15A"
         },
         "lon": {
          "bdata": "dyZ+1sbXZUDfy9grx9dlQJccd0rH12VA+Y7QhcfXZUA1kHjDx9dlQJ0eygbI12VA",
          "dtype": "f8"
         },
         "mode": "lines",
         "name": "624818424",
         "showlegend": true,
         "subplot": "mapbox",
         "type": "scattermapbox"
        },
        {
         "hovertemplate": "edge_id=839780676<br>segment=839780676-0<br>lat=%{lat}<br>lon=%{lon}<extra></extra>",
         "lat": {
          "bdata": "45++CpVpQsCVziyulmlCwA==",
          "dtype": "f8"
         },
         "legendgroup": "839780676",
         "line": {
          "color": "#19d3f3"
         },
         "lon": {
          "bdata": "CQbGsPnXZUAYdyiv+tdlQA==",
          "dtype": "f8"
         },
         "mode": "lines",
         "name": "839780676",
         "showlegend": true,
         "subplot": "mapbox",
         "type": "scattermapbox"
        },
        {
         "hovertemplate": "edge_id=627888664<br>segment=627888664-0<br>lat=%{lat}<br>lon=%{lon}<extra></extra>",
         "lat": {
          "bdata": "7DdujPhnQsAE3JhD92dCwA==",
          "dtype": "f8"
         },
         "legendgroup": "627888664",
         "line": {
          "color": "#FF6692"
         },
         "lon": {
          "bdata": "/UbgtAXYZUAizQ6nAthlQA==",
          "dtype": "f8"
         },
         "mode": "lines",
         "name": "627888664",
         "showlegend": true,
         "subplot": "mapbox",
         "type": "scattermapbox"
        },
        {
         "hovertemplate": "edge_id=665502273<br>segment=665502273-0<br>lat=%{lat}<br>lon=%{lon}<extra></extra>",
         "lat": {
          "bdata": "+hxpuuhnQsCUUcDR6WdCwA==",
          "dtype": "f8"
         },
         "legendgroup": "665502273",
         "line": {
          "color": "#B6E880"
         },
         "lon": {
          "bdata": "c9nonN/XZUDdRIiG4NdlQA==",
          "dtype": "f8"
         },
         "mode": "lines",
         "name": "665502273",
         "showlegend": true,
         "subplot": "mapbox",
         "type": "scattermapbox"
        },
        {
         "hovertemplate": "edge_id=147778711<br>segment=147778711-0<br>lat=%{lat}<br>lon=%{lon}<extra></extra>",
         "lat": {
          "bdata": "5OWfzzZsQsBa4rfXOGxCwA==",
          "dtype": "f8"
         },
         "legendgroup": "147778711",
         "line": {
          "color": "#FF97FF"
         },
         "lon": {
          "bdata": "NKjsqrbXZUBVERN5t9dlQA==",
          "dtype": "f8"
         },
         "mode": "lines",
         "name": "147778711",
         "showlegend": true,
         "subplot": "mapbox",
         "type": "scattermapbox"
        },
        {
         "hovertemplate": "edge_id=600464809<br>segment=600464809-0<br>lat=%{lat}<br>lon=%{lon}<extra></extra>",
         "lat": {
          "bdata": "Bg/TvrlnQsBcw7HTtGdCwIyPBTu0Z0LAsgHHVLBnQsA=",
          "dtype": "f8"
         },
         "legendgroup": "600464809",
         "line": {
          "color": "#FECB52"
         },
         "lon": {
          "bdata": "yRxwAjjXZUDV/nM9NtdlQFtKTAY212VA9GUO7jPXZUA=",
          "dtype": "f8"
         },
         "mode": "lines",
         "name": "600464809",
         "showlegend": true,
         "subplot": "mapbox",
         "type": "scattermapbox"
        },
        {
         "hovertemplate": "edge_id=881802678<br>segment=881802678-0<br>lat=%{lat}<br>lon=%{lon}<extra></extra>",
         "lat": {
          "bdata": "+dG6V/dnQsA1wpH29WdCwA==",
          "dtype": "f8"
         },
         "legendgroup": "881802678",
         "line": {
          "color": "#636efa"
         },
         "lon": {
          "bdata": "2SzyRgHYZUDwgi0bAthlQA==",
          "dtype": "f8"
         },
         "mode": "lines",
         "name": "881802678",
         "showlegend": true,
         "subplot": "mapbox",
         "type": "scattermapbox"
        },
        {
         "hovertemplate": "edge_id=599463951<br>segment=599463951-0<br>lat=%{lat}<br>lon=%{lon}<extra></extra>",
         "lat": {
          "bdata": "JWDPMuZnQsB4MBgS5mdCwJ50xwfiZ0LAQZKjSt5nQsDW4egq3WdCwNHiMajbZ0LAhZPZxdlnQsAD6Qca2GdCwBvpVhnXZ0LA",
          "dtype": "f8"
         },
         "legendgroup": "599463951",
         "line": {
          "color": "#EF553B"
         },
         "lon": {
          "bdata": "kUjb+NPXZUCoiqn009dlQGEM9nDT12VAKQJBJdPXZUC4dw360tdlQM1mxLvS12VAiwQJQNLXZUCbZJqf0ddlQLxdL03R12VA",
          "dtype": "f8"
         },
         "mode": "lines",
         "name": "599463951",
         "showlegend": true,
         "subplot": "mapbox",
         "type": "scattermapbox"
        },
        {
         "hovertemplate": "edge_id=4371914<br>segment=4371914-0<br>lat=%{lat}<br>lon=%{lon}<extra></extra>",
         "lat": {
          "bdata": "IiKQptVpQsCRpFr6hmlCwEiBT71/aULAzge6rHhpQsA=",
          "dtype": "f8"
         },
         "legendgroup": "4371914",
         "line": {
          "color": "#00cc96"
         },
         "lon": {
          "bdata": "zWs2oO/XZUDzgGic/NdlQL1QZb3912VAigBMvv7XZUA=",
          "dtype": "f8"
         },
         "mode": "lines",
         "name": "4371914",
         "showlegend": true,
         "subplot": "mapbox",
         "type": "scattermapbox"
        },
        {
         "hovertemplate": "edge_id=615577411<br>segment=615577411-0<br>lat=%{lat}<br>lon=%{lon}<extra></extra>",
         "lat": {
          "bdata": "4bVLGw5oQsCCfL+HAWhCwLVau0j8Z0LAnpTuU/pnQsDsN26M+GdCwA==",
          "dtype": "f8"
         },
         "legendgroup": "615577411",
         "line": {
          "color": "#ab63fa"
         },
         "lon": {
          "bdata": "SOmIMgrYZUDb6FISCNhlQOhUjbkG2GVAgGoXLgbYZUD9RuC0BdhlQA==",
          "dtype": "f8"
         },
         "mode": "lines",
         "name": "615577411",
         "showlegend": true,
         "subplot": "mapbox",
         "type": "scattermapbox"
        },
        {
         "hovertemplate": "edge_id=627812127<br>segment=627812127-0<br>lat=%{lat}<br>lon=%{lon}<extra></extra>",
         "lat": {
          "bdata": "4bVLGw5oQsCuWA3TCGhCwMOtzKUCaELA+sz+5f9nQsAx7DAm/WdCwM3kQLT7Z0LAM/igDPpnQsA=",
          "dtype": "f8"
         },
         "legendgroup": "627812127",
         "line": {
          "color": "#FFA15A"
         },
         "lon": {
          "bdata": "SOmIMgrYZUBRWzSuCdhlQGRWlLcI2GVAusGrQAjYZUAsfY3JB9hlQGfd9YgH2GVAJtdeVQfYZUA=",
          "dtype": "f8"
         },
         "mode": "lines",
         "name": "627812127",
         "showlegend": true,
         "subplot": "mapbox",
         "type": "scattermapbox"
        },
        {
         "hovertemplate": "edge_id=52974577<br>segment=52974577-0<br>lat=%{lat}<br>lon=%{lon}<extra></extra>",
         "lat": {
          "bdata": "VVEXhE1vQsCmGqzuR29CwBg+IqZEb0LA",
          "dtype": "f8"
         },
         "legendgroup": "52974577",
         "line": {
          "color": "#19d3f3"
         },
         "lon": {
          "bdata": "zrCsj+LYZUCGdHgI49hlQPEQxk/j2GVA",
          "dtype": "f8"
         },
         "mode": "lines",
         "name": "52974577",
         "showlegend": true,
         "subplot": "mapbox",
         "type": "scattermapbox"
        },
        {
         "hovertemplate": "edge_id=612397895<br>segment=612397895-0<br>lat=%{lat}<br>lon=%{lon}<extra></extra>",
         "lat": {
          "bdata": "S9nY2xxsQsDf46fMKGxCwA==",
          "dtype": "f8"
         },
         "legendgroup": "612397895",
         "line": {
          "color": "#FF6692"
         },
         "lon": {
          "bdata": "hdPd0K/XZUDSVoBKsNdlQA==",
          "dtype": "f8"
         },
         "mode": "lines",
         "name": "612397895",
         "showlegend": true,
         "subplot": "mapbox",
         "type": "scattermapbox"
        },
        {
         "hovertemplate": "edge_id=620736505<br>segment=620736505-0<br>lat=%{lat}<br>lon=%{lon}<extra></extra>",
         "lat": {
          "bdata": "TvuccdBtQsBOzYpN0G1CwMUXkjjQbULA",
          "dtype": "f8"
         },
         "legendgroup": "620736505",
         "line": {
          "color": "#B6E880"
         },
         "lon": {
          "bdata": "8Bu6NFnYZUCbtcoCXNhlQNAKDFld2GVA",
          "dtype": "f8"
         },
         "mode": "lines",
         "name": "620736505",
         "showlegend": true,
         "subplot": "mapbox",
         "type": "scattermapbox"
        },
        {
         "hovertemplate": "edge_id=620918970<br>segment=620918970-0<br>lat=%{lat}<br>lon=%{lon}<extra></extra>",
         "lat": {
          "bdata": "xbk8jP9tQsA0MiMX921CwCoGo+3zbULA",
          "dtype": "f8"
         },
         "legendgroup": "620918970",
         "line": {
          "color": "#FF97FF"
         },
         "lon": {
          "bdata": "1fZlHxrYZUDoq5rWHNhlQFxvQPAd2GVA",
          "dtype": "f8"
         },
         "mode": "lines",
         "name": "620918970",
         "showlegend": true,
         "subplot": "mapbox",
         "type": "scattermapbox"
        },
        {
         "hovertemplate": "edge_id=617488771<br>segment=617488771-0<br>lat=%{lat}<br>lon=%{lon}<extra></extra>",
         "lat": {
          "bdata": "t0YE4+BuQsA/UunM4m5CwA==",
          "dtype": "f8"
         },
         "legendgroup": "617488771",
         "line": {
          "color": "#FECB52"
         },
         "lon": {
          "bdata": "/JASFrDYZUA6JLVQsthlQA==",
          "dtype": "f8"
         },
         "mode": "lines",
         "name": "617488771",
         "showlegend": true,
         "subplot": "mapbox",
         "type": "scattermapbox"
        },
        {
         "hovertemplate": "edge_id=614967565<br>segment=614967565-0<br>lat=%{lat}<br>lon=%{lon}<extra></extra>",
         "lat": {
          "bdata": "YO2Dh8RnQsDX79MCxWdCwA==",
          "dtype": "f8"
         },
         "legendgroup": "614967565",
         "line": {
          "color": "#636efa"
         },
         "lon": {
          "bdata": "Xw+BfrrXZUAIKGjuvNdlQA==",
          "dtype": "f8"
         },
         "mode": "lines",
         "name": "614967565",
         "showlegend": true,
         "subplot": "mapbox",
         "type": "scattermapbox"
        },
        {
         "hovertemplate": "edge_id=7637348<br>segment=7637348-0<br>lat=%{lat}<br>lon=%{lon}<extra></extra>",
         "lat": {
          "bdata": "15ghn6FrQsArE36pn2tCwA8GQ8Kca0LApgXUQJhrQsA=",
          "dtype": "f8"
         },
         "legendgroup": "7637348",
         "line": {
          "color": "#EF553B"
         },
         "lon": {
          "bdata": "FGf7RqrXZUBQDH88qtdlQCmExCyq12VAKYTELKrXZUA=",
          "dtype": "f8"
         },
         "mode": "lines",
         "name": "7637348",
         "showlegend": true,
         "subplot": "mapbox",
         "type": "scattermapbox"
        },
        {
         "hovertemplate": "edge_id=4279302<br>segment=4279302-0<br>lat=%{lat}<br>lon=%{lon}<extra></extra>",
         "lat": {
          "bdata": "OVMySuFtQsCMHUO24m1CwA==",
          "dtype": "f8"
         },
         "legendgroup": "4279302",
         "line": {
          "color": "#00cc96"
         },
         "lon": {
          "bdata": "FO2FXW/YZUAUGPxHcNhlQA==",
          "dtype": "f8"
         },
         "mode": "lines",
         "name": "4279302",
         "showlegend": true,
         "subplot": "mapbox",
         "type": "scattermapbox"
        },
        {
         "hovertemplate": "edge_id=106989262<br>segment=106989262-0<br>lat=%{lat}<br>lon=%{lon}<extra></extra>",
         "lat": {
          "bdata": "WhE10edtQsCLta6H5W1CwA==",
          "dtype": "f8"
         },
         "legendgroup": "106989262",
         "line": {
          "color": "#ab63fa"
         },
         "lon": {
          "bdata": "vbfYoybYZUBN1qiHKNhlQA==",
          "dtype": "f8"
         },
         "mode": "lines",
         "name": "106989262",
         "showlegend": true,
         "subplot": "mapbox",
         "type": "scattermapbox"
        },
        {
         "hovertemplate": "edge_id=612703680<br>segment=612703680-0<br>lat=%{lat}<br>lon=%{lon}<extra></extra>",
         "lat": {
          "bdata": "DqTmBp5tQsDpwZPMoG1CwGtSwCyjbULAauor/qVtQsA=",
          "dtype": "f8"
         },
         "legendgroup": "612703680",
         "line": {
          "color": "#FFA15A"
         },
         "lon": {
          "bdata": "Q+9DlOXXZUB4RyEk5tdlQN1Rrc/m12VArSaZ5ufXZUA=",
          "dtype": "f8"
         },
         "mode": "lines",
         "name": "612703680",
         "showlegend": true,
         "subplot": "mapbox",
         "type": "scattermapbox"
        },
        {
         "hovertemplate": "edge_id=120740330<br>segment=120740330-0<br>lat=%{lat}<br>lon=%{lon}<extra></extra>",
         "lat": {
          "bdata": "8p8kE6ZsQsD080tpomxCwH73M2GgbELAfxHZrJ9sQsDYiuw5n2xCwPZHc7+ebELAr22b851sQsDl4rkInWxCwKrKCLmcbELAnjb0YJxsQsB7jiMxnGxCwF3rQfebbELABLrl2ZtsQsCN5aeCm2xCwA==",
          "dtype": "f8"
         },
         "legendgroup": "120740330",
         "line": {
          "color": "#19d3f3"
         },
         "lon": {
          "bdata": "1ThA1c3XZUDb4QqDzddlQE81H3zN12VAUiwSbs3XZUBVIwVgzddlQDKpRlTN12VAykgHNc3XZUC71Aj9zNdlQHPgi+XM12VANf/5x8zXZUCpOwWvzNdlQAgtNYzM12VAi5gjdczXZUAvz5Tny9dlQA==",
          "dtype": "f8"
         },
         "mode": "lines",
         "name": "120740330",
         "showlegend": true,
         "subplot": "mapbox",
         "type": "scattermapbox"
        },
        {
         "hovertemplate": "edge_id=670234632<br>segment=670234632-0<br>lat=%{lat}<br>lon=%{lon}<extra></extra>",
         "lat": {
          "bdata": "/id/945oQsDI1LiSeGhCwA==",
          "dtype": "f8"
         },
         "legendgroup": "670234632",
         "line": {
          "color": "#FF6692"
         },
         "lon": {
          "bdata": "qKId3ALYZUBdDZqnBNhlQA==",
          "dtype": "f8"
         },
         "mode": "lines",
         "name": "670234632",
         "showlegend": true,
         "subplot": "mapbox",
         "type": "scattermapbox"
        },
        {
         "hovertemplate": "edge_id=637290342<br>segment=637290342-0<br>lat=%{lat}<br>lon=%{lon}<extra></extra>",
         "lat": {
          "bdata": "vClAb4VrQsBXKgNibWtCwA==",
          "dtype": "f8"
         },
         "legendgroup": "637290342",
         "line": {
          "color": "#B6E880"
         },
         "lon": {
          "bdata": "akVAKqrXZUDktEwrqtdlQA==",
          "dtype": "f8"
         },
         "mode": "lines",
         "name": "637290342",
         "showlegend": true,
         "subplot": "mapbox",
         "type": "scattermapbox"
        },
        {
         "hovertemplate": "edge_id=149494098<br>segment=149494098-0<br>lat=%{lat}<br>lon=%{lon}<extra></extra>",
         "lat": {
          "bdata": "5sqg2uBtQsD/bsuR321CwFOhcCzebULA",
          "dtype": "f8"
         },
         "legendgroup": "149494098",
         "line": {
          "color": "#FF97FF"
         },
         "lon": {
          "bdata": "4IZzaCzYZUAhuICGLdhlQAPKS6Mu2GVA",
          "dtype": "f8"
         },
         "mode": "lines",
         "name": "149494098",
         "showlegend": true,
         "subplot": "mapbox",
         "type": "scattermapbox"
        },
        {
         "hovertemplate": "edge_id=822845477<br>segment=822845477-0<br>lat=%{lat}<br>lon=%{lon}<extra></extra>",
         "lat": {
          "bdata": "QRmZNtJtQsCYgARq1m1CwJ7HclzXbULA",
          "dtype": "f8"
         },
         "legendgroup": "822845477",
         "line": {
          "color": "#FECB52"
         },
         "lon": {
          "bdata": "qOViZ2XYZUDCiH0CaNhlQC2B75Fo2GVA",
          "dtype": "f8"
         },
         "mode": "lines",
         "name": "822845477",
         "showlegend": true,
         "subplot": "mapbox",
         "type": "scattermapbox"
        },
        {
         "hovertemplate": "edge_id=620736507<br>segment=620736507-0<br>lat=%{lat}<br>lon=%{lon}<extra></extra>",
         "lat": {
          "bdata": "nsdyXNdtQsAquGl9221CwHZdrjTfbULABdDez99tQsA=",
          "dtype": "f8"
         },
         "legendgroup": "620736507",
         "line": {
          "color": "#636efa"
         },
         "lon": {
          "bdata": "LYHvkWjYZUBJSQ9Da9hlQKStpdtt2GVAfcYqSm7YZUA=",
          "dtype": "f8"
         },
         "mode": "lines",
         "name": "620736507",
         "showlegend": true,
         "subplot": "mapbox",
         "type": "scattermapbox"
        },
        {
         "hovertemplate": "edge_id=616787781<br>segment=616787781-0<br>lat=%{lat}<br>lon=%{lon}<extra></extra>",
         "lat": {
          "bdata": "+0tBbQpvQsAG2h1SDG9CwA==",
          "dtype": "f8"
         },
         "legendgroup": "616787781",
         "line": {
          "color": "#EF553B"
         },
         "lon": {
          "bdata": "tNzjluDYZUAMBWwH49hlQA==",
          "dtype": "f8"
         },
         "mode": "lines",
         "name": "616787781",
         "showlegend": true,
         "subplot": "mapbox",
         "type": "scattermapbox"
        },
        {
         "hovertemplate": "edge_id=120740331<br>segment=120740331-0<br>lat=%{lat}<br>lon=%{lon}<extra></extra>",
         "lat": {
          "bdata": "UoPE0bBsQsC5uUJpuWxCwJBJRs7CbELAZLjwcsdsQsBiwy7l12xCwJmPtdDfbELAKbVyiulsQsA8pd6u8mxCwED0SZP3bELAtUZOcPtsQsBaeRON/2xCwD5HP3UHbULAUEsYchFtQsASfeMQFm1CwI5kRcMYbULAR1Sobi5tQsAEdpAyPW1CwNMtO8Q/bULA",
          "dtype": "f8"
         },
         "legendgroup": "120740331",
         "line": {
          "color": "#00cc96"
         },
         "lon": {
          "bdata": "Iv5hS8/XZUBpqifzz9dlQNfep6rQ12VA5YC4BtHXZUAOnglN0tdlQKw/HerS12VAK8iFudPXZUA63cNv1NdlQB8AJ8rU12VAipx0EdXXZUDR7BVx1ddlQC3ktiLW12VAuY0G8NbXZUBQzgZP19dlQK8yZIbX12VAL+ZCQNnXZUCl/P+T2tdlQHW9ftLa12VA",
          "dtype": "f8"
         },
         "mode": "lines",
         "name": "120740331",
         "showlegend": true,
         "subplot": "mapbox",
         "type": "scattermapbox"
        },
        {
         "hovertemplate": "edge_id=615577412<br>segment=615577412-0<br>lat=%{lat}<br>lon=%{lon}<extra></extra>",
         "lat": {
          "bdata": "2scKfhtoQsDhtUsbDmhCwA==",
          "dtype": "f8"
         },
         "legendgroup": "615577412",
         "line": {
          "color": "#ab63fa"
         },
         "lon": {
          "bdata": "pwKTwAvYZUBI6YgyCthlQA==",
          "dtype": "f8"
         },
         "mode": "lines",
         "name": "615577412",
         "showlegend": true,
         "subplot": "mapbox",
         "type": "scattermapbox"
        },
        {
         "hovertemplate": "edge_id=523969314<br>segment=523969314-0<br>lat=%{lat}<br>lon=%{lon}<extra></extra>",
         "lat": {
          "bdata": "KS0SyUZoQsBL7gtDP2hCwN3A0xo5aELAaKIZ1TNoQsAcm3hiMWhCwFO6qqIuaELAkJYUaSxoQsCpbom3KWhCwM6sADonaELAyvs4miNoQsA=",
          "dtype": "f8"
         },
         "legendgroup": "523969314",
         "line": {
          "color": "#FFA15A"
         },
         "lon": {
          "bdata": "70FjgQrYZUCPH4VGC9hlQCSurekL2GVAzSuNTgzYZUAgWPp1DNhlQEHbxY8M2GVASgW6mwzYZUAIRD6eDNhlQJTZIJMM2GVAUNyWbQzYZUA=",
          "dtype": "f8"
         },
         "mode": "lines",
         "name": "523969314",
         "showlegend": true,
         "subplot": "mapbox",
         "type": "scattermapbox"
        },
        {
         "hovertemplate": "edge_id=52728318<br>segment=52728318-0<br>lat=%{lat}<br>lon=%{lon}<extra></extra>",
         "lat": {
          "bdata": "WsY84dtuQsB3fYvz3G5CwOeixinfbkLAt0YE4+BuQsA=",
          "dtype": "f8"
         },
         "legendgroup": "52728318",
         "line": {
          "color": "#19d3f3"
         },
         "lon": {
          "bdata": "VZuknqrYZUBb4hKRq9hlQPSdBNut2GVA/JASFrDYZUA=",
          "dtype": "f8"
         },
         "mode": "lines",
         "name": "52728318",
         "showlegend": true,
         "subplot": "mapbox",
         "type": "scattermapbox"
        },
        {
         "hovertemplate": "edge_id=623580299<br>segment=623580299-0<br>lat=%{lat}<br>lon=%{lon}<extra></extra>",
         "lat": {
          "bdata": "Eo1J2uhtQsBy4UBIFm5CwA==",
          "dtype": "f8"
         },
         "legendgroup": "623580299",
         "line": {
          "color": "#FF6692"
         },
         "lon": {
          "bdata": "KvI1FXPYZUD9dPLYhdhlQA==",
          "dtype": "f8"
         },
         "mode": "lines",
         "name": "623580299",
         "showlegend": true,
         "subplot": "mapbox",
         "type": "scattermapbox"
        },
        {
         "hovertemplate": "edge_id=276984114<br>segment=276984114-0<br>lat=%{lat}<br>lon=%{lon}<extra></extra>",
         "lat": {
          "bdata": "ZdKVvsZtQsDECOHRxm1CwMoN0MfGbULAsssBzMZtQsBlLroGx21CwE12InfHbULApl/HJMhtQsDO7KmLym1CwMI+8OfKbULA/KyNDM1tQsA=",
          "dtype": "f8"
         },
         "legendgroup": "276984114",
         "line": {
          "color": "#B6E880"
         },
         "lon": {
          "bdata": "Vng80kXYZUDOyHswRNhlQJB0vLhD2GVAe4ihMEPYZUAZoxqbQthlQNUyYxtC2GVA2YgWj0HYZUAGksGbP9hlQNqR6js/2GVAI+77gTzYZUA=",
          "dtype": "f8"
         },
         "mode": "lines",
         "name": "276984114",
         "showlegend": true,
         "subplot": "mapbox",
         "type": "scattermapbox"
        },
        {
         "hovertemplate": "edge_id=4282831<br>segment=4282831-0<br>lat=%{lat}<br>lon=%{lon}<extra></extra>",
         "lat": {
          "bdata": "bJ0T1iFuQsDimSveI25CwCNBApAkbkLAUgcehCVuQsAcHDbbJm5CwKQTruwnbkLA",
          "dtype": "f8"
         },
         "legendgroup": "4282831",
         "line": {
          "color": "#FF97FF"
         },
         "lon": {
          "bdata": "mEwVjIrYZUAMtJZdi9hlQDOYdbWL2GVAIyHbQ4zYZUDt2c5SjdhlQJY9CWyO2GVA",
          "dtype": "f8"
         },
         "mode": "lines",
         "name": "4282831",
         "showlegend": true,
         "subplot": "mapbox",
         "type": "scattermapbox"
        },
        {
         "hovertemplate": "edge_id=149494108<br>segment=149494108-0<br>lat=%{lat}<br>lon=%{lon}<extra></extra>",
         "lat": {
          "bdata": "Cd0lcVZtQsDZCpqWWG1CwNdjx+tmbULAVxaWiWxtQsAIyQImcG1CwP2zMFV6bULAyHvVyoRtQsASzfIrjG1CwFWjVwOUbULA",
          "dtype": "f8"
         },
         "legendgroup": "149494108",
         "line": {
          "color": "#FECB52"
         },
         "lon": {
          "bdata": "3BTqRN3XZUB9UcyL3ddlQOSr0zff12VAAtnr3d/XZUAr4s9L4NdlQDyPQHLh12VATjyxmOLXZUBim/l649dlQKaV52bk12VA",
          "dtype": "f8"
         },
         "mode": "lines",
         "name": "149494108",
         "showlegend": true,
         "subplot": "mapbox",
         "type": "scattermapbox"
        },
        {
         "hovertemplate": "edge_id=858839514<br>segment=858839514-0<br>lat=%{lat}<br>lon=%{lon}<extra></extra>",
         "lat": {
          "bdata": "NlmjHqJpQsA/CSJBp2lCwA==",
          "dtype": "f8"
         },
         "legendgroup": "858839514",
         "line": {
          "color": "#636efa"
         },
         "lon": {
          "bdata": "5G/WO/fXZUB67B0k+tdlQA==",
          "dtype": "f8"
         },
         "mode": "lines",
         "name": "858839514",
         "showlegend": true,
         "subplot": "mapbox",
         "type": "scattermapbox"
        },
        {
         "hovertemplate": "edge_id=759820758<br>segment=759820758-0<br>lat=%{lat}<br>lon=%{lon}<extra></extra>",
         "lat": {
          "bdata": "p1GSv8VnQsA798N0xmdCwHxwiALHZ0LAHJApxMhnQsA=",
          "dtype": "f8"
         },
         "legendgroup": "759820758",
         "line": {
          "color": "#EF553B"
         },
         "lon": {
          "bdata": "zeCUXsDXZUCEP2jiwtdlQMPvS6LD12VAudYoNcXXZUA=",
          "dtype": "f8"
         },
         "mode": "lines",
         "name": "759820758",
         "showlegend": true,
         "subplot": "mapbox",
         "type": "scattermapbox"
        },
        {
         "hovertemplate": "edge_id=624801301<br>segment=624801301-0<br>lat=%{lat}<br>lon=%{lon}<extra></extra>",
         "lat": {
          "bdata": "nFxC9FpsQsDTakjcY2xCwEmVcghmbELA",
          "dtype": "f8"
         },
         "legendgroup": "624801301",
         "line": {
          "color": "#00cc96"
         },
         "lon": {
          "bdata": "vG5bpcXXZUCu4kM/yddlQGZHTzbK12VA",
          "dtype": "f8"
         },
         "mode": "lines",
         "name": "624801301",
         "showlegend": true,
         "subplot": "mapbox",
         "type": "scattermapbox"
        },
        {
         "hovertemplate": "edge_id=620918972<br>segment=620918972-0<br>lat=%{lat}<br>lon=%{lon}<extra></extra>",
         "lat": {
          "bdata": "Sl8IOe9tQsBHcvkP6W1CwFoRNdHnbULA",
          "dtype": "f8"
         },
         "legendgroup": "620918972",
         "line": {
          "color": "#ab63fa"
         },
         "lon": {
          "bdata": "chtomSDYZUBnaQKgJdhlQL232KMm2GVA",
          "dtype": "f8"
         },
         "mode": "lines",
         "name": "620918972",
         "showlegend": true,
         "subplot": "mapbox",
         "type": "scattermapbox"
        },
        {
         "hovertemplate": "edge_id=617488800<br>segment=617488800-0<br>lat=%{lat}<br>lon=%{lon}<extra></extra>",
         "lat": {
          "bdata": "bVJ2n4huQsDJLmLpjW5CwA==",
          "dtype": "f8"
         },
         "legendgroup": "617488800",
         "line": {
          "color": "#FFA15A"
         },
         "lon": {
          "bdata": "VWdaB6zYZUC9OseArNhlQA==",
          "dtype": "f8"
         },
         "mode": "lines",
         "name": "617488800",
         "showlegend": true,
         "subplot": "mapbox",
         "type": "scattermapbox"
        },
        {
         "hovertemplate": "edge_id=612703682<br>segment=612703682-0<br>lat=%{lat}<br>lon=%{lon}<extra></extra>",
         "lat": {
          "bdata": "0y07xD9tQsDkpmFTQm1CwJPDJ51IbULAzCVV201tQsA=",
          "dtype": "f8"
         },
         "legendgroup": "612703682",
         "line": {
          "color": "#19d3f3"
         },
         "lon": {
          "bdata": "db1+0trXZUAxSisZ29dlQASj3Mfb12VASCqdWdzXZUA=",
          "dtype": "f8"
         },
         "mode": "lines",
         "name": "612703682",
         "showlegend": true,
         "subplot": "mapbox",
         "type": "scattermapbox"
        },
        {
         "hovertemplate": "edge_id=612703675<br>segment=612703675-0<br>lat=%{lat}<br>lon=%{lon}<extra></extra>",
         "lat": {
          "bdata": "yvli78VtQsDmpEEbym1CwDiXLDjNbULA",
          "dtype": "f8"
         },
         "legendgroup": "612703675",
         "line": {
          "color": "#FF6692"
         },
         "lon": {
          "bdata": "Z1GOuPbXZUCKOEKr+NdlQKQ9uQH612VA",
          "dtype": "f8"
         },
         "mode": "lines",
         "name": "612703675",
         "showlegend": true,
         "subplot": "mapbox",
         "type": "scattermapbox"
        }
       ],
       "layout": {
        "height": 560,
        "legend": {
         "title": {
          "text": "edge_id"
         },
         "tracegroupgap": 0
        },
        "mapbox": {
         "center": {
          "lat": -36.842969872315656,
          "lon": 174.7521981274256
         },
         "domain": {
          "x": [
           0,
           1
          ],
          "y": [
           0,
           1
          ]
         },
         "style": "carto-positron",
         "zoom": 13
        },
        "margin": {
         "b": 0,
         "l": 0,
         "r": 0,
         "t": 0
        },
        "template": {
         "data": {
          "bar": [
           {
            "error_x": {
             "color": "#2a3f5f"
            },
            "error_y": {
             "color": "#2a3f5f"
            },
            "marker": {
             "line": {
              "color": "#E5ECF6",
              "width": 0.5
             },
             "pattern": {
              "fillmode": "overlay",
              "size": 10,
              "solidity": 0.2
             }
            },
            "type": "bar"
           }
          ],
          "barpolar": [
           {
            "marker": {
             "line": {
              "color": "#E5ECF6",
              "width": 0.5
             },
             "pattern": {
              "fillmode": "overlay",
              "size": 10,
              "solidity": 0.2
             }
            },
            "type": "barpolar"
           }
          ],
          "carpet": [
           {
            "aaxis": {
             "endlinecolor": "#2a3f5f",
             "gridcolor": "white",
             "linecolor": "white",
             "minorgridcolor": "white",
             "startlinecolor": "#2a3f5f"
            },
            "baxis": {
             "endlinecolor": "#2a3f5f",
             "gridcolor": "white",
             "linecolor": "white",
             "minorgridcolor": "white",
             "startlinecolor": "#2a3f5f"
            },
            "type": "carpet"
           }
          ],
          "choropleth": [
           {
            "colorbar": {
             "outlinewidth": 0,
             "ticks": ""
            },
            "type": "choropleth"
           }
          ],
          "contour": [
           {
            "colorbar": {
             "outlinewidth": 0,
             "ticks": ""
            },
            "colorscale": [
             [
              0,
              "#0d0887"
             ],
             [
              0.1111111111111111,
              "#46039f"
             ],
             [
              0.2222222222222222,
              "#7201a8"
             ],
             [
              0.3333333333333333,
              "#9c179e"
             ],
             [
              0.4444444444444444,
              "#bd3786"
             ],
             [
              0.5555555555555556,
              "#d8576b"
             ],
             [
              0.6666666666666666,
              "#ed7953"
             ],
             [
              0.7777777777777778,
              "#fb9f3a"
             ],
             [
              0.8888888888888888,
              "#fdca26"
             ],
             [
              1,
              "#f0f921"
             ]
            ],
            "type": "contour"
           }
          ],
          "contourcarpet": [
           {
            "colorbar": {
             "outlinewidth": 0,
             "ticks": ""
            },
            "type": "contourcarpet"
           }
          ],
          "heatmap": [
           {
            "colorbar": {
             "outlinewidth": 0,
             "ticks": ""
            },
            "colorscale": [
             [
              0,
              "#0d0887"
             ],
             [
              0.1111111111111111,
              "#46039f"
             ],
             [
              0.2222222222222222,
              "#7201a8"
             ],
             [
              0.3333333333333333,
              "#9c179e"
             ],
             [
              0.4444444444444444,
              "#bd3786"
             ],
             [
              0.5555555555555556,
              "#d8576b"
             ],
             [
              0.6666666666666666,
              "#ed7953"
             ],
             [
              0.7777777777777778,
              "#fb9f3a"
             ],
             [
              0.8888888888888888,
              "#fdca26"
             ],
             [
              1,
              "#f0f921"
             ]
            ],
            "type": "heatmap"
           }
          ],
          "histogram": [
           {
            "marker": {
             "pattern": {
              "fillmode": "overlay",
              "size": 10,
              "solidity": 0.2
             }
            },
            "type": "histogram"
           }
          ],
          "histogram2d": [
           {
            "colorbar": {
             "outlinewidth": 0,
             "ticks": ""
            },
            "colorscale": [
             [
              0,
              "#0d0887"
             ],
             [
              0.1111111111111111,
              "#46039f"
             ],
             [
              0.2222222222222222,
              "#7201a8"
             ],
             [
              0.3333333333333333,
              "#9c179e"
             ],
             [
              0.4444444444444444,
              "#bd3786"
             ],
             [
              0.5555555555555556,
              "#d8576b"
             ],
             [
              0.6666666666666666,
              "#ed7953"
             ],
             [
              0.7777777777777778,
              "#fb9f3a"
             ],
             [
              0.8888888888888888,
              "#fdca26"
             ],
             [
              1,
              "#f0f921"
             ]
            ],
            "type": "histogram2d"
           }
          ],
          "histogram2dcontour": [
           {
            "colorbar": {
             "outlinewidth": 0,
             "ticks": ""
            },
            "colorscale": [
             [
              0,
              "#0d0887"
             ],
             [
              0.1111111111111111,
              "#46039f"
             ],
             [
              0.2222222222222222,
              "#7201a8"
             ],
             [
              0.3333333333333333,
              "#9c179e"
             ],
             [
              0.4444444444444444,
              "#bd3786"
             ],
             [
              0.5555555555555556,
              "#d8576b"
             ],
             [
              0.6666666666666666,
              "#ed7953"
             ],
             [
              0.7777777777777778,
              "#fb9f3a"
             ],
             [
              0.8888888888888888,
              "#fdca26"
             ],
             [
              1,
              "#f0f921"
             ]
            ],
            "type": "histogram2dcontour"
           }
          ],
          "mesh3d": [
           {
            "colorbar": {
             "outlinewidth": 0,
             "ticks": ""
            },
            "type": "mesh3d"
           }
          ],
          "parcoords": [
           {
            "line": {
             "colorbar": {
              "outlinewidth": 0,
              "ticks": ""
             }
            },
            "type": "parcoords"
           }
          ],
          "pie": [
           {
            "automargin": true,
            "type": "pie"
           }
          ],
          "scatter": [
           {
            "fillpattern": {
             "fillmode": "overlay",
             "size": 10,
             "solidity": 0.2
            },
            "type": "scatter"
           }
          ],
          "scatter3d": [
           {
            "line": {
             "colorbar": {
              "outlinewidth": 0,
              "ticks": ""
             }
            },
            "marker": {
             "colorbar": {
              "outlinewidth": 0,
              "ticks": ""
             }
            },
            "type": "scatter3d"
           }
          ],
          "scattercarpet": [
           {
            "marker": {
             "colorbar": {
              "outlinewidth": 0,
              "ticks": ""
             }
            },
            "type": "scattercarpet"
           }
          ],
          "scattergeo": [
           {
            "marker": {
             "colorbar": {
              "outlinewidth": 0,
              "ticks": ""
             }
            },
            "type": "scattergeo"
           }
          ],
          "scattergl": [
           {
            "marker": {
             "colorbar": {
              "outlinewidth": 0,
              "ticks": ""
             }
            },
            "type": "scattergl"
           }
          ],
          "scattermap": [
           {
            "marker": {
             "colorbar": {
              "outlinewidth": 0,
              "ticks": ""
             }
            },
            "type": "scattermap"
           }
          ],
          "scattermapbox": [
           {
            "marker": {
             "colorbar": {
              "outlinewidth": 0,
              "ticks": ""
             }
            },
            "type": "scattermapbox"
           }
          ],
          "scatterpolar": [
           {
            "marker": {
             "colorbar": {
              "outlinewidth": 0,
              "ticks": ""
             }
            },
            "type": "scatterpolar"
           }
          ],
          "scatterpolargl": [
           {
            "marker": {
             "colorbar": {
              "outlinewidth": 0,
              "ticks": ""
             }
            },
            "type": "scatterpolargl"
           }
          ],
          "scatterternary": [
           {
            "marker": {
             "colorbar": {
              "outlinewidth": 0,
              "ticks": ""
             }
            },
            "type": "scatterternary"
           }
          ],
          "surface": [
           {
            "colorbar": {
             "outlinewidth": 0,
             "ticks": ""
            },
            "colorscale": [
             [
              0,
              "#0d0887"
             ],
             [
              0.1111111111111111,
              "#46039f"
             ],
             [
              0.2222222222222222,
              "#7201a8"
             ],
             [
              0.3333333333333333,
              "#9c179e"
             ],
             [
              0.4444444444444444,
              "#bd3786"
             ],
             [
              0.5555555555555556,
              "#d8576b"
             ],
             [
              0.6666666666666666,
              "#ed7953"
             ],
             [
              0.7777777777777778,
              "#fb9f3a"
             ],
             [
              0.8888888888888888,
              "#fdca26"
             ],
             [
              1,
              "#f0f921"
             ]
            ],
            "type": "surface"
           }
          ],
          "table": [
           {
            "cells": {
             "fill": {
              "color": "#EBF0F8"
             },
             "line": {
              "color": "white"
             }
            },
            "header": {
             "fill": {
              "color": "#C8D4E3"
             },
             "line": {
              "color": "white"
             }
            },
            "type": "table"
           }
          ]
         },
         "layout": {
          "annotationdefaults": {
           "arrowcolor": "#2a3f5f",
           "arrowhead": 0,
           "arrowwidth": 1
          },
          "autotypenumbers": "strict",
          "coloraxis": {
           "colorbar": {
            "outlinewidth": 0,
            "ticks": ""
           }
          },
          "colorscale": {
           "diverging": [
            [
             0,
             "#8e0152"
            ],
            [
             0.1,
             "#c51b7d"
            ],
            [
             0.2,
             "#de77ae"
            ],
            [
             0.3,
             "#f1b6da"
            ],
            [
             0.4,
             "#fde0ef"
            ],
            [
             0.5,
             "#f7f7f7"
            ],
            [
             0.6,
             "#e6f5d0"
            ],
            [
             0.7,
             "#b8e186"
            ],
            [
             0.8,
             "#7fbc41"
            ],
            [
             0.9,
             "#4d9221"
            ],
            [
             1,
             "#276419"
            ]
           ],
           "sequential": [
            [
             0,
             "#0d0887"
            ],
            [
             0.1111111111111111,
             "#46039f"
            ],
            [
             0.2222222222222222,
             "#7201a8"
            ],
            [
             0.3333333333333333,
             "#9c179e"
            ],
            [
             0.4444444444444444,
             "#bd3786"
            ],
            [
             0.5555555555555556,
             "#d8576b"
            ],
            [
             0.6666666666666666,
             "#ed7953"
            ],
            [
             0.7777777777777778,
             "#fb9f3a"
            ],
            [
             0.8888888888888888,
             "#fdca26"
            ],
            [
             1,
             "#f0f921"
            ]
           ],
           "sequentialminus": [
            [
             0,
             "#0d0887"
            ],
            [
             0.1111111111111111,
             "#46039f"
            ],
            [
             0.2222222222222222,
             "#7201a8"
            ],
            [
             0.3333333333333333,
             "#9c179e"
            ],
            [
             0.4444444444444444,
             "#bd3786"
            ],
            [
             0.5555555555555556,
             "#d8576b"
            ],
            [
             0.6666666666666666,
             "#ed7953"
            ],
            [
             0.7777777777777778,
             "#fb9f3a"
            ],
            [
             0.8888888888888888,
             "#fdca26"
            ],
            [
             1,
             "#f0f921"
            ]
           ]
          },
          "colorway": [
           "#636efa",
           "#EF553B",
           "#00cc96",
           "#ab63fa",
           "#FFA15A",
           "#19d3f3",
           "#FF6692",
           "#B6E880",
           "#FF97FF",
           "#FECB52"
          ],
          "font": {
           "color": "#2a3f5f"
          },
          "geo": {
           "bgcolor": "white",
           "lakecolor": "white",
           "landcolor": "#E5ECF6",
           "showlakes": true,
           "showland": true,
           "subunitcolor": "white"
          },
          "hoverlabel": {
           "align": "left"
          },
          "hovermode": "closest",
          "mapbox": {
           "style": "light"
          },
          "paper_bgcolor": "white",
          "plot_bgcolor": "#E5ECF6",
          "polar": {
           "angularaxis": {
            "gridcolor": "white",
            "linecolor": "white",
            "ticks": ""
           },
           "bgcolor": "#E5ECF6",
           "radialaxis": {
            "gridcolor": "white",
            "linecolor": "white",
            "ticks": ""
           }
          },
          "scene": {
           "xaxis": {
            "backgroundcolor": "#E5ECF6",
            "gridcolor": "white",
            "gridwidth": 2,
            "linecolor": "white",
            "showbackground": true,
            "ticks": "",
            "zerolinecolor": "white"
           },
           "yaxis": {
            "backgroundcolor": "#E5ECF6",
            "gridcolor": "white",
            "gridwidth": 2,
            "linecolor": "white",
            "showbackground": true,
            "ticks": "",
            "zerolinecolor": "white"
           },
           "zaxis": {
            "backgroundcolor": "#E5ECF6",
            "gridcolor": "white",
            "gridwidth": 2,
            "linecolor": "white",
            "showbackground": true,
            "ticks": "",
            "zerolinecolor": "white"
           }
          },
          "shapedefaults": {
           "line": {
            "color": "#2a3f5f"
           }
          },
          "ternary": {
           "aaxis": {
            "gridcolor": "white",
            "linecolor": "white",
            "ticks": ""
           },
           "baxis": {
            "gridcolor": "white",
            "linecolor": "white",
            "ticks": ""
           },
           "bgcolor": "#E5ECF6",
           "caxis": {
            "gridcolor": "white",
            "linecolor": "white",
            "ticks": ""
           }
          },
          "title": {
           "x": 0.05
          },
          "xaxis": {
           "automargin": true,
           "gridcolor": "white",
           "linecolor": "white",
           "ticks": "",
           "title": {
            "standoff": 15
           },
           "zerolinecolor": "white",
           "zerolinewidth": 2
          },
          "yaxis": {
           "automargin": true,
           "gridcolor": "white",
           "linecolor": "white",
           "ticks": "",
           "title": {
            "standoff": 15
           },
           "zerolinecolor": "white",
           "zerolinewidth": 2
          }
         }
        }
       }
      }
     },
     "metadata": {},
     "output_type": "display_data"
    }
   ],
   "source": [
    "# Plot edge polylines on OpenStreetMap using px.line_mapbox\n",
    "import json\n",
    "import pandas as pd\n",
    "import plotly.express as px\n",
    "from IPython.display import HTML, display\n",
    "try:\n",
    "    from shapely import wkt as shapely_wkt\n",
    "    from shapely.geometry import LineString, MultiLineString\n",
    "except Exception:\n",
    "    shapely_wkt = None\n",
    "    LineString = MultiLineString = None\n",
    "\n",
    "if df is None or len(df) == 0:\n",
    "    print(\"No edges to plot in df.\")\n",
    "else:\n",
    "    recs = []\n",
    "    for _, row in df.iterrows():\n",
    "        geom = row.get('edge_geom')\n",
    "        eid = str(row.get('edge_id'))\n",
    "        if geom is None:\n",
    "            continue\n",
    "        coords_groups = []\n",
    "        # GeoJSON string path\n",
    "        gj = None\n",
    "        if isinstance(geom, str):\n",
    "            try:\n",
    "                gj = json.loads(geom)\n",
    "            except Exception:\n",
    "                gj = None\n",
    "        if gj and isinstance(gj, dict):\n",
    "            typ = gj.get('type')\n",
    "            if typ == 'LineString':\n",
    "                coords_groups = [gj['coordinates']]\n",
    "            elif typ == 'MultiLineString':\n",
    "                coords_groups = gj['coordinates']\n",
    "        # __geo_interface__ path\n",
    "        if not coords_groups and hasattr(geom, '__geo_interface__'):\n",
    "            gi = geom.__geo_interface__\n",
    "            typ = gi.get('type')\n",
    "            if typ == 'LineString':\n",
    "                coords_groups = [gi['coordinates']]\n",
    "            elif typ == 'MultiLineString':\n",
    "                coords_groups = gi['coordinates']\n",
    "        # WKT path via shapely if available\n",
    "        if not coords_groups and isinstance(geom, str) and shapely_wkt is not None:\n",
    "            try:\n",
    "                g = shapely_wkt.loads(geom)\n",
    "                if isinstance(g, LineString):\n",
    "                    coords_groups = [list(g.coords)]\n",
    "                elif isinstance(g, MultiLineString):\n",
    "                    coords_groups = [list(ls.coords) for ls in g.geoms]\n",
    "            except Exception:\n",
    "                pass\n",
    "        for idx, coords in enumerate(coords_groups):\n",
    "            for lon, lat in coords:\n",
    "                recs.append({'lon': float(lon), 'lat': float(lat), 'segment': f\"{eid}-{idx}\", 'edge_id': eid})\n",
    "    if not recs:\n",
    "        print(\"Could not parse geometries from df.edge_geom.\")\n",
    "    else:\n",
    "        gdf = pd.DataFrame(recs)\n",
    "        center_lat = float(gdf['lat'].mean())\n",
    "        center_lon = float(gdf['lon'].mean())\n",
    "        fig = px.line_mapbox(\n",
    "            gdf, lon='lon', lat='lat', line_group='segment', color='edge_id', height=560, zoom=13\n",
    "        )\n",
    "        # Use a paler basemap (no token required)\n",
    "        fig.update_layout(mapbox_style='carto-positron', mapbox_center={'lat': center_lat, 'lon': center_lon}, margin=dict(l=0,r=0,t=0,b=0))\n",
    "        try:\n",
    "            fig.show()\n",
    "        except Exception as e:\n",
    "            html = fig.to_html(include_plotlyjs='cdn', full_html=False)\n",
    "            display(HTML(html))\n",
    "            print(f\"Rendered via HTML fallback (renderer error: {e})\")"
   ]
  },
  {
   "cell_type": "markdown",
   "id": "26c95379",
   "metadata": {},
   "source": [
    "## Diagnostic: unmatched nearby OSM links\n",
    "Check which OSM road links near the shape were not selected into `df` and how much they overlap; helps explain gaps (e.g., short connectors filtered by thresholds)."
   ]
  },
  {
   "cell_type": "code",
   "execution_count": 5,
   "id": "9b499e34",
   "metadata": {},
   "outputs": [
    {
     "name": "stdout",
     "output_type": "stream",
     "text": [
      "Job 1285329f-c9b8-4c14-af6a-3a550b27f665 done. bytes=35,073,952 cache=False\n",
      "candidates=5368\n",
      "matched_unique=89  unmatched=5279\n",
      "unmatched_with_overlap>0 = 292\n",
      "borderline_near_thresholds = 213 (half-threshold check)\n",
      "candidates=5368\n",
      "matched_unique=89  unmatched=5279\n",
      "unmatched_with_overlap>0 = 292\n",
      "borderline_near_thresholds = 213 (half-threshold check)\n"
     ]
    },
    {
     "data": {
      "application/vnd.microsoft.datawrangler.viewer.v0+json": {
       "columns": [
        {
         "name": "index",
         "rawType": "int64",
         "type": "integer"
        },
        {
         "name": "edge_id",
         "rawType": "Int64",
         "type": "integer"
        },
        {
         "name": "road_name",
         "rawType": "object",
         "type": "string"
        },
        {
         "name": "highway",
         "rawType": "object",
         "type": "string"
        },
        {
         "name": "edge_length_m",
         "rawType": "float64",
         "type": "float"
        },
        {
         "name": "overlap_m",
         "rawType": "float64",
         "type": "float"
        },
        {
         "name": "overlap_ratio",
         "rawType": "float64",
         "type": "float"
        }
       ],
       "ref": "f0409c2e-02ef-4f4d-8a2a-0279948c67a4",
       "rows": [
        [
         "5274",
         "616787771",
         "Broadway",
         "secondary",
         "39.49951424317014",
         "39.49951424317014",
         "1.0"
        ],
        [
         "3959",
         "330604958",
         "Auckland Northern Motorway",
         "motorway",
         "38.633378707098075",
         "38.633378707098075",
         "1.0"
        ],
        [
         "5125",
         "822845477",
         "Karangahape Road",
         "secondary",
         "38.57063319217792",
         "38.57063319217792",
         "1.0"
        ],
        [
         "3044",
         "276984117",
         "Karangahape Road",
         "secondary",
         "38.301269050968955",
         "38.301269050968955",
         "1.0"
        ],
        [
         "4422",
         "623580294",
         "Grafton Bridge",
         "secondary",
         "37.53992376612567",
         "37.53992376612567",
         "1.0"
        ],
        [
         "3975",
         "614967567",
         "Onewa Road",
         "primary",
         "37.447442435435605",
         "37.447442435435605",
         "1.0"
        ],
        [
         "3593",
         "612703680",
         "Ponsonby Road",
         "secondary",
         "37.288679298223144",
         "37.288679298223144",
         "1.0"
        ],
        [
         "1731",
         "805519475",
         "Ponsonby Road",
         "secondary",
         "37.00242612835078",
         "37.00242612835078",
         "1.0"
        ],
        [
         "4264",
         "613882670",
         "Onewa Road",
         "primary",
         "36.4643929866239",
         "36.4643929866239",
         "1.0"
        ],
        [
         "3875",
         "612703681",
         "Ponsonby Road",
         "secondary",
         "36.306841915438824",
         "36.306841915438824",
         "1.0"
        ],
        [
         "1067",
         "628160157",
         "Jervois Road",
         "secondary",
         "36.26588178644802",
         "36.26588178644802",
         "1.0"
        ],
        [
         "5254",
         "163683236",
         "Khyber Pass Road",
         "primary",
         "36.25900504592846",
         "36.25900504592846",
         "1.0"
        ],
        [
         "231",
         "665046245",
         "Khyber Pass Road",
         "primary",
         "35.530132822563125",
         "35.530132822563125",
         "1.0"
        ],
        [
         "3209",
         "612703662",
         "Ponsonby Road",
         "secondary",
         "35.52141421565476",
         "35.52141421565476",
         "1.0"
        ],
        [
         "4532",
         "665046246",
         "Khyber Pass Road",
         "primary",
         "35.516652272805736",
         "35.516652272805736",
         "1.0"
        ],
        [
         "1867",
         "52729390",
         "Karangahape Road",
         "secondary",
         "35.22395916892224",
         "35.22395916892224",
         "1.0"
        ],
        [
         "3463",
         "118001841",
         "Broadway",
         "secondary",
         "34.49857913506182",
         "34.49857913506182",
         "1.0"
        ],
        [
         "1866",
         "620918971",
         "Karangahape Road",
         "secondary",
         "33.18522920092844",
         "33.18522920092844",
         "1.0"
        ],
        [
         "3578",
         "7637348",
         "Curran Street",
         "secondary",
         "31.828131485846967",
         "31.828131485846967",
         "1.0"
        ],
        [
         "4142",
         "334670306",
         "Princes Street",
         "residential",
         "783.9445885658481",
         "31.349880468729776",
         "0.03998991883607666"
        ]
       ],
       "shape": {
        "columns": 6,
        "rows": 20
       }
      },
      "text/html": [
       "<div>\n",
       "<style scoped>\n",
       "    .dataframe tbody tr th:only-of-type {\n",
       "        vertical-align: middle;\n",
       "    }\n",
       "\n",
       "    .dataframe tbody tr th {\n",
       "        vertical-align: top;\n",
       "    }\n",
       "\n",
       "    .dataframe thead th {\n",
       "        text-align: right;\n",
       "    }\n",
       "</style>\n",
       "<table border=\"1\" class=\"dataframe\">\n",
       "  <thead>\n",
       "    <tr style=\"text-align: right;\">\n",
       "      <th></th>\n",
       "      <th>edge_id</th>\n",
       "      <th>road_name</th>\n",
       "      <th>highway</th>\n",
       "      <th>edge_length_m</th>\n",
       "      <th>overlap_m</th>\n",
       "      <th>overlap_ratio</th>\n",
       "    </tr>\n",
       "  </thead>\n",
       "  <tbody>\n",
       "    <tr>\n",
       "      <th>5274</th>\n",
       "      <td>616787771</td>\n",
       "      <td>Broadway</td>\n",
       "      <td>secondary</td>\n",
       "      <td>39.499514</td>\n",
       "      <td>39.499514</td>\n",
       "      <td>1.00000</td>\n",
       "    </tr>\n",
       "    <tr>\n",
       "      <th>3959</th>\n",
       "      <td>330604958</td>\n",
       "      <td>Auckland Northern Motorway</td>\n",
       "      <td>motorway</td>\n",
       "      <td>38.633379</td>\n",
       "      <td>38.633379</td>\n",
       "      <td>1.00000</td>\n",
       "    </tr>\n",
       "    <tr>\n",
       "      <th>5125</th>\n",
       "      <td>822845477</td>\n",
       "      <td>Karangahape Road</td>\n",
       "      <td>secondary</td>\n",
       "      <td>38.570633</td>\n",
       "      <td>38.570633</td>\n",
       "      <td>1.00000</td>\n",
       "    </tr>\n",
       "    <tr>\n",
       "      <th>3044</th>\n",
       "      <td>276984117</td>\n",
       "      <td>Karangahape Road</td>\n",
       "      <td>secondary</td>\n",
       "      <td>38.301269</td>\n",
       "      <td>38.301269</td>\n",
       "      <td>1.00000</td>\n",
       "    </tr>\n",
       "    <tr>\n",
       "      <th>4422</th>\n",
       "      <td>623580294</td>\n",
       "      <td>Grafton Bridge</td>\n",
       "      <td>secondary</td>\n",
       "      <td>37.539924</td>\n",
       "      <td>37.539924</td>\n",
       "      <td>1.00000</td>\n",
       "    </tr>\n",
       "    <tr>\n",
       "      <th>3975</th>\n",
       "      <td>614967567</td>\n",
       "      <td>Onewa Road</td>\n",
       "      <td>primary</td>\n",
       "      <td>37.447442</td>\n",
       "      <td>37.447442</td>\n",
       "      <td>1.00000</td>\n",
       "    </tr>\n",
       "    <tr>\n",
       "      <th>3593</th>\n",
       "      <td>612703680</td>\n",
       "      <td>Ponsonby Road</td>\n",
       "      <td>secondary</td>\n",
       "      <td>37.288679</td>\n",
       "      <td>37.288679</td>\n",
       "      <td>1.00000</td>\n",
       "    </tr>\n",
       "    <tr>\n",
       "      <th>1731</th>\n",
       "      <td>805519475</td>\n",
       "      <td>Ponsonby Road</td>\n",
       "      <td>secondary</td>\n",
       "      <td>37.002426</td>\n",
       "      <td>37.002426</td>\n",
       "      <td>1.00000</td>\n",
       "    </tr>\n",
       "    <tr>\n",
       "      <th>4264</th>\n",
       "      <td>613882670</td>\n",
       "      <td>Onewa Road</td>\n",
       "      <td>primary</td>\n",
       "      <td>36.464393</td>\n",
       "      <td>36.464393</td>\n",
       "      <td>1.00000</td>\n",
       "    </tr>\n",
       "    <tr>\n",
       "      <th>3875</th>\n",
       "      <td>612703681</td>\n",
       "      <td>Ponsonby Road</td>\n",
       "      <td>secondary</td>\n",
       "      <td>36.306842</td>\n",
       "      <td>36.306842</td>\n",
       "      <td>1.00000</td>\n",
       "    </tr>\n",
       "    <tr>\n",
       "      <th>1067</th>\n",
       "      <td>628160157</td>\n",
       "      <td>Jervois Road</td>\n",
       "      <td>secondary</td>\n",
       "      <td>36.265882</td>\n",
       "      <td>36.265882</td>\n",
       "      <td>1.00000</td>\n",
       "    </tr>\n",
       "    <tr>\n",
       "      <th>5254</th>\n",
       "      <td>163683236</td>\n",
       "      <td>Khyber Pass Road</td>\n",
       "      <td>primary</td>\n",
       "      <td>36.259005</td>\n",
       "      <td>36.259005</td>\n",
       "      <td>1.00000</td>\n",
       "    </tr>\n",
       "    <tr>\n",
       "      <th>231</th>\n",
       "      <td>665046245</td>\n",
       "      <td>Khyber Pass Road</td>\n",
       "      <td>primary</td>\n",
       "      <td>35.530133</td>\n",
       "      <td>35.530133</td>\n",
       "      <td>1.00000</td>\n",
       "    </tr>\n",
       "    <tr>\n",
       "      <th>3209</th>\n",
       "      <td>612703662</td>\n",
       "      <td>Ponsonby Road</td>\n",
       "      <td>secondary</td>\n",
       "      <td>35.521414</td>\n",
       "      <td>35.521414</td>\n",
       "      <td>1.00000</td>\n",
       "    </tr>\n",
       "    <tr>\n",
       "      <th>4532</th>\n",
       "      <td>665046246</td>\n",
       "      <td>Khyber Pass Road</td>\n",
       "      <td>primary</td>\n",
       "      <td>35.516652</td>\n",
       "      <td>35.516652</td>\n",
       "      <td>1.00000</td>\n",
       "    </tr>\n",
       "    <tr>\n",
       "      <th>1867</th>\n",
       "      <td>52729390</td>\n",
       "      <td>Karangahape Road</td>\n",
       "      <td>secondary</td>\n",
       "      <td>35.223959</td>\n",
       "      <td>35.223959</td>\n",
       "      <td>1.00000</td>\n",
       "    </tr>\n",
       "    <tr>\n",
       "      <th>3463</th>\n",
       "      <td>118001841</td>\n",
       "      <td>Broadway</td>\n",
       "      <td>secondary</td>\n",
       "      <td>34.498579</td>\n",
       "      <td>34.498579</td>\n",
       "      <td>1.00000</td>\n",
       "    </tr>\n",
       "    <tr>\n",
       "      <th>1866</th>\n",
       "      <td>620918971</td>\n",
       "      <td>Karangahape Road</td>\n",
       "      <td>secondary</td>\n",
       "      <td>33.185229</td>\n",
       "      <td>33.185229</td>\n",
       "      <td>1.00000</td>\n",
       "    </tr>\n",
       "    <tr>\n",
       "      <th>3578</th>\n",
       "      <td>7637348</td>\n",
       "      <td>Curran Street</td>\n",
       "      <td>secondary</td>\n",
       "      <td>31.828131</td>\n",
       "      <td>31.828131</td>\n",
       "      <td>1.00000</td>\n",
       "    </tr>\n",
       "    <tr>\n",
       "      <th>4142</th>\n",
       "      <td>334670306</td>\n",
       "      <td>Princes Street</td>\n",
       "      <td>residential</td>\n",
       "      <td>783.944589</td>\n",
       "      <td>31.349880</td>\n",
       "      <td>0.03999</td>\n",
       "    </tr>\n",
       "  </tbody>\n",
       "</table>\n",
       "</div>"
      ],
      "text/plain": [
       "        edge_id                   road_name      highway  edge_length_m  \\\n",
       "5274  616787771                    Broadway    secondary      39.499514   \n",
       "3959  330604958  Auckland Northern Motorway     motorway      38.633379   \n",
       "5125  822845477            Karangahape Road    secondary      38.570633   \n",
       "3044  276984117            Karangahape Road    secondary      38.301269   \n",
       "4422  623580294              Grafton Bridge    secondary      37.539924   \n",
       "3975  614967567                  Onewa Road      primary      37.447442   \n",
       "3593  612703680               Ponsonby Road    secondary      37.288679   \n",
       "1731  805519475               Ponsonby Road    secondary      37.002426   \n",
       "4264  613882670                  Onewa Road      primary      36.464393   \n",
       "3875  612703681               Ponsonby Road    secondary      36.306842   \n",
       "1067  628160157                Jervois Road    secondary      36.265882   \n",
       "5254  163683236            Khyber Pass Road      primary      36.259005   \n",
       "231   665046245            Khyber Pass Road      primary      35.530133   \n",
       "3209  612703662               Ponsonby Road    secondary      35.521414   \n",
       "4532  665046246            Khyber Pass Road      primary      35.516652   \n",
       "1867   52729390            Karangahape Road    secondary      35.223959   \n",
       "3463  118001841                    Broadway    secondary      34.498579   \n",
       "1866  620918971            Karangahape Road    secondary      33.185229   \n",
       "3578    7637348               Curran Street    secondary      31.828131   \n",
       "4142  334670306              Princes Street  residential     783.944589   \n",
       "\n",
       "      overlap_m  overlap_ratio  \n",
       "5274  39.499514        1.00000  \n",
       "3959  38.633379        1.00000  \n",
       "5125  38.570633        1.00000  \n",
       "3044  38.301269        1.00000  \n",
       "4422  37.539924        1.00000  \n",
       "3975  37.447442        1.00000  \n",
       "3593  37.288679        1.00000  \n",
       "1731  37.002426        1.00000  \n",
       "4264  36.464393        1.00000  \n",
       "3875  36.306842        1.00000  \n",
       "1067  36.265882        1.00000  \n",
       "5254  36.259005        1.00000  \n",
       "231   35.530133        1.00000  \n",
       "3209  35.521414        1.00000  \n",
       "4532  35.516652        1.00000  \n",
       "1867  35.223959        1.00000  \n",
       "3463  34.498579        1.00000  \n",
       "1866  33.185229        1.00000  \n",
       "3578  31.828131        1.00000  \n",
       "4142  31.349880        0.03999  "
      ]
     },
     "metadata": {},
     "output_type": "display_data"
    },
    {
     "data": {
      "application/vnd.microsoft.datawrangler.viewer.v0+json": {
       "columns": [
        {
         "name": "highway",
         "rawType": "object",
         "type": "string"
        },
        {
         "name": "count",
         "rawType": "Int64",
         "type": "integer"
        },
        {
         "name": "sum_overlap",
         "rawType": "float64",
         "type": "float"
        },
        {
         "name": "median_overlap",
         "rawType": "float64",
         "type": "float"
        }
       ],
       "ref": "4eeacc8d-f857-4450-a599-91310797f76e",
       "rows": [
        [
         "secondary",
         "80",
         "1460.3773057379603",
         "14.828918687021329"
        ],
        [
         "service",
         "80",
         "535.8345648663661",
         "5.78242752777264"
        ],
        [
         "primary",
         "20",
         "404.36886548867545",
         "20.899524364333494"
        ],
        [
         "residential",
         "39",
         "274.6142706061218",
         "6.166687509863088"
        ],
        [
         "motorway_link",
         "17",
         "226.7366324788583",
         "12.021481995079203"
        ],
        [
         "unclassified",
         "25",
         "166.6449141279222",
         "5.525671964943519"
        ],
        [
         "motorway",
         "9",
         "155.69827708966034",
         "12.009949271548107"
        ],
        [
         "secondary_link",
         "6",
         "78.20342499294563",
         "11.145398540443711"
        ],
        [
         "tertiary",
         "11",
         "71.49570052185555",
         "5.249680664460245"
        ],
        [
         "primary_link",
         "2",
         "26.026481361065475",
         "13.013240680532737"
        ]
       ],
       "shape": {
        "columns": 3,
        "rows": 10
       }
      },
      "text/html": [
       "<div>\n",
       "<style scoped>\n",
       "    .dataframe tbody tr th:only-of-type {\n",
       "        vertical-align: middle;\n",
       "    }\n",
       "\n",
       "    .dataframe tbody tr th {\n",
       "        vertical-align: top;\n",
       "    }\n",
       "\n",
       "    .dataframe thead th {\n",
       "        text-align: right;\n",
       "    }\n",
       "</style>\n",
       "<table border=\"1\" class=\"dataframe\">\n",
       "  <thead>\n",
       "    <tr style=\"text-align: right;\">\n",
       "      <th></th>\n",
       "      <th>count</th>\n",
       "      <th>sum_overlap</th>\n",
       "      <th>median_overlap</th>\n",
       "    </tr>\n",
       "    <tr>\n",
       "      <th>highway</th>\n",
       "      <th></th>\n",
       "      <th></th>\n",
       "      <th></th>\n",
       "    </tr>\n",
       "  </thead>\n",
       "  <tbody>\n",
       "    <tr>\n",
       "      <th>secondary</th>\n",
       "      <td>80</td>\n",
       "      <td>1460.377306</td>\n",
       "      <td>14.828919</td>\n",
       "    </tr>\n",
       "    <tr>\n",
       "      <th>service</th>\n",
       "      <td>80</td>\n",
       "      <td>535.834565</td>\n",
       "      <td>5.782428</td>\n",
       "    </tr>\n",
       "    <tr>\n",
       "      <th>primary</th>\n",
       "      <td>20</td>\n",
       "      <td>404.368865</td>\n",
       "      <td>20.899524</td>\n",
       "    </tr>\n",
       "    <tr>\n",
       "      <th>residential</th>\n",
       "      <td>39</td>\n",
       "      <td>274.614271</td>\n",
       "      <td>6.166688</td>\n",
       "    </tr>\n",
       "    <tr>\n",
       "      <th>motorway_link</th>\n",
       "      <td>17</td>\n",
       "      <td>226.736632</td>\n",
       "      <td>12.021482</td>\n",
       "    </tr>\n",
       "    <tr>\n",
       "      <th>unclassified</th>\n",
       "      <td>25</td>\n",
       "      <td>166.644914</td>\n",
       "      <td>5.525672</td>\n",
       "    </tr>\n",
       "    <tr>\n",
       "      <th>motorway</th>\n",
       "      <td>9</td>\n",
       "      <td>155.698277</td>\n",
       "      <td>12.009949</td>\n",
       "    </tr>\n",
       "    <tr>\n",
       "      <th>secondary_link</th>\n",
       "      <td>6</td>\n",
       "      <td>78.203425</td>\n",
       "      <td>11.145399</td>\n",
       "    </tr>\n",
       "    <tr>\n",
       "      <th>tertiary</th>\n",
       "      <td>11</td>\n",
       "      <td>71.495701</td>\n",
       "      <td>5.249681</td>\n",
       "    </tr>\n",
       "    <tr>\n",
       "      <th>primary_link</th>\n",
       "      <td>2</td>\n",
       "      <td>26.026481</td>\n",
       "      <td>13.013241</td>\n",
       "    </tr>\n",
       "  </tbody>\n",
       "</table>\n",
       "</div>"
      ],
      "text/plain": [
       "                count  sum_overlap  median_overlap\n",
       "highway                                           \n",
       "secondary          80  1460.377306       14.828919\n",
       "service            80   535.834565        5.782428\n",
       "primary            20   404.368865       20.899524\n",
       "residential        39   274.614271        6.166688\n",
       "motorway_link      17   226.736632       12.021482\n",
       "unclassified       25   166.644914        5.525672\n",
       "motorway            9   155.698277       12.009949\n",
       "secondary_link      6    78.203425       11.145399\n",
       "tertiary           11    71.495701        5.249681\n",
       "primary_link        2    26.026481       13.013241"
      ]
     },
     "metadata": {},
     "output_type": "display_data"
    },
    {
     "name": "stdout",
     "output_type": "stream",
     "text": [
      "Notes:\n",
      "- If many unmatched have meaningful overlap, our thresholds (OVERLAP_MIN/RATIO_MIN) may be too strict.\n",
      "- If unmatched are mostly service/turning_slip/etc., gaps may be expected connectors.\n",
      "- If no unmatched-with-overlap, gaps follow OSM geometry (split ways or true gaps).\n"
     ]
    }
   ],
   "source": [
    "# Diagnostic query: nearby OSM links not in df (same highway filter)\n",
    "from google.cloud import bigquery\n",
    "import pandas as pd\n",
    "\n",
    "if df is None or len(df) == 0:\n",
    "    print(\"df is empty; run the mapping cell above first.\")\n",
    "else:\n",
    "    matched_ids = set(df['edge_id'].dropna().astype(str))\n",
    "    diag_sql = f\"\"\"\n",
    "    WITH s AS (\n",
    "      SELECT\n",
    "        shape_id,\n",
    "        ST_BUFFER(geom, @buf_m) AS buf_geom,\n",
    "        ST_BOUNDINGBOX(ST_BUFFER(geom, @bbox_m)) AS env_box\n",
    "      FROM `{project_id}.{dataset_id}.shapes_geog`\n",
    "      WHERE shape_id = @shape_id\n",
    "    ), r AS (\n",
    "      SELECT\n",
    "        edge_id, name AS road_name, highway, oneway, maxspeed,\n",
    "        length_m AS edge_length_m, geom AS edge_geom\n",
    "      FROM `{project_id}.{dataset_id}.vw_osm_akl_road_links`\n",
    "      WHERE highway NOT IN ('footway','path','cycleway','steps','track','pedestrian','bridleway','corridor')\n",
    "    )\n",
    "    SELECT\n",
    "      r.edge_id, r.road_name, r.highway, r.oneway, r.maxspeed, r.edge_length_m,\n",
    "      ST_LENGTH(ST_INTERSECTION(r.edge_geom, s.buf_geom)) AS overlap_m,\n",
    "      SAFE_DIVIDE(ST_LENGTH(ST_INTERSECTION(r.edge_geom, s.buf_geom)), r.edge_length_m) AS overlap_ratio\n",
    "    FROM s\n",
    "    JOIN r\n",
    "      ON ST_INTERSECTSBOX(r.edge_geom, s.env_box.xmin, s.env_box.ymin, s.env_box.xmax, s.env_box.ymax)\n",
    "    \"\"\"\n",
    "    dparams = [\n",
    "        bigquery.ScalarQueryParameter('shape_id', 'STRING', shape_id),\n",
    "        bigquery.ScalarQueryParameter('buf_m', 'FLOAT64', BUF_M),\n",
    "        bigquery.ScalarQueryParameter('bbox_m', 'FLOAT64', BBOX_M),\n",
    "    ]\n",
    "    candidates = run_sql_loc(diag_sql, dparams)\n",
    "    print(f\"candidates={len(candidates)}\")\n",
    "    candidates['edge_id_str'] = candidates['edge_id'].astype(str)\n",
    "    unmatched = candidates[~candidates['edge_id_str'].isin(matched_ids)].copy()\n",
    "    print(f\"matched_unique={len(matched_ids)}  unmatched={len(unmatched)}\")\n",
    "    if len(unmatched) == 0:\n",
    "        print(\"All nearby candidate links are already in df — gaps likely reflect OSM geometry (e.g., split ways or true gaps).\")\n",
    "    else:\n",
    "        # Overlap stats for unmatched\n",
    "        unmatched['overlap_m'] = unmatched['overlap_m'].astype(float)\n",
    "        unmatched['overlap_ratio'] = unmatched['overlap_ratio'].astype(float)\n",
    "        pos = unmatched[unmatched['overlap_m'] > 0].sort_values('overlap_m', ascending=False)\n",
    "        print(f\"unmatched_with_overlap>0 = {len(pos)}\")\n",
    "        # Borderline near thresholds (half of current thresholds)\n",
    "        borderline = pos[(pos['overlap_m'] >= 0.5*OVERLAP_MIN) | (pos['overlap_ratio'] >= 0.5*RATIO_MIN)]\n",
    "        print(f\"borderline_near_thresholds = {len(borderline)} (half-threshold check)\")\n",
    "        # Show a sample\n",
    "        display(pos[['edge_id','road_name','highway','edge_length_m','overlap_m','overlap_ratio']].head(20))\n",
    "        # Quick aggregation to see if filtered types dominate\n",
    "        by_hw = pos.groupby('highway', dropna=False).agg(count=('edge_id','count'),\n",
    "                                                         sum_overlap=('overlap_m','sum'),\n",
    "                                                         median_overlap=('overlap_m','median')).sort_values('sum_overlap', ascending=False)\n",
    "        display(by_hw.head(10))\n",
    "        \n",
    "        print(\"Notes:\")\n",
    "        print(\"- If many unmatched have meaningful overlap, our thresholds (OVERLAP_MIN/RATIO_MIN) may be too strict.\")\n",
    "        print(\"- If unmatched are mostly service/turning_slip/etc., gaps may be expected connectors.\")\n",
    "        print(\"- If no unmatched-with-overlap, gaps follow OSM geometry (split ways or true gaps).\" )"
   ]
  },
  {
   "cell_type": "markdown",
   "id": "ff031b78",
   "metadata": {},
   "source": [
    "## Lookup OSM links by road name\n",
    "Query all links from `osm_akl_road_links` for a given `name` (with a safe fallback to the view if needed)."
   ]
  },
  {
   "cell_type": "code",
   "execution_count": 8,
   "id": "a162515a",
   "metadata": {},
   "outputs": [
    {
     "name": "stdout",
     "output_type": "stream",
     "text": [
      "{'road_name': 'Symonds Street'}\n",
      "Job 96ad0f7d-00ef-47bd-8bd9-7a8428882cee done. bytes=16,063,032 cache=False\n",
      "Job 96ad0f7d-00ef-47bd-8bd9-7a8428882cee done. bytes=16,063,032 cache=False\n",
      "Job 96ad0f7d-00ef-47bd-8bd9-7a8428882cee done. bytes=16,063,032 cache=False\n",
      "rows=55\n",
      "rows=55\n",
      "rows=55\n"
     ]
    },
    {
     "data": {
      "application/vnd.microsoft.datawrangler.viewer.v0+json": {
       "columns": [
        {
         "name": "index",
         "rawType": "int64",
         "type": "integer"
        },
        {
         "name": "edge_id",
         "rawType": "Int64",
         "type": "integer"
        },
        {
         "name": "road_name",
         "rawType": "object",
         "type": "string"
        },
        {
         "name": "highway",
         "rawType": "object",
         "type": "string"
        },
        {
         "name": "oneway",
         "rawType": "object",
         "type": "unknown"
        },
        {
         "name": "maxspeed",
         "rawType": "object",
         "type": "string"
        },
        {
         "name": "edge_length_m",
         "rawType": "float64",
         "type": "float"
        },
        {
         "name": "edge_geom",
         "rawType": "object",
         "type": "string"
        }
       ],
       "ref": "ce306731-268d-4484-a368-e28ce834fd48",
       "rows": [
        [
         "0",
         "7637280",
         "Symonds Street",
         "unclassified",
         null,
         "50",
         "60.84053086028724",
         "LINESTRING(174.7758093 -36.912713, 174.7758584 -36.9126767, 174.775907 -36.9126581, 174.7763578 -36.9126043, 174.7764637 -36.9125883)"
        ],
        [
         "1",
         "7637281",
         "Symonds Street",
         "residential",
         null,
         "50",
         "579.4948165646599",
         "LINESTRING(174.7733312 -36.9217472, 174.7733195 -36.9216966, 174.7732053 -36.9212021, 174.7731943 -36.9211586, 174.7731922 -36.9211172, 174.7734659 -36.9205396, 174.7734747 -36.9204797, 174.7734073 -36.9201239, 174.7745253 -36.9167595, 174.7745421 -36.9167088)"
        ],
        [
         "2",
         "24457402",
         "Symonds Street",
         "secondary",
         null,
         "50",
         "134.81127986671274",
         "LINESTRING(174.7627793 -36.8598013, 174.7630898 -36.859262, 174.7634183 -36.858702)"
        ],
        [
         "3",
         "24457404",
         "Symonds Street",
         "secondary",
         null,
         "50",
         "87.36966583077162",
         "LINESTRING(174.7620581 -36.8610318, 174.7620877 -36.8609817, 174.7624777 -36.8603214)"
        ],
        [
         "4",
         "24457649",
         "Symonds Street",
         "primary",
         null,
         "50",
         "11.054568075792394",
         "LINESTRING(174.760914 -36.86404, 174.760906 -36.8640784, 174.7608955 -36.8641383)"
        ],
        [
         "5",
         "32799524",
         "Symonds Street",
         "secondary",
         null,
         "30",
         "7.1323845124072145",
         "LINESTRING(174.7685063 -36.8537484, 174.7685562 -36.8536982)"
        ],
        [
         "6",
         "37559107",
         "Symonds Street",
         "primary",
         "yes",
         "50",
         "119.71280431059273",
         "LINESTRING(174.761985 -36.8611502, 174.7619806 -36.8612221, 174.7619651 -36.8612851, 174.761773 -36.8616331, 174.7616571 -36.8618546, 174.7616208 -36.8619412, 174.7615511 -36.8621628)"
        ],
        [
         "7",
         "37559126",
         "Symonds Street",
         "primary",
         "yes",
         "50",
         "206.61808828217815",
         "LINESTRING(174.7609183 -36.863737, 174.7609351 -36.8636606, 174.7612032 -36.8627993, 174.7612237 -36.8627333, 174.7613765 -36.8622196, 174.7614044 -36.8621328, 174.7614414 -36.8620174, 174.7614789 -36.8619345)"
        ],
        [
         "8",
         "52728801",
         "Symonds Street",
         "secondary",
         null,
         "30",
         "112.1518363980463",
         "LINESTRING(174.7647254 -36.85732, 174.7648638 -36.8572049, 174.7649478 -36.8571305, 174.7650204 -36.8570661, 174.765078 -36.8570136, 174.7651677 -36.8569307, 174.7652818 -36.8568253, 174.7652883 -36.8568193, 174.7655492 -36.8565573)"
        ],
        [
         "9",
         "52728937",
         "Symonds Street",
         "secondary",
         null,
         "30",
         "200.75446416774",
         "LINESTRING(174.7705009 -36.8517601, 174.7705899 -36.8516813, 174.7708701 -36.8514621, 174.7709205 -36.8514234, 174.7711033 -36.8512738, 174.7711529 -36.8512308, 174.7713559 -36.851068, 174.7715267 -36.8509353, 174.7716019 -36.8508744, 174.7717739 -36.8507353, 174.7720905 -36.8504792)"
        ],
        [
         "10",
         "94490076",
         "Symonds Street",
         "residential",
         null,
         "50",
         "458.3737118456708",
         "LINESTRING(174.7745421 -36.9167088, 174.774558 -36.9166586, 174.774698 -36.9162173, 174.7747243 -36.9161342, 174.7747899 -36.9159273, 174.7748416 -36.9157645, 174.7748521 -36.9157314, 174.7748986 -36.9155846, 174.77502 -36.9152018, 174.7750772 -36.9150216, 174.775092 -36.9149748, 174.7751234 -36.9148758, 174.775153 -36.9147824, 174.7751557 -36.914774, 174.7752028 -36.9146255, 174.7752574 -36.9144532, 174.7752912 -36.9143466, 174.7753039 -36.9143066, 174.775351 -36.914158, 174.7753643 -36.9141161, 174.7753903 -36.9140341, 174.7754142 -36.9139588, 174.7754381 -36.9138836, 174.7754486 -36.9138504, 174.7754659 -36.9137958, 174.7754927 -36.9137115, 174.7755003 -36.9136875, 174.7755039 -36.913676, 174.7755387 -36.9135662, 174.7755578 -36.9135062, 174.7756153 -36.9133246, 174.7756365 -36.913258, 174.7756522 -36.9132084, 174.775681 -36.9131176, 174.775745 -36.9129159, 174.775788 -36.9127801, 174.7758093 -36.912713)"
        ],
        [
         "11",
         "102408384",
         "Symonds Street",
         "secondary",
         null,
         "50",
         "14.684178878476201",
         "LINESTRING(174.761985 -36.8611502, 174.7620581 -36.8610318)"
        ],
        [
         "12",
         "114133932",
         "Symonds Street",
         "secondary",
         null,
         "30",
         "24.768821684947063",
         "LINESTRING(174.7634183 -36.858702, 174.7635142 -36.8585495, 174.7635462 -36.8585042)"
        ],
        [
         "13",
         "114133933",
         "Symonds Street",
         "primary",
         null,
         "50",
         "22.187203258996526",
         "LINESTRING(174.7608093 -36.864437, 174.7607901 -36.864498, 174.7607809 -36.8645288, 174.7607789 -36.8645356, 174.760751 -36.864631)"
        ],
        [
         "14",
         "114133936",
         "Symonds Street",
         "primary",
         null,
         "50",
         "34.52687028116022",
         "LINESTRING(174.7606934 -36.8648237, 174.7606709 -36.8649003, 174.7606405 -36.8649839, 174.76063 -36.8650076, 174.7605969 -36.8650502, 174.7605411 -36.8651034)"
        ],
        [
         "15",
         "117030965",
         "Symonds Street",
         "primary",
         "yes",
         "50",
         "46.89397864157852",
         "LINESTRING(174.7611724 -36.8633717, 174.7610642 -36.8636815, 174.7610372 -36.8637792)"
        ],
        [
         "16",
         "117903492",
         "Symonds Street",
         "secondary",
         null,
         "30",
         "28.128324865535937",
         "LINESTRING(174.7661827 -36.8559715, 174.7663967 -36.8557853)"
        ],
        [
         "17",
         "128944705",
         "Symonds Street",
         "secondary",
         null,
         "30",
         "30.96753789103884",
         "LINESTRING(174.7700975 -36.8521478, 174.7702534 -36.85199, 174.7703133 -36.8519293)"
        ],
        [
         "18",
         "433802154",
         "Symonds Street",
         "secondary",
         "yes",
         "30",
         "35.14474016785647",
         "LINESTRING(174.768219 -36.8540278, 174.7682219 -36.8540569, 174.7682255 -36.8540925, 174.768136 -36.8541869, 174.7680914 -36.8542159, 174.768003 -36.854266)"
        ],
        [
         "19",
         "433802155",
         "Symonds Street",
         "secondary",
         "yes",
         "30",
         "34.42596804634094",
         "LINESTRING(174.768003 -36.854266, 174.7680367 -36.8541644, 174.7681254 -36.8540687, 174.7681467 -36.8540594, 174.7681942 -36.8540387, 174.768219 -36.8540278)"
        ],
        [
         "20",
         "434309972",
         "Symonds Street",
         "primary",
         "yes",
         "50",
         "56.72596108515895",
         "LINESTRING(174.7613423 -36.8628624, 174.7612242 -36.8632163, 174.7611779 -36.8633553)"
        ],
        [
         "21",
         "434309973",
         "Symonds Street",
         "primary",
         "yes",
         "50",
         "98.59966219538673",
         "LINESTRING(174.7614789 -36.8619345, 174.7614977 -36.8618929, 174.7616534 -36.861632, 174.7618737 -36.8612588, 174.7619266 -36.8612012, 174.761985 -36.8611502)"
        ],
        [
         "22",
         "617463104",
         "Symonds Street",
         "secondary",
         null,
         "30",
         "1.1946640567376652",
         "LINESTRING(174.768219 -36.8540278, 174.7682281 -36.8540199)"
        ],
        [
         "23",
         "618343965",
         "Symonds Street",
         "secondary",
         null,
         "30",
         "0.8742921416785413",
         "LINESTRING(174.7682281 -36.8540199, 174.7682343 -36.8540138)"
        ],
        [
         "24",
         "619262350",
         "Symonds Street",
         "secondary",
         null,
         "50",
         "46.29337474991067",
         "LINESTRING(174.7625615 -36.8601794, 174.7627793 -36.8598013)"
        ],
        [
         "25",
         "623566165",
         "Symonds Street",
         "secondary",
         null,
         "30",
         "32.989885975215614",
         "LINESTRING(174.7659349 -36.8561922, 174.7659709 -36.8561602, 174.7661827 -36.8559715)"
        ],
        [
         "26",
         "623566173",
         "Symonds Street",
         "secondary",
         null,
         "30",
         "10.22011574030653",
         "LINESTRING(174.7655492 -36.8565573, 174.7656226 -36.8564866)"
        ],
        [
         "27",
         "623566177",
         "Symonds Street",
         "secondary",
         null,
         "30",
         "53.19080909988118",
         "LINESTRING(174.7638197 -36.8580687, 174.763862 -36.858014, 174.7638975 -36.8579773, 174.7639269 -36.857946, 174.7639948 -36.8578905, 174.7642248 -36.8577201)"
        ],
        [
         "28",
         "623566182",
         "Symonds Street",
         "secondary",
         null,
         "30",
         "45.689400003025874",
         "LINESTRING(174.7635944 -36.8584378, 174.7636588 -36.8583257, 174.7636723 -36.858303, 174.7637506 -36.8581718, 174.7638197 -36.8580687)"
        ],
        [
         "29",
         "623912214",
         "Symonds Street",
         "secondary",
         null,
         "30",
         "25.155651387043115",
         "LINESTRING(174.7703133 -36.8519293, 174.7704645 -36.8517954, 174.7705009 -36.8517601)"
        ],
        [
         "30",
         "623912218",
         "Symonds Street",
         "secondary",
         null,
         "30",
         "41.11282714441699",
         "LINESTRING(174.7720905 -36.8504792, 174.7723284 -36.8502953, 174.7723487 -36.8502796, 174.7724228 -36.8502223)"
        ],
        [
         "31",
         "624129105",
         "Symonds Street",
         "primary",
         null,
         "50",
         "5.673392761642263",
         "LINESTRING(174.7608955 -36.8641383, 174.7608828 -36.8641883)"
        ],
        [
         "32",
         "624129108",
         "Symonds Street",
         "primary",
         "yes",
         "50",
         "79.97944753358676",
         "LINESTRING(174.7615511 -36.8621628, 174.7613912 -36.8627015, 174.761373 -36.8627622, 174.7613423 -36.8628624)"
        ],
        [
         "33",
         "624129109",
         "Symonds Street",
         "secondary",
         null,
         "50",
         "17.46134761408173",
         "LINESTRING(174.7624777 -36.8603214, 174.7625615 -36.8601794)"
        ],
        [
         "34",
         "624134369",
         "Symonds Street",
         "primary",
         null,
         "50",
         "28.416742005204696",
         "LINESTRING(174.7608828 -36.8641883, 174.7608093 -36.864437)"
        ],
        [
         "35",
         "624134370",
         "Symonds Street",
         "primary",
         null,
         "50",
         "22.031501597638574",
         "LINESTRING(174.760751 -36.864631, 174.7607177 -36.864742, 174.7606934 -36.8648237)"
        ],
        [
         "36",
         "654886197",
         "Symonds Street",
         "secondary",
         null,
         "30",
         "15.623191234866502",
         "LINESTRING(174.7682343 -36.8540138, 174.7683437 -36.8539039)"
        ],
        [
         "37",
         "654886198",
         "Symonds Street",
         "secondary",
         null,
         "30",
         "3.6346273073245356",
         "LINESTRING(174.7683862 -36.8538612, 174.7684116 -36.8538356)"
        ],
        [
         "38",
         "671996833",
         "Symonds Street",
         "primary",
         "yes",
         "50",
         "3.9970019570380315",
         "LINESTRING(174.7609032 -36.8638057, 174.760911 -36.8637703)"
        ],
        [
         "39",
         "671996834",
         "Symonds Street",
         "primary",
         "yes",
         "50",
         "26.429546787921204",
         "LINESTRING(174.760914 -36.86404, 174.7608852 -36.8639398, 174.7609032 -36.8638057)"
        ],
        [
         "40",
         "682351908",
         "Symonds Street",
         "primary",
         "yes",
         "50",
         "23.51879470247424",
         "LINESTRING(174.7610187 -36.8638462, 174.7609767 -36.8639399, 174.760914 -36.86404)"
        ],
        [
         "41",
         "682351909",
         "Symonds Street",
         "primary",
         "yes",
         "50",
         "7.629697782794218",
         "LINESTRING(174.7610372 -36.8637792, 174.7610187 -36.8638462)"
        ],
        [
         "42",
         "759309051",
         "Symonds Street",
         "primary",
         "yes",
         "50",
         "3.759317234631048",
         "LINESTRING(174.760911 -36.8637703, 174.7609183 -36.863737)"
        ],
        [
         "43",
         "803779774",
         "Symonds Street",
         "secondary",
         null,
         "30",
         "53.419603536118515",
         "LINESTRING(174.7643064 -36.857664, 174.76449 -36.857519, 174.7647254 -36.85732)"
        ],
        [
         "44",
         "803779775",
         "Symonds Street",
         "secondary",
         null,
         "30",
         "9.571857504382999",
         "LINESTRING(174.7642248 -36.8577201, 174.7643064 -36.857664)"
        ],
        [
         "45",
         "815486465",
         "Symonds Street",
         "primary",
         "yes",
         "50",
         "1.8881023518437292",
         "LINESTRING(174.7611779 -36.8633553, 174.7611724 -36.8633717)"
        ],
        [
         "46",
         "907165027",
         "Symonds Street",
         "secondary",
         null,
         "30",
         "28.159088619012262",
         "LINESTRING(174.7656771 -36.8564341, 174.7657587 -36.8563587, 174.7658852 -36.8562433)"
        ],
        [
         "47",
         "907165028",
         "Symonds Street",
         "secondary",
         null,
         "30",
         "7.588915916891296",
         "LINESTRING(174.7656226 -36.8564866, 174.7656771 -36.8564341)"
        ],
        [
         "48",
         "907165029",
         "Symonds Street",
         "secondary",
         null,
         "30",
         "11.34779017529815",
         "LINESTRING(174.7663967 -36.8557853, 174.7664814 -36.855709)"
        ],
        [
         "49",
         "907165030",
         "Symonds Street",
         "secondary",
         null,
         "30",
         "210.2413684871871",
         "LINESTRING(174.7664814 -36.855709, 174.7669085 -36.855327, 174.766943 -36.8552971, 174.7669854 -36.8552602, 174.7674915 -36.85482, 174.7675643 -36.8547531, 174.7676308 -36.8546838, 174.767722 -36.8545785, 174.7678295 -36.8544557, 174.7678996 -36.8543757, 174.768003 -36.854266)"
        ]
       ],
       "shape": {
        "columns": 7,
        "rows": 50
       }
      },
      "text/html": [
       "<div>\n",
       "<style scoped>\n",
       "    .dataframe tbody tr th:only-of-type {\n",
       "        vertical-align: middle;\n",
       "    }\n",
       "\n",
       "    .dataframe tbody tr th {\n",
       "        vertical-align: top;\n",
       "    }\n",
       "\n",
       "    .dataframe thead th {\n",
       "        text-align: right;\n",
       "    }\n",
       "</style>\n",
       "<table border=\"1\" class=\"dataframe\">\n",
       "  <thead>\n",
       "    <tr style=\"text-align: right;\">\n",
       "      <th></th>\n",
       "      <th>edge_id</th>\n",
       "      <th>road_name</th>\n",
       "      <th>highway</th>\n",
       "      <th>oneway</th>\n",
       "      <th>maxspeed</th>\n",
       "      <th>edge_length_m</th>\n",
       "      <th>edge_geom</th>\n",
       "    </tr>\n",
       "  </thead>\n",
       "  <tbody>\n",
       "    <tr>\n",
       "      <th>0</th>\n",
       "      <td>7637280</td>\n",
       "      <td>Symonds Street</td>\n",
       "      <td>unclassified</td>\n",
       "      <td>None</td>\n",
       "      <td>50</td>\n",
       "      <td>60.840531</td>\n",
       "      <td>LINESTRING(174.7758093 -36.912713, 174.7758584...</td>\n",
       "    </tr>\n",
       "    <tr>\n",
       "      <th>1</th>\n",
       "      <td>7637281</td>\n",
       "      <td>Symonds Street</td>\n",
       "      <td>residential</td>\n",
       "      <td>None</td>\n",
       "      <td>50</td>\n",
       "      <td>579.494817</td>\n",
       "      <td>LINESTRING(174.7733312 -36.9217472, 174.773319...</td>\n",
       "    </tr>\n",
       "    <tr>\n",
       "      <th>2</th>\n",
       "      <td>24457402</td>\n",
       "      <td>Symonds Street</td>\n",
       "      <td>secondary</td>\n",
       "      <td>None</td>\n",
       "      <td>50</td>\n",
       "      <td>134.811280</td>\n",
       "      <td>LINESTRING(174.7627793 -36.8598013, 174.763089...</td>\n",
       "    </tr>\n",
       "    <tr>\n",
       "      <th>3</th>\n",
       "      <td>24457404</td>\n",
       "      <td>Symonds Street</td>\n",
       "      <td>secondary</td>\n",
       "      <td>None</td>\n",
       "      <td>50</td>\n",
       "      <td>87.369666</td>\n",
       "      <td>LINESTRING(174.7620581 -36.8610318, 174.762087...</td>\n",
       "    </tr>\n",
       "    <tr>\n",
       "      <th>4</th>\n",
       "      <td>24457649</td>\n",
       "      <td>Symonds Street</td>\n",
       "      <td>primary</td>\n",
       "      <td>None</td>\n",
       "      <td>50</td>\n",
       "      <td>11.054568</td>\n",
       "      <td>LINESTRING(174.760914 -36.86404, 174.760906 -3...</td>\n",
       "    </tr>\n",
       "    <tr>\n",
       "      <th>5</th>\n",
       "      <td>32799524</td>\n",
       "      <td>Symonds Street</td>\n",
       "      <td>secondary</td>\n",
       "      <td>None</td>\n",
       "      <td>30</td>\n",
       "      <td>7.132385</td>\n",
       "      <td>LINESTRING(174.7685063 -36.8537484, 174.768556...</td>\n",
       "    </tr>\n",
       "    <tr>\n",
       "      <th>6</th>\n",
       "      <td>37559107</td>\n",
       "      <td>Symonds Street</td>\n",
       "      <td>primary</td>\n",
       "      <td>yes</td>\n",
       "      <td>50</td>\n",
       "      <td>119.712804</td>\n",
       "      <td>LINESTRING(174.761985 -36.8611502, 174.7619806...</td>\n",
       "    </tr>\n",
       "    <tr>\n",
       "      <th>7</th>\n",
       "      <td>37559126</td>\n",
       "      <td>Symonds Street</td>\n",
       "      <td>primary</td>\n",
       "      <td>yes</td>\n",
       "      <td>50</td>\n",
       "      <td>206.618088</td>\n",
       "      <td>LINESTRING(174.7609183 -36.863737, 174.7609351...</td>\n",
       "    </tr>\n",
       "    <tr>\n",
       "      <th>8</th>\n",
       "      <td>52728801</td>\n",
       "      <td>Symonds Street</td>\n",
       "      <td>secondary</td>\n",
       "      <td>None</td>\n",
       "      <td>30</td>\n",
       "      <td>112.151836</td>\n",
       "      <td>LINESTRING(174.7647254 -36.85732, 174.7648638 ...</td>\n",
       "    </tr>\n",
       "    <tr>\n",
       "      <th>9</th>\n",
       "      <td>52728937</td>\n",
       "      <td>Symonds Street</td>\n",
       "      <td>secondary</td>\n",
       "      <td>None</td>\n",
       "      <td>30</td>\n",
       "      <td>200.754464</td>\n",
       "      <td>LINESTRING(174.7705009 -36.8517601, 174.770589...</td>\n",
       "    </tr>\n",
       "    <tr>\n",
       "      <th>10</th>\n",
       "      <td>94490076</td>\n",
       "      <td>Symonds Street</td>\n",
       "      <td>residential</td>\n",
       "      <td>None</td>\n",
       "      <td>50</td>\n",
       "      <td>458.373712</td>\n",
       "      <td>LINESTRING(174.7745421 -36.9167088, 174.774558...</td>\n",
       "    </tr>\n",
       "    <tr>\n",
       "      <th>11</th>\n",
       "      <td>102408384</td>\n",
       "      <td>Symonds Street</td>\n",
       "      <td>secondary</td>\n",
       "      <td>None</td>\n",
       "      <td>50</td>\n",
       "      <td>14.684179</td>\n",
       "      <td>LINESTRING(174.761985 -36.8611502, 174.7620581...</td>\n",
       "    </tr>\n",
       "    <tr>\n",
       "      <th>12</th>\n",
       "      <td>114133932</td>\n",
       "      <td>Symonds Street</td>\n",
       "      <td>secondary</td>\n",
       "      <td>None</td>\n",
       "      <td>30</td>\n",
       "      <td>24.768822</td>\n",
       "      <td>LINESTRING(174.7634183 -36.858702, 174.7635142...</td>\n",
       "    </tr>\n",
       "    <tr>\n",
       "      <th>13</th>\n",
       "      <td>114133933</td>\n",
       "      <td>Symonds Street</td>\n",
       "      <td>primary</td>\n",
       "      <td>None</td>\n",
       "      <td>50</td>\n",
       "      <td>22.187203</td>\n",
       "      <td>LINESTRING(174.7608093 -36.864437, 174.7607901...</td>\n",
       "    </tr>\n",
       "    <tr>\n",
       "      <th>14</th>\n",
       "      <td>114133936</td>\n",
       "      <td>Symonds Street</td>\n",
       "      <td>primary</td>\n",
       "      <td>None</td>\n",
       "      <td>50</td>\n",
       "      <td>34.526870</td>\n",
       "      <td>LINESTRING(174.7606934 -36.8648237, 174.760670...</td>\n",
       "    </tr>\n",
       "    <tr>\n",
       "      <th>15</th>\n",
       "      <td>117030965</td>\n",
       "      <td>Symonds Street</td>\n",
       "      <td>primary</td>\n",
       "      <td>yes</td>\n",
       "      <td>50</td>\n",
       "      <td>46.893979</td>\n",
       "      <td>LINESTRING(174.7611724 -36.8633717, 174.761064...</td>\n",
       "    </tr>\n",
       "    <tr>\n",
       "      <th>16</th>\n",
       "      <td>117903492</td>\n",
       "      <td>Symonds Street</td>\n",
       "      <td>secondary</td>\n",
       "      <td>None</td>\n",
       "      <td>30</td>\n",
       "      <td>28.128325</td>\n",
       "      <td>LINESTRING(174.7661827 -36.8559715, 174.766396...</td>\n",
       "    </tr>\n",
       "    <tr>\n",
       "      <th>17</th>\n",
       "      <td>128944705</td>\n",
       "      <td>Symonds Street</td>\n",
       "      <td>secondary</td>\n",
       "      <td>None</td>\n",
       "      <td>30</td>\n",
       "      <td>30.967538</td>\n",
       "      <td>LINESTRING(174.7700975 -36.8521478, 174.770253...</td>\n",
       "    </tr>\n",
       "    <tr>\n",
       "      <th>18</th>\n",
       "      <td>433802154</td>\n",
       "      <td>Symonds Street</td>\n",
       "      <td>secondary</td>\n",
       "      <td>yes</td>\n",
       "      <td>30</td>\n",
       "      <td>35.144740</td>\n",
       "      <td>LINESTRING(174.768219 -36.8540278, 174.7682219...</td>\n",
       "    </tr>\n",
       "    <tr>\n",
       "      <th>19</th>\n",
       "      <td>433802155</td>\n",
       "      <td>Symonds Street</td>\n",
       "      <td>secondary</td>\n",
       "      <td>yes</td>\n",
       "      <td>30</td>\n",
       "      <td>34.425968</td>\n",
       "      <td>LINESTRING(174.768003 -36.854266, 174.7680367 ...</td>\n",
       "    </tr>\n",
       "    <tr>\n",
       "      <th>20</th>\n",
       "      <td>434309972</td>\n",
       "      <td>Symonds Street</td>\n",
       "      <td>primary</td>\n",
       "      <td>yes</td>\n",
       "      <td>50</td>\n",
       "      <td>56.725961</td>\n",
       "      <td>LINESTRING(174.7613423 -36.8628624, 174.761224...</td>\n",
       "    </tr>\n",
       "    <tr>\n",
       "      <th>21</th>\n",
       "      <td>434309973</td>\n",
       "      <td>Symonds Street</td>\n",
       "      <td>primary</td>\n",
       "      <td>yes</td>\n",
       "      <td>50</td>\n",
       "      <td>98.599662</td>\n",
       "      <td>LINESTRING(174.7614789 -36.8619345, 174.761497...</td>\n",
       "    </tr>\n",
       "    <tr>\n",
       "      <th>22</th>\n",
       "      <td>617463104</td>\n",
       "      <td>Symonds Street</td>\n",
       "      <td>secondary</td>\n",
       "      <td>None</td>\n",
       "      <td>30</td>\n",
       "      <td>1.194664</td>\n",
       "      <td>LINESTRING(174.768219 -36.8540278, 174.7682281...</td>\n",
       "    </tr>\n",
       "    <tr>\n",
       "      <th>23</th>\n",
       "      <td>618343965</td>\n",
       "      <td>Symonds Street</td>\n",
       "      <td>secondary</td>\n",
       "      <td>None</td>\n",
       "      <td>30</td>\n",
       "      <td>0.874292</td>\n",
       "      <td>LINESTRING(174.7682281 -36.8540199, 174.768234...</td>\n",
       "    </tr>\n",
       "    <tr>\n",
       "      <th>24</th>\n",
       "      <td>619262350</td>\n",
       "      <td>Symonds Street</td>\n",
       "      <td>secondary</td>\n",
       "      <td>None</td>\n",
       "      <td>50</td>\n",
       "      <td>46.293375</td>\n",
       "      <td>LINESTRING(174.7625615 -36.8601794, 174.762779...</td>\n",
       "    </tr>\n",
       "    <tr>\n",
       "      <th>25</th>\n",
       "      <td>623566165</td>\n",
       "      <td>Symonds Street</td>\n",
       "      <td>secondary</td>\n",
       "      <td>None</td>\n",
       "      <td>30</td>\n",
       "      <td>32.989886</td>\n",
       "      <td>LINESTRING(174.7659349 -36.8561922, 174.765970...</td>\n",
       "    </tr>\n",
       "    <tr>\n",
       "      <th>26</th>\n",
       "      <td>623566173</td>\n",
       "      <td>Symonds Street</td>\n",
       "      <td>secondary</td>\n",
       "      <td>None</td>\n",
       "      <td>30</td>\n",
       "      <td>10.220116</td>\n",
       "      <td>LINESTRING(174.7655492 -36.8565573, 174.765622...</td>\n",
       "    </tr>\n",
       "    <tr>\n",
       "      <th>27</th>\n",
       "      <td>623566177</td>\n",
       "      <td>Symonds Street</td>\n",
       "      <td>secondary</td>\n",
       "      <td>None</td>\n",
       "      <td>30</td>\n",
       "      <td>53.190809</td>\n",
       "      <td>LINESTRING(174.7638197 -36.8580687, 174.763862...</td>\n",
       "    </tr>\n",
       "    <tr>\n",
       "      <th>28</th>\n",
       "      <td>623566182</td>\n",
       "      <td>Symonds Street</td>\n",
       "      <td>secondary</td>\n",
       "      <td>None</td>\n",
       "      <td>30</td>\n",
       "      <td>45.689400</td>\n",
       "      <td>LINESTRING(174.7635944 -36.8584378, 174.763658...</td>\n",
       "    </tr>\n",
       "    <tr>\n",
       "      <th>29</th>\n",
       "      <td>623912214</td>\n",
       "      <td>Symonds Street</td>\n",
       "      <td>secondary</td>\n",
       "      <td>None</td>\n",
       "      <td>30</td>\n",
       "      <td>25.155651</td>\n",
       "      <td>LINESTRING(174.7703133 -36.8519293, 174.770464...</td>\n",
       "    </tr>\n",
       "    <tr>\n",
       "      <th>30</th>\n",
       "      <td>623912218</td>\n",
       "      <td>Symonds Street</td>\n",
       "      <td>secondary</td>\n",
       "      <td>None</td>\n",
       "      <td>30</td>\n",
       "      <td>41.112827</td>\n",
       "      <td>LINESTRING(174.7720905 -36.8504792, 174.772328...</td>\n",
       "    </tr>\n",
       "    <tr>\n",
       "      <th>31</th>\n",
       "      <td>624129105</td>\n",
       "      <td>Symonds Street</td>\n",
       "      <td>primary</td>\n",
       "      <td>None</td>\n",
       "      <td>50</td>\n",
       "      <td>5.673393</td>\n",
       "      <td>LINESTRING(174.7608955 -36.8641383, 174.760882...</td>\n",
       "    </tr>\n",
       "    <tr>\n",
       "      <th>32</th>\n",
       "      <td>624129108</td>\n",
       "      <td>Symonds Street</td>\n",
       "      <td>primary</td>\n",
       "      <td>yes</td>\n",
       "      <td>50</td>\n",
       "      <td>79.979448</td>\n",
       "      <td>LINESTRING(174.7615511 -36.8621628, 174.761391...</td>\n",
       "    </tr>\n",
       "    <tr>\n",
       "      <th>33</th>\n",
       "      <td>624129109</td>\n",
       "      <td>Symonds Street</td>\n",
       "      <td>secondary</td>\n",
       "      <td>None</td>\n",
       "      <td>50</td>\n",
       "      <td>17.461348</td>\n",
       "      <td>LINESTRING(174.7624777 -36.8603214, 174.762561...</td>\n",
       "    </tr>\n",
       "    <tr>\n",
       "      <th>34</th>\n",
       "      <td>624134369</td>\n",
       "      <td>Symonds Street</td>\n",
       "      <td>primary</td>\n",
       "      <td>None</td>\n",
       "      <td>50</td>\n",
       "      <td>28.416742</td>\n",
       "      <td>LINESTRING(174.7608828 -36.8641883, 174.760809...</td>\n",
       "    </tr>\n",
       "    <tr>\n",
       "      <th>35</th>\n",
       "      <td>624134370</td>\n",
       "      <td>Symonds Street</td>\n",
       "      <td>primary</td>\n",
       "      <td>None</td>\n",
       "      <td>50</td>\n",
       "      <td>22.031502</td>\n",
       "      <td>LINESTRING(174.760751 -36.864631, 174.7607177 ...</td>\n",
       "    </tr>\n",
       "    <tr>\n",
       "      <th>36</th>\n",
       "      <td>654886197</td>\n",
       "      <td>Symonds Street</td>\n",
       "      <td>secondary</td>\n",
       "      <td>None</td>\n",
       "      <td>30</td>\n",
       "      <td>15.623191</td>\n",
       "      <td>LINESTRING(174.7682343 -36.8540138, 174.768343...</td>\n",
       "    </tr>\n",
       "    <tr>\n",
       "      <th>37</th>\n",
       "      <td>654886198</td>\n",
       "      <td>Symonds Street</td>\n",
       "      <td>secondary</td>\n",
       "      <td>None</td>\n",
       "      <td>30</td>\n",
       "      <td>3.634627</td>\n",
       "      <td>LINESTRING(174.7683862 -36.8538612, 174.768411...</td>\n",
       "    </tr>\n",
       "    <tr>\n",
       "      <th>38</th>\n",
       "      <td>671996833</td>\n",
       "      <td>Symonds Street</td>\n",
       "      <td>primary</td>\n",
       "      <td>yes</td>\n",
       "      <td>50</td>\n",
       "      <td>3.997002</td>\n",
       "      <td>LINESTRING(174.7609032 -36.8638057, 174.760911...</td>\n",
       "    </tr>\n",
       "    <tr>\n",
       "      <th>39</th>\n",
       "      <td>671996834</td>\n",
       "      <td>Symonds Street</td>\n",
       "      <td>primary</td>\n",
       "      <td>yes</td>\n",
       "      <td>50</td>\n",
       "      <td>26.429547</td>\n",
       "      <td>LINESTRING(174.760914 -36.86404, 174.7608852 -...</td>\n",
       "    </tr>\n",
       "    <tr>\n",
       "      <th>40</th>\n",
       "      <td>682351908</td>\n",
       "      <td>Symonds Street</td>\n",
       "      <td>primary</td>\n",
       "      <td>yes</td>\n",
       "      <td>50</td>\n",
       "      <td>23.518795</td>\n",
       "      <td>LINESTRING(174.7610187 -36.8638462, 174.760976...</td>\n",
       "    </tr>\n",
       "    <tr>\n",
       "      <th>41</th>\n",
       "      <td>682351909</td>\n",
       "      <td>Symonds Street</td>\n",
       "      <td>primary</td>\n",
       "      <td>yes</td>\n",
       "      <td>50</td>\n",
       "      <td>7.629698</td>\n",
       "      <td>LINESTRING(174.7610372 -36.8637792, 174.761018...</td>\n",
       "    </tr>\n",
       "    <tr>\n",
       "      <th>42</th>\n",
       "      <td>759309051</td>\n",
       "      <td>Symonds Street</td>\n",
       "      <td>primary</td>\n",
       "      <td>yes</td>\n",
       "      <td>50</td>\n",
       "      <td>3.759317</td>\n",
       "      <td>LINESTRING(174.760911 -36.8637703, 174.7609183...</td>\n",
       "    </tr>\n",
       "    <tr>\n",
       "      <th>43</th>\n",
       "      <td>803779774</td>\n",
       "      <td>Symonds Street</td>\n",
       "      <td>secondary</td>\n",
       "      <td>None</td>\n",
       "      <td>30</td>\n",
       "      <td>53.419604</td>\n",
       "      <td>LINESTRING(174.7643064 -36.857664, 174.76449 -...</td>\n",
       "    </tr>\n",
       "    <tr>\n",
       "      <th>44</th>\n",
       "      <td>803779775</td>\n",
       "      <td>Symonds Street</td>\n",
       "      <td>secondary</td>\n",
       "      <td>None</td>\n",
       "      <td>30</td>\n",
       "      <td>9.571858</td>\n",
       "      <td>LINESTRING(174.7642248 -36.8577201, 174.764306...</td>\n",
       "    </tr>\n",
       "    <tr>\n",
       "      <th>45</th>\n",
       "      <td>815486465</td>\n",
       "      <td>Symonds Street</td>\n",
       "      <td>primary</td>\n",
       "      <td>yes</td>\n",
       "      <td>50</td>\n",
       "      <td>1.888102</td>\n",
       "      <td>LINESTRING(174.7611779 -36.8633553, 174.761172...</td>\n",
       "    </tr>\n",
       "    <tr>\n",
       "      <th>46</th>\n",
       "      <td>907165027</td>\n",
       "      <td>Symonds Street</td>\n",
       "      <td>secondary</td>\n",
       "      <td>None</td>\n",
       "      <td>30</td>\n",
       "      <td>28.159089</td>\n",
       "      <td>LINESTRING(174.7656771 -36.8564341, 174.765758...</td>\n",
       "    </tr>\n",
       "    <tr>\n",
       "      <th>47</th>\n",
       "      <td>907165028</td>\n",
       "      <td>Symonds Street</td>\n",
       "      <td>secondary</td>\n",
       "      <td>None</td>\n",
       "      <td>30</td>\n",
       "      <td>7.588916</td>\n",
       "      <td>LINESTRING(174.7656226 -36.8564866, 174.765677...</td>\n",
       "    </tr>\n",
       "    <tr>\n",
       "      <th>48</th>\n",
       "      <td>907165029</td>\n",
       "      <td>Symonds Street</td>\n",
       "      <td>secondary</td>\n",
       "      <td>None</td>\n",
       "      <td>30</td>\n",
       "      <td>11.347790</td>\n",
       "      <td>LINESTRING(174.7663967 -36.8557853, 174.766481...</td>\n",
       "    </tr>\n",
       "    <tr>\n",
       "      <th>49</th>\n",
       "      <td>907165030</td>\n",
       "      <td>Symonds Street</td>\n",
       "      <td>secondary</td>\n",
       "      <td>None</td>\n",
       "      <td>30</td>\n",
       "      <td>210.241368</td>\n",
       "      <td>LINESTRING(174.7664814 -36.855709, 174.7669085...</td>\n",
       "    </tr>\n",
       "  </tbody>\n",
       "</table>\n",
       "</div>"
      ],
      "text/plain": [
       "      edge_id       road_name       highway oneway maxspeed  edge_length_m  \\\n",
       "0     7637280  Symonds Street  unclassified   None       50      60.840531   \n",
       "1     7637281  Symonds Street   residential   None       50     579.494817   \n",
       "2    24457402  Symonds Street     secondary   None       50     134.811280   \n",
       "3    24457404  Symonds Street     secondary   None       50      87.369666   \n",
       "4    24457649  Symonds Street       primary   None       50      11.054568   \n",
       "5    32799524  Symonds Street     secondary   None       30       7.132385   \n",
       "6    37559107  Symonds Street       primary    yes       50     119.712804   \n",
       "7    37559126  Symonds Street       primary    yes       50     206.618088   \n",
       "8    52728801  Symonds Street     secondary   None       30     112.151836   \n",
       "9    52728937  Symonds Street     secondary   None       30     200.754464   \n",
       "10   94490076  Symonds Street   residential   None       50     458.373712   \n",
       "11  102408384  Symonds Street     secondary   None       50      14.684179   \n",
       "12  114133932  Symonds Street     secondary   None       30      24.768822   \n",
       "13  114133933  Symonds Street       primary   None       50      22.187203   \n",
       "14  114133936  Symonds Street       primary   None       50      34.526870   \n",
       "15  117030965  Symonds Street       primary    yes       50      46.893979   \n",
       "16  117903492  Symonds Street     secondary   None       30      28.128325   \n",
       "17  128944705  Symonds Street     secondary   None       30      30.967538   \n",
       "18  433802154  Symonds Street     secondary    yes       30      35.144740   \n",
       "19  433802155  Symonds Street     secondary    yes       30      34.425968   \n",
       "20  434309972  Symonds Street       primary    yes       50      56.725961   \n",
       "21  434309973  Symonds Street       primary    yes       50      98.599662   \n",
       "22  617463104  Symonds Street     secondary   None       30       1.194664   \n",
       "23  618343965  Symonds Street     secondary   None       30       0.874292   \n",
       "24  619262350  Symonds Street     secondary   None       50      46.293375   \n",
       "25  623566165  Symonds Street     secondary   None       30      32.989886   \n",
       "26  623566173  Symonds Street     secondary   None       30      10.220116   \n",
       "27  623566177  Symonds Street     secondary   None       30      53.190809   \n",
       "28  623566182  Symonds Street     secondary   None       30      45.689400   \n",
       "29  623912214  Symonds Street     secondary   None       30      25.155651   \n",
       "30  623912218  Symonds Street     secondary   None       30      41.112827   \n",
       "31  624129105  Symonds Street       primary   None       50       5.673393   \n",
       "32  624129108  Symonds Street       primary    yes       50      79.979448   \n",
       "33  624129109  Symonds Street     secondary   None       50      17.461348   \n",
       "34  624134369  Symonds Street       primary   None       50      28.416742   \n",
       "35  624134370  Symonds Street       primary   None       50      22.031502   \n",
       "36  654886197  Symonds Street     secondary   None       30      15.623191   \n",
       "37  654886198  Symonds Street     secondary   None       30       3.634627   \n",
       "38  671996833  Symonds Street       primary    yes       50       3.997002   \n",
       "39  671996834  Symonds Street       primary    yes       50      26.429547   \n",
       "40  682351908  Symonds Street       primary    yes       50      23.518795   \n",
       "41  682351909  Symonds Street       primary    yes       50       7.629698   \n",
       "42  759309051  Symonds Street       primary    yes       50       3.759317   \n",
       "43  803779774  Symonds Street     secondary   None       30      53.419604   \n",
       "44  803779775  Symonds Street     secondary   None       30       9.571858   \n",
       "45  815486465  Symonds Street       primary    yes       50       1.888102   \n",
       "46  907165027  Symonds Street     secondary   None       30      28.159089   \n",
       "47  907165028  Symonds Street     secondary   None       30       7.588916   \n",
       "48  907165029  Symonds Street     secondary   None       30      11.347790   \n",
       "49  907165030  Symonds Street     secondary   None       30     210.241368   \n",
       "\n",
       "                                            edge_geom  \n",
       "0   LINESTRING(174.7758093 -36.912713, 174.7758584...  \n",
       "1   LINESTRING(174.7733312 -36.9217472, 174.773319...  \n",
       "2   LINESTRING(174.7627793 -36.8598013, 174.763089...  \n",
       "3   LINESTRING(174.7620581 -36.8610318, 174.762087...  \n",
       "4   LINESTRING(174.760914 -36.86404, 174.760906 -3...  \n",
       "5   LINESTRING(174.7685063 -36.8537484, 174.768556...  \n",
       "6   LINESTRING(174.761985 -36.8611502, 174.7619806...  \n",
       "7   LINESTRING(174.7609183 -36.863737, 174.7609351...  \n",
       "8   LINESTRING(174.7647254 -36.85732, 174.7648638 ...  \n",
       "9   LINESTRING(174.7705009 -36.8517601, 174.770589...  \n",
       "10  LINESTRING(174.7745421 -36.9167088, 174.774558...  \n",
       "11  LINESTRING(174.761985 -36.8611502, 174.7620581...  \n",
       "12  LINESTRING(174.7634183 -36.858702, 174.7635142...  \n",
       "13  LINESTRING(174.7608093 -36.864437, 174.7607901...  \n",
       "14  LINESTRING(174.7606934 -36.8648237, 174.760670...  \n",
       "15  LINESTRING(174.7611724 -36.8633717, 174.761064...  \n",
       "16  LINESTRING(174.7661827 -36.8559715, 174.766396...  \n",
       "17  LINESTRING(174.7700975 -36.8521478, 174.770253...  \n",
       "18  LINESTRING(174.768219 -36.8540278, 174.7682219...  \n",
       "19  LINESTRING(174.768003 -36.854266, 174.7680367 ...  \n",
       "20  LINESTRING(174.7613423 -36.8628624, 174.761224...  \n",
       "21  LINESTRING(174.7614789 -36.8619345, 174.761497...  \n",
       "22  LINESTRING(174.768219 -36.8540278, 174.7682281...  \n",
       "23  LINESTRING(174.7682281 -36.8540199, 174.768234...  \n",
       "24  LINESTRING(174.7625615 -36.8601794, 174.762779...  \n",
       "25  LINESTRING(174.7659349 -36.8561922, 174.765970...  \n",
       "26  LINESTRING(174.7655492 -36.8565573, 174.765622...  \n",
       "27  LINESTRING(174.7638197 -36.8580687, 174.763862...  \n",
       "28  LINESTRING(174.7635944 -36.8584378, 174.763658...  \n",
       "29  LINESTRING(174.7703133 -36.8519293, 174.770464...  \n",
       "30  LINESTRING(174.7720905 -36.8504792, 174.772328...  \n",
       "31  LINESTRING(174.7608955 -36.8641383, 174.760882...  \n",
       "32  LINESTRING(174.7615511 -36.8621628, 174.761391...  \n",
       "33  LINESTRING(174.7624777 -36.8603214, 174.762561...  \n",
       "34  LINESTRING(174.7608828 -36.8641883, 174.760809...  \n",
       "35  LINESTRING(174.760751 -36.864631, 174.7607177 ...  \n",
       "36  LINESTRING(174.7682343 -36.8540138, 174.768343...  \n",
       "37  LINESTRING(174.7683862 -36.8538612, 174.768411...  \n",
       "38  LINESTRING(174.7609032 -36.8638057, 174.760911...  \n",
       "39  LINESTRING(174.760914 -36.86404, 174.7608852 -...  \n",
       "40  LINESTRING(174.7610187 -36.8638462, 174.760976...  \n",
       "41  LINESTRING(174.7610372 -36.8637792, 174.761018...  \n",
       "42  LINESTRING(174.760911 -36.8637703, 174.7609183...  \n",
       "43  LINESTRING(174.7643064 -36.857664, 174.76449 -...  \n",
       "44  LINESTRING(174.7642248 -36.8577201, 174.764306...  \n",
       "45  LINESTRING(174.7611779 -36.8633553, 174.761172...  \n",
       "46  LINESTRING(174.7656771 -36.8564341, 174.765758...  \n",
       "47  LINESTRING(174.7656226 -36.8564866, 174.765677...  \n",
       "48  LINESTRING(174.7663967 -36.8557853, 174.766481...  \n",
       "49  LINESTRING(174.7664814 -36.855709, 174.7669085...  "
      ]
     },
     "metadata": {},
     "output_type": "display_data"
    }
   ],
   "source": [
    "# Query OSM links by exact road name\n",
    "from google.cloud import bigquery\n",
    "from IPython.display import display\n",
    "import os\n",
    "\n",
    "# Set the road name to filter by (edit as needed)\n",
    "road_name = os.environ.get(\"OSM_ROAD_NAME\", \"Symonds Street\")\n",
    "print({\"road_name\": road_name})\n",
    "\n",
    "# Prefer the base table; if it doesn't exist in this dataset, fall back to the view\n",
    "sql_table = f\"\"\"\n",
    "SELECT\n",
    "  edge_id,\n",
    "  name AS road_name,\n",
    "  highway,\n",
    "  oneway,\n",
    "  maxspeed,\n",
    "  length_m AS edge_length_m,\n",
    "  geom AS edge_geom\n",
    "FROM `{project_id}.{dataset_id}.osm_akl_road_links`\n",
    "WHERE name = @road_name\n",
    "ORDER BY edge_id\n",
    "\"\"\"\n",
    "\n",
    "sql_view_fallback = f\"\"\"\n",
    "SELECT\n",
    "  edge_id,\n",
    "  name AS road_name,\n",
    "  highway,\n",
    "  oneway,\n",
    "  maxspeed,\n",
    "  length_m AS edge_length_m,\n",
    "  geom AS edge_geom\n",
    "FROM `{project_id}.{dataset_id}.vw_osm_akl_road_links`\n",
    "WHERE name = @road_name\n",
    "ORDER BY edge_id\n",
    "\"\"\"\n",
    "\n",
    "params = [bigquery.ScalarQueryParameter(\"road_name\", \"STRING\", road_name)]\n",
    "\n",
    "try:\n",
    "  df_by_name = run_sql_loc(sql_table, params)\n",
    "except Exception as e:\n",
    "  print(f\"Base table query failed, trying view fallback: {e}\")\n",
    "  df_by_name = run_sql_loc(sql_view_fallback, params)\n",
    "\n",
    "print(f\"rows={len(df_by_name)}\")\n",
    "display(df_by_name.head(50))"
   ]
  },
  {
   "cell_type": "markdown",
   "id": "c0ac24d4",
   "metadata": {},
   "source": [
    "## Plot OSM links (queried by name) on a map\n",
    "Visualize the `edge_geom` from `df_by_name` using Plotly Express on a carto-positron basemap."
   ]
  },
  {
   "cell_type": "code",
   "execution_count": 11,
   "id": "7a63583a",
   "metadata": {},
   "outputs": [
    {
     "name": "stderr",
     "output_type": "stream",
     "text": [
      "/var/folders/yb/hshltv157x9fyt_dsl7vnn940000gn/T/ipykernel_10505/3291254850.py:64: DeprecationWarning:\n",
      "\n",
      "*line_mapbox* is deprecated! Use *line_map* instead. Learn more at: https://plotly.com/python/mapbox-to-maplibre/\n",
      "\n"
     ]
    },
    {
     "data": {
      "application/vnd.plotly.v1+json": {
       "config": {
        "plotlyServerURL": "https://plot.ly"
       },
       "data": [
        {
         "customdata": [
          [
           "7637280",
           "Symonds Street",
           "unclassified",
           174.7758093,
           -36.912713
          ],
          [
           "7637280",
           "Symonds Street",
           "unclassified",
           174.7758584,
           -36.9126767
          ],
          [
           "7637280",
           "Symonds Street",
           "unclassified",
           174.775907,
           -36.9126581
          ],
          [
           "7637280",
           "Symonds Street",
           "unclassified",
           174.7763578,
           -36.9126043
          ],
          [
           "7637280",
           "Symonds Street",
           "unclassified",
           174.7764637,
           -36.9125883
          ]
         ],
         "hovertemplate": "edge_id=%{customdata[0]}<br>segment=7637280-0<br>road_name=%{customdata[1]}<br>highway=%{customdata[2]}<extra></extra>",
         "lat": {
          "bdata": "KNGSx9N0QsAdKRGX0nRCwPr2CfvRdELAMFi7N9B0QsArm4Oxz3RCwA==",
          "dtype": "f8"
         },
         "legendgroup": "7637280",
         "line": {
          "color": "#636efa"
         },
         "lon": {
          "bdata": "2G0GbtPYZUB2yv7U09hlQJm36jrU2GVA0x9Q7NfYZUD/wGbK2NhlQA==",
          "dtype": "f8"
         },
         "mode": "lines",
         "name": "7637280",
         "showlegend": true,
         "subplot": "mapbox",
         "type": "scattermapbox"
        },
        {
         "customdata": [
          [
           "7637281",
           "Symonds Street",
           "residential",
           174.7733312,
           -36.9217472
          ],
          [
           "7637281",
           "Symonds Street",
           "residential",
           174.7733195,
           -36.9216966
          ],
          [
           "7637281",
           "Symonds Street",
           "residential",
           174.7732053,
           -36.9212021
          ],
          [
           "7637281",
           "Symonds Street",
           "residential",
           174.7731943,
           -36.9211586
          ],
          [
           "7637281",
           "Symonds Street",
           "residential",
           174.7731922,
           -36.9211172
          ],
          [
           "7637281",
           "Symonds Street",
           "residential",
           174.7734659,
           -36.9205396
          ],
          [
           "7637281",
           "Symonds Street",
           "residential",
           174.7734747,
           -36.9204797
          ],
          [
           "7637281",
           "Symonds Street",
           "residential",
           174.7734073,
           -36.9201239
          ],
          [
           "7637281",
           "Symonds Street",
           "residential",
           174.7745253,
           -36.9167595
          ],
          [
           "7637281",
           "Symonds Street",
           "residential",
           174.7745421,
           -36.9167088
          ]
         ],
         "hovertemplate": "edge_id=%{customdata[0]}<br>segment=7637281-0<br>road_name=%{customdata[1]}<br>highway=%{customdata[2]}<extra></extra>",
         "lat": {
          "bdata": "/Jbvz/t1QsDN6ngn+nVCwNZATvPpdULA7rZmhuh1QsA85Bwr53VCwCJW2j3UdULA4hBgR9J1QsBNYrWexnVCwA5mE2BYdULAS/rFtlZ1QsA=",
          "dtype": "f8"
         },
         "legendgroup": "7637281",
         "line": {
          "color": "#EF553B"
         },
         "lon": {
          "bdata": "P58SIb/YZUB+O4kIv9hlQAGTChm+2GVAhP74Ab7YZUC3kJH9vdhlQEcijzvA2GVAEpkDTsDYZUCbf6rAv9hlQJYtSOnI2GVAAZyDDMnYZUA=",
          "dtype": "f8"
         },
         "mode": "lines",
         "name": "7637281",
         "showlegend": true,
         "subplot": "mapbox",
         "type": "scattermapbox"
        },
        {
         "customdata": [
          [
           "24457402",
           "Symonds Street",
           "secondary",
           174.7627793,
           -36.8598013
          ],
          [
           "24457402",
           "Symonds Street",
           "secondary",
           174.7630898,
           -36.859262
          ],
          [
           "24457402",
           "Symonds Street",
           "secondary",
           174.7634183,
           -36.858702
          ]
         ],
         "hovertemplate": "edge_id=%{customdata[0]}<br>segment=24457402-0<br>road_name=%{customdata[1]}<br>highway=%{customdata[2]}<extra></extra>",
         "lat": {
          "bdata": "dkcQ+A1uQsAIWRZM/G1CwEGBd/LpbULA",
          "dtype": "f8"
         },
         "legendgroup": "24457402",
         "line": {
          "color": "#00cc96"
         },
         "lon": {
          "bdata": "G3IisGjYZUAo3Uw7a9hlQGD1Nuxt2GVA",
          "dtype": "f8"
         },
         "mode": "lines",
         "name": "24457402",
         "showlegend": true,
         "subplot": "mapbox",
         "type": "scattermapbox"
        },
        {
         "customdata": [
          [
           "24457404",
           "Symonds Street",
           "secondary",
           174.7620581,
           -36.8610318
          ],
          [
           "24457404",
           "Symonds Street",
           "secondary",
           174.7620877,
           -36.8609817
          ],
          [
           "24457404",
           "Symonds Street",
           "secondary",
           174.7624777,
           -36.8603214
          ]
         ],
         "hovertemplate": "edge_id=%{customdata[0]}<br>segment=24457404-0<br>road_name=%{customdata[1]}<br>highway=%{customdata[2]}<extra></extra>",
         "lat": {
          "bdata": "c+g+SjZuQsAt+vmlNG5CwEOG+gIfbkLA",
          "dtype": "f8"
         },
         "legendgroup": "24457404",
         "line": {
          "color": "#ab63fa"
         },
         "lon": {
          "bdata": "3CSrx2LYZUDihb4FY9hlQL0tojdm2GVA",
          "dtype": "f8"
         },
         "mode": "lines",
         "name": "24457404",
         "showlegend": true,
         "subplot": "mapbox",
         "type": "scattermapbox"
        },
        {
         "customdata": [
          [
           "24457649",
           "Symonds Street",
           "primary",
           174.760914,
           -36.86404
          ],
          [
           "24457649",
           "Symonds Street",
           "primary",
           174.760906,
           -36.8640784
          ],
          [
           "24457649",
           "Symonds Street",
           "primary",
           174.7608955,
           -36.8641383
          ]
         ],
         "hovertemplate": "edge_id=%{customdata[0]}<br>segment=24457649-0<br>road_name=%{customdata[1]}<br>highway=%{customdata[2]}<extra></extra>",
         "lat": {
          "bdata": "yjfb3JhuQsAKl/oemm5CwEvcdBWcbkLA",
          "dtype": "f8"
         },
         "legendgroup": "24457649",
         "line": {
          "color": "#FFA15A"
         },
         "lon": {
          "bdata": "MiJRaFnYZUCRKopXWdhlQI4FhUFZ2GVA",
          "dtype": "f8"
         },
         "mode": "lines",
         "name": "24457649",
         "showlegend": true,
         "subplot": "mapbox",
         "type": "scattermapbox"
        },
        {
         "customdata": [
          [
           "32799524",
           "Symonds Street",
           "secondary",
           174.7685063,
           -36.8537484
          ],
          [
           "32799524",
           "Symonds Street",
           "secondary",
           174.7685562,
           -36.8536982
          ]
         ],
         "hovertemplate": "edge_id=%{customdata[0]}<br>segment=32799524-0<br>road_name=%{customdata[1]}<br>highway=%{customdata[2]}<extra></extra>",
         "lat": {
          "bdata": "lIGooEdtQsC404z7RW1CwA==",
          "dtype": "f8"
         },
         "legendgroup": "32799524",
         "line": {
          "color": "#19d3f3"
         },
         "lon": {
          "bdata": "pCiGmpfYZUBrBCwDmNhlQA==",
          "dtype": "f8"
         },
         "mode": "lines",
         "name": "32799524",
         "showlegend": true,
         "subplot": "mapbox",
         "type": "scattermapbox"
        },
        {
         "customdata": [
          [
           "37559107",
           "Symonds Street",
           "primary",
           174.761985,
           -36.8611502
          ],
          [
           "37559107",
           "Symonds Street",
           "primary",
           174.7619806,
           -36.8612221
          ],
          [
           "37559107",
           "Symonds Street",
           "primary",
           174.7619651,
           -36.8612851
          ],
          [
           "37559107",
           "Symonds Street",
           "primary",
           174.761773,
           -36.8616331
          ],
          [
           "37559107",
           "Symonds Street",
           "primary",
           174.7616571,
           -36.8618546
          ],
          [
           "37559107",
           "Symonds Street",
           "primary",
           174.7616208,
           -36.8619412
          ],
          [
           "37559107",
           "Symonds Street",
           "primary",
           174.7615511,
           -36.8621628
          ]
         ],
         "hovertemplate": "edge_id=%{customdata[0]}<br>segment=37559107-0<br>road_name=%{customdata[1]}<br>highway=%{customdata[2]}<extra></extra>",
         "lat": {
          "bdata": "0Ph0KzpuQsDVC5mGPG5CwByEFJc+bkLAV9NQ/kluQsAedGRAUW5CwJmJ2BZUbkLA9enCWVtuQsA=",
          "dtype": "f8"
         },
         "legendgroup": "37559107",
         "line": {
          "color": "#FF6692"
         },
         "lon": {
          "bdata": "XeFdLmLYZUD3pSMlYthlQDAmogRi2GVAOj/FcWDYZUCF6LV+X9hlQIJ+lTJf2GVAc5dpoF7YZUA=",
          "dtype": "f8"
         },
         "mode": "lines",
         "name": "37559107",
         "showlegend": true,
         "subplot": "mapbox",
         "type": "scattermapbox"
        },
        {
         "customdata": [
          [
           "37559126",
           "Symonds Street",
           "primary",
           174.7609183,
           -36.863737
          ],
          [
           "37559126",
           "Symonds Street",
           "primary",
           174.7609351,
           -36.8636606
          ],
          [
           "37559126",
           "Symonds Street",
           "primary",
           174.7612032,
           -36.8627993
          ],
          [
           "37559126",
           "Symonds Street",
           "primary",
           174.7612237,
           -36.8627333
          ],
          [
           "37559126",
           "Symonds Street",
           "primary",
           174.7613765,
           -36.8622196
          ],
          [
           "37559126",
           "Symonds Street",
           "primary",
           174.7614044,
           -36.8621328
          ],
          [
           "37559126",
           "Symonds Street",
           "primary",
           174.7614414,
           -36.8620174
          ],
          [
           "37559126",
           "Symonds Street",
           "primary",
           174.7614789,
           -36.8619345
          ]
         ],
         "hovertemplate": "edge_id=%{customdata[0]}<br>segment=37559126-0<br>road_name=%{customdata[1]}<br>highway=%{customdata[2]}<extra></extra>",
         "lat": {
          "bdata": "Lqwb745uQsAA7DdujG5CwH9BHDVwbkLAyFV2C25uQsAw/Ds2XW5CwIpnGl5abkLAnsoOllZuQsClZaTeU25CwA==",
          "dtype": "f8"
         },
         "legendgroup": "37559126",
         "line": {
          "color": "#B6E880"
         },
         "lon": {
          "bdata": "sa1VcVnYZUAdHJGUWdhlQIoz0MZb2GVAFQ7O8VvYZUAt7j8yXdhlQPqgwmxd2GVAQdpaul3YZUACg/8IXthlQA==",
          "dtype": "f8"
         },
         "mode": "lines",
         "name": "37559126",
         "showlegend": true,
         "subplot": "mapbox",
         "type": "scattermapbox"
        },
        {
         "customdata": [
          [
           "52728801",
           "Symonds Street",
           "secondary",
           174.7647254,
           -36.85732
          ],
          [
           "52728801",
           "Symonds Street",
           "secondary",
           174.7648638,
           -36.8572049
          ],
          [
           "52728801",
           "Symonds Street",
           "secondary",
           174.7649478,
           -36.8571305
          ],
          [
           "52728801",
           "Symonds Street",
           "secondary",
           174.7650204,
           -36.8570661
          ],
          [
           "52728801",
           "Symonds Street",
           "secondary",
           174.765078,
           -36.8570136
          ],
          [
           "52728801",
           "Symonds Street",
           "secondary",
           174.7651677,
           -36.8569307
          ],
          [
           "52728801",
           "Symonds Street",
           "secondary",
           174.7652818,
           -36.8568253
          ],
          [
           "52728801",
           "Symonds Street",
           "secondary",
           174.7652883,
           -36.8568193
          ],
          [
           "52728801",
           "Symonds Street",
           "secondary",
           174.7655492,
           -36.8565573
          ]
         ],
         "hovertemplate": "edge_id=%{customdata[0]}<br>segment=52728801-0<br>road_name=%{customdata[1]}<br>highway=%{customdata[2]}<extra></extra>",
         "lat": {
          "bdata": "dhppqbxtQsBIvOHjuG1CwLrzxHO2bULAUAGLV7RtQsAWHSSfsm1CwB24ueevbULAVPGQc6xtQsByCjxBrG1CwDVTa6ujbULA",
          "dtype": "f8"
         },
         "legendgroup": "52728801",
         "line": {
          "color": "#FF97FF"
         },
         "lon": {
          "bdata": "de1moXjYZUCe3KXDedhlQLUEz3N62GVAu9gPDHvYZUBznNuEe9hlQJTu+EB82GVAK+dBMH3YZUBekOM9fdhlQFQvCWF/2GVA",
          "dtype": "f8"
         },
         "mode": "lines",
         "name": "52728801",
         "showlegend": true,
         "subplot": "mapbox",
         "type": "scattermapbox"
        },
        {
         "customdata": [
          [
           "52728937",
           "Symonds Street",
           "secondary",
           174.7705009,
           -36.8517601
          ],
          [
           "52728937",
           "Symonds Street",
           "secondary",
           174.7705899,
           -36.8516813
          ],
          [
           "52728937",
           "Symonds Street",
           "secondary",
           174.7708701,
           -36.8514621
          ],
          [
           "52728937",
           "Symonds Street",
           "secondary",
           174.7709205,
           -36.8514234
          ],
          [
           "52728937",
           "Symonds Street",
           "secondary",
           174.7711033,
           -36.8512738
          ],
          [
           "52728937",
           "Symonds Street",
           "secondary",
           174.7711529,
           -36.8512308
          ],
          [
           "52728937",
           "Symonds Street",
           "secondary",
           174.7713559,
           -36.851068
          ],
          [
           "52728937",
           "Symonds Street",
           "secondary",
           174.7715267,
           -36.8509353
          ],
          [
           "52728937",
           "Symonds Street",
           "secondary",
           174.7716019,
           -36.8508744
          ],
          [
           "52728937",
           "Symonds Street",
           "secondary",
           174.7717739,
           -36.8507353
          ],
          [
           "52728937",
           "Symonds Street",
           "secondary",
           174.7720905,
           -36.8504792
          ]
         ],
         "hovertemplate": "edge_id=%{customdata[0]}<br>segment=52728937-0<br>road_name=%{customdata[1]}<br>highway=%{customdata[2]}<extra></extra>",
         "lat": {
          "bdata": "08SWeQZtQsCxDpHkA21CwEmkyLX8bELASgYlcftsQsCIeDWK9mxCwImsfyH1bELACFbVy+9sQsCIQapy62xCwHeAzHPpbELAwIbx5ORsQsDR9p6A3GxCwA==",
          "dtype": "f8"
         },
         "legendgroup": "52728937",
         "line": {
          "color": "#FECB52"
         },
         "lon": {
          "bdata": "POGA8afYZUAYZCasqNhlQNuexfeq2GVAHOp3YavYZUDO6tPgrNhlQOa22Eit2GVAdIKR8q7YZUC1D8NYsNhlQALBd/aw2GVAAY0tX7LYZUCs4SL3tNhlQA==",
          "dtype": "f8"
         },
         "mode": "lines",
         "name": "52728937",
         "showlegend": true,
         "subplot": "mapbox",
         "type": "scattermapbox"
        },
        {
         "customdata": [
          [
           "94490076",
           "Symonds Street",
           "residential",
           174.7745421,
           -36.9167088
          ],
          [
           "94490076",
           "Symonds Street",
           "residential",
           174.774558,
           -36.9166586
          ],
          [
           "94490076",
           "Symonds Street",
           "residential",
           174.774698,
           -36.9162173
          ],
          [
           "94490076",
           "Symonds Street",
           "residential",
           174.7747243,
           -36.9161342
          ],
          [
           "94490076",
           "Symonds Street",
           "residential",
           174.7747899,
           -36.9159273
          ],
          [
           "94490076",
           "Symonds Street",
           "residential",
           174.7748416,
           -36.9157645
          ],
          [
           "94490076",
           "Symonds Street",
           "residential",
           174.7748521,
           -36.9157314
          ],
          [
           "94490076",
           "Symonds Street",
           "residential",
           174.7748986,
           -36.9155846
          ],
          [
           "94490076",
           "Symonds Street",
           "residential",
           174.77502,
           -36.9152018
          ],
          [
           "94490076",
           "Symonds Street",
           "residential",
           174.7750772,
           -36.9150216
          ],
          [
           "94490076",
           "Symonds Street",
           "residential",
           174.775092,
           -36.9149748
          ],
          [
           "94490076",
           "Symonds Street",
           "residential",
           174.7751234,
           -36.9148758
          ],
          [
           "94490076",
           "Symonds Street",
           "residential",
           174.775153,
           -36.9147824
          ],
          [
           "94490076",
           "Symonds Street",
           "residential",
           174.7751557,
           -36.914774
          ],
          [
           "94490076",
           "Symonds Street",
           "residential",
           174.7752028,
           -36.9146255
          ],
          [
           "94490076",
           "Symonds Street",
           "residential",
           174.7752574,
           -36.9144532
          ],
          [
           "94490076",
           "Symonds Street",
           "residential",
           174.7752912,
           -36.9143466
          ],
          [
           "94490076",
           "Symonds Street",
           "residential",
           174.7753039,
           -36.9143066
          ],
          [
           "94490076",
           "Symonds Street",
           "residential",
           174.775351,
           -36.914158
          ],
          [
           "94490076",
           "Symonds Street",
           "residential",
           174.7753643,
           -36.9141161
          ],
          [
           "94490076",
           "Symonds Street",
           "residential",
           174.7753903,
           -36.9140341
          ],
          [
           "94490076",
           "Symonds Street",
           "residential",
           174.7754142,
           -36.9139588
          ],
          [
           "94490076",
           "Symonds Street",
           "residential",
           174.7754381,
           -36.9138836
          ],
          [
           "94490076",
           "Symonds Street",
           "residential",
           174.7754486,
           -36.9138504
          ],
          [
           "94490076",
           "Symonds Street",
           "residential",
           174.7754659,
           -36.9137958
          ],
          [
           "94490076",
           "Symonds Street",
           "residential",
           174.7754927,
           -36.9137115
          ],
          [
           "94490076",
           "Symonds Street",
           "residential",
           174.7755003,
           -36.9136875
          ],
          [
           "94490076",
           "Symonds Street",
           "residential",
           174.7755039,
           -36.913676
          ],
          [
           "94490076",
           "Symonds Street",
           "residential",
           174.7755387,
           -36.9135662
          ],
          [
           "94490076",
           "Symonds Street",
           "residential",
           174.7755578,
           -36.9135062
          ],
          [
           "94490076",
           "Symonds Street",
           "residential",
           174.7756153,
           -36.9133246
          ],
          [
           "94490076",
           "Symonds Street",
           "residential",
           174.7756365,
           -36.913258
          ],
          [
           "94490076",
           "Symonds Street",
           "residential",
           174.7756522,
           -36.9132084
          ],
          [
           "94490076",
           "Symonds Street",
           "residential",
           174.775681,
           -36.9131176
          ],
          [
           "94490076",
           "Symonds Street",
           "residential",
           174.775745,
           -36.9129159
          ],
          [
           "94490076",
           "Symonds Street",
           "residential",
           174.775788,
           -36.9127801
          ],
          [
           "94490076",
           "Symonds Street",
           "residential",
           174.7758093,
           -36.912713
          ]
         ],
         "hovertemplate": "edge_id=%{customdata[0]}<br>segment=94490076-0<br>road_name=%{customdata[1]}<br>highway=%{customdata[2]}<extra></extra>",
         "lat": {
          "bdata": "S/rFtlZ1QsBvTKoRVXVCwMTDxZtGdULAot+t4kN1QsC9gRMbPXVCwD0racU3dULAzHW/rzZ1QsBS3EzgMXVCwMMeJFUldULAGpGDbR91QsADVe3kHXVCwG9zdKYadULAa3r1lhd1QsCVnX5QF3VCwDhLyXISdULAfNxtzQx1QsC6GjRPCXVCwCzCqP8HdULAOrAcIQN1QsCgH6HBAXVCwON2wxH/dELAGvIZmvx0QsDlLEcj+nRCwOC3xgz5dELAcBzCQvd0QsBTPZl/9HRCwMuhRbbzdELA75HNVfN0QsCR3bu873RCwLzYasXtdELA79AL0ud0QsC6Z12j5XRCwFw3SgPkdELAdbOaCeF0QsDMP59t2nRCwEX4cvrVdELAKNGSx9N0QsA=",
          "dtype": "f8"
         },
         "legendgroup": "94490076",
         "line": {
          "color": "#636efa"
         },
         "lon": {
          "bdata": "AZyDDMnYZUBe29stydhlQNrIdVPK2GVAVH2disrYZUCtODAUy9hlQJJynIDL2GVAlZehlsvYZUDrFib4y9hlQN83vvbM2GVAAjyzbs3YZUCF7LyNzdhlQKmrls/N2GVArgyqDc7YZUDbmVMTzthlQJA4GnbO2GVAbF+b6M7YZUANnH0vz9hlQMPeH0rP2GVAeH3mrM/YZUCN38rIz9hlQFeEUf/P2GVAVLtwMdDYZUBR8o9j0NhlQFQXlXnQ2GVAOfXcndDYZUAtGRHW0NhlQDlRAebQ2GVAdA2O7dDYZUAJKYk20dhlQAxll17R2GVA33gt19HYZUCvIqMD0thlQEECkCTS2GVAHeT1YNLYZUAjoS3n0thlQCMUW0HT2GVA2G0GbtPYZUA=",
          "dtype": "f8"
         },
         "mode": "lines",
         "name": "94490076",
         "showlegend": true,
         "subplot": "mapbox",
         "type": "scattermapbox"
        },
        {
         "customdata": [
          [
           "102408384",
           "Symonds Street",
           "secondary",
           174.761985,
           -36.8611502
          ],
          [
           "102408384",
           "Symonds Street",
           "secondary",
           174.7620581,
           -36.8610318
          ]
         ],
         "hovertemplate": "edge_id=%{customdata[0]}<br>segment=102408384-0<br>road_name=%{customdata[1]}<br>highway=%{customdata[2]}<extra></extra>",
         "lat": {
          "bdata": "0Ph0KzpuQsBz6D5KNm5CwA==",
          "dtype": "f8"
         },
         "legendgroup": "102408384",
         "line": {
          "color": "#EF553B"
         },
         "lon": {
          "bdata": "XeFdLmLYZUDcJKvHYthlQA==",
          "dtype": "f8"
         },
         "mode": "lines",
         "name": "102408384",
         "showlegend": true,
         "subplot": "mapbox",
         "type": "scattermapbox"
        },
        {
         "customdata": [
          [
           "114133932",
           "Symonds Street",
           "secondary",
           174.7634183,
           -36.858702
          ],
          [
           "114133932",
           "Symonds Street",
           "secondary",
           174.7635142,
           -36.8585495
          ],
          [
           "114133932",
           "Symonds Street",
           "secondary",
           174.7635462,
           -36.8585042
          ]
         ],
         "hovertemplate": "edge_id=%{customdata[0]}<br>segment=114133932-0<br>road_name=%{customdata[1]}<br>highway=%{customdata[2]}<extra></extra>",
         "lat": {
          "bdata": "QYF38ultQsCjPzTz5G1CwEQ9M3fjbULA",
          "dtype": "f8"
         },
         "legendgroup": "114133932",
         "line": {
          "color": "#00cc96"
         },
         "lon": {
          "bdata": "YPU27G3YZUAD4VS1bthlQIa/cPhu2GVA",
          "dtype": "f8"
         },
         "mode": "lines",
         "name": "114133932",
         "showlegend": true,
         "subplot": "mapbox",
         "type": "scattermapbox"
        },
        {
         "customdata": [
          [
           "114133933",
           "Symonds Street",
           "primary",
           174.7608093,
           -36.864437
          ],
          [
           "114133933",
           "Symonds Street",
           "primary",
           174.7607901,
           -36.864498
          ],
          [
           "114133933",
           "Symonds Street",
           "primary",
           174.7607809,
           -36.8645288
          ],
          [
           "114133933",
           "Symonds Street",
           "primary",
           174.7607789,
           -36.8645356
          ],
          [
           "114133933",
           "Symonds Street",
           "primary",
           174.760751,
           -36.864631
          ]
         ],
         "hovertemplate": "edge_id=%{customdata[0]}<br>segment=114133933-0<br>road_name=%{customdata[1]}<br>highway=%{customdata[2]}<extra></extra>",
         "lat": {
          "bdata": "5zki36VuQsCMutbep25CwJ45NeGobkLAJx1AGqluQsDMDYY6rG5CwA==",
          "dtype": "f8"
         },
         "legendgroup": "114133933",
         "line": {
          "color": "#ab63fa"
         },
         "lon": {
          "bdata": "xL++jFjYZUDc03pkWNhlQHydL1FY2GVAlN/9TFjYZUDHLHsSWNhlQA==",
          "dtype": "f8"
         },
         "mode": "lines",
         "name": "114133933",
         "showlegend": true,
         "subplot": "mapbox",
         "type": "scattermapbox"
        },
        {
         "customdata": [
          [
           "114133936",
           "Symonds Street",
           "primary",
           174.7606934,
           -36.8648237
          ],
          [
           "114133936",
           "Symonds Street",
           "primary",
           174.7606709,
           -36.8649003
          ],
          [
           "114133936",
           "Symonds Street",
           "primary",
           174.7606405,
           -36.8649839
          ],
          [
           "114133936",
           "Symonds Street",
           "primary",
           174.76063,
           -36.8650076
          ],
          [
           "114133936",
           "Symonds Street",
           "primary",
           174.7605969,
           -36.8650502
          ],
          [
           "114133936",
           "Symonds Street",
           "primary",
           174.7605411,
           -36.8651034
          ]
         ],
         "hovertemplate": "edge_id=%{customdata[0]}<br>segment=114133936-0<br>road_name=%{customdata[1]}<br>highway=%{customdata[2]}<extra></extra>",
         "lat": {
          "bdata": "IicCi7JuQsB6ZpMNtW5CwIQI3cq3bkLATmWskbhuQsD6Mgf3uW5CwEdUTbW7bkLA",
          "dtype": "f8"
         },
         "legendgroup": "114133936",
         "line": {
          "color": "#FFA15A"
         },
         "lon": {
          "bdata": "D2mvmVfYZUCb0H9qV9hlQGvwvipX2GVAaMu5FFfYZUAMXk/PVthlQHL4SVpW2GVA",
          "dtype": "f8"
         },
         "mode": "lines",
         "name": "114133936",
         "showlegend": true,
         "subplot": "mapbox",
         "type": "scattermapbox"
        },
        {
         "customdata": [
          [
           "117030965",
           "Symonds Street",
           "primary",
           174.7611724,
           -36.8633717
          ],
          [
           "117030965",
           "Symonds Street",
           "primary",
           174.7610642,
           -36.8636815
          ],
          [
           "117030965",
           "Symonds Street",
           "primary",
           174.7610372,
           -36.8637792
          ]
         ],
         "hovertemplate": "edge_id=%{customdata[0]}<br>segment=117030965-0<br>road_name=%{customdata[1]}<br>highway=%{customdata[2]}<extra></extra>",
         "lat": {
          "bdata": "XuW/9oJuQsCCVIodjW5CwId7G1GQbkLA",
          "dtype": "f8"
         },
         "legendgroup": "117030965",
         "line": {
          "color": "#19d3f3"
         },
         "lon": {
          "bdata": "xZM4hlvYZUABJU+jWthlQEOhr2pa2GVA",
          "dtype": "f8"
         },
         "mode": "lines",
         "name": "117030965",
         "showlegend": true,
         "subplot": "mapbox",
         "type": "scattermapbox"
        },
        {
         "customdata": [
          [
           "117903492",
           "Symonds Street",
           "secondary",
           174.7661827,
           -36.8559715
          ],
          [
           "117903492",
           "Symonds Street",
           "secondary",
           174.7663967,
           -36.8557853
          ]
         ],
         "hovertemplate": "edge_id=%{customdata[0]}<br>segment=117903492-0<br>road_name=%{customdata[1]}<br>highway=%{customdata[2]}<extra></extra>",
         "lat": {
          "bdata": "b2dfeZBtQsDj8mlfim1CwA==",
          "dtype": "f8"
         },
         "legendgroup": "117903492",
         "line": {
          "color": "#FF6692"
         },
         "lon": {
          "bdata": "WuiUkYTYZUBlSF9ShthlQA==",
          "dtype": "f8"
         },
         "mode": "lines",
         "name": "117903492",
         "showlegend": true,
         "subplot": "mapbox",
         "type": "scattermapbox"
        },
        {
         "customdata": [
          [
           "128944705",
           "Symonds Street",
           "secondary",
           174.7700975,
           -36.8521478
          ],
          [
           "128944705",
           "Symonds Street",
           "secondary",
           174.7702534,
           -36.85199
          ],
          [
           "128944705",
           "Symonds Street",
           "secondary",
           174.7703133,
           -36.8519293
          ]
         ],
         "hovertemplate": "edge_id=%{customdata[0]}<br>segment=128944705-0<br>road_name=%{customdata[1]}<br>highway=%{customdata[2]}<extra></extra>",
         "lat": {
          "bdata": "3i3aLRNtQsBwQiECDm1CwIkA8QQMbULA",
          "dtype": "f8"
         },
         "legendgroup": "128944705",
         "line": {
          "color": "#B6E880"
         },
         "lon": {
          "bdata": "ZyeDo6TYZUBAVHXqpdhlQJDlE2im2GVA",
          "dtype": "f8"
         },
         "mode": "lines",
         "name": "128944705",
         "showlegend": true,
         "subplot": "mapbox",
         "type": "scattermapbox"
        },
        {
         "customdata": [
          [
           "433802154",
           "Symonds Street",
           "secondary",
           174.768219,
           -36.8540278
          ],
          [
           "433802154",
           "Symonds Street",
           "secondary",
           174.7682219,
           -36.8540569
          ],
          [
           "433802154",
           "Symonds Street",
           "secondary",
           174.7682255,
           -36.8540925
          ],
          [
           "433802154",
           "Symonds Street",
           "secondary",
           174.768136,
           -36.8541869
          ],
          [
           "433802154",
           "Symonds Street",
           "secondary",
           174.7680914,
           -36.8542159
          ],
          [
           "433802154",
           "Symonds Street",
           "secondary",
           174.768003,
           -36.854266
          ]
         ],
         "hovertemplate": "edge_id=%{customdata[0]}<br>segment=433802154-0<br>road_name=%{customdata[1]}<br>highway=%{customdata[2]}<extra></extra>",
         "lat": {
          "bdata": "+m9vyFBtQsAqNou8UW1CwCOhLedSbULA+BUQ/1VtQsCSHFXyVm1CwNkKmpZYbULA",
          "dtype": "f8"
         },
         "legendgroup": "433802154",
         "line": {
          "color": "#FF97FF"
         },
         "lon": {
          "bdata": "TiUDQJXYZUBFEhhGldhlQIHOpE2V2GVAK9zykZTYZUDYamo0lNhlQFsHB3uT2GVA",
          "dtype": "f8"
         },
         "mode": "lines",
         "name": "433802154",
         "showlegend": true,
         "subplot": "mapbox",
         "type": "scattermapbox"
        },
        {
         "customdata": [
          [
           "433802155",
           "Symonds Street",
           "secondary",
           174.768003,
           -36.854266
          ],
          [
           "433802155",
           "Symonds Street",
           "secondary",
           174.7680367,
           -36.8541644
          ],
          [
           "433802155",
           "Symonds Street",
           "secondary",
           174.7681254,
           -36.8540687
          ],
          [
           "433802155",
           "Symonds Street",
           "secondary",
           174.7681467,
           -36.8540594
          ],
          [
           "433802155",
           "Symonds Street",
           "secondary",
           174.7681942,
           -36.8540387
          ],
          [
           "433802155",
           "Symonds Street",
           "secondary",
           174.768219,
           -36.8540278
          ]
         ],
         "hovertemplate": "edge_id=%{customdata[0]}<br>segment=433802155-0<br>road_name=%{customdata[1]}<br>highway=%{customdata[2]}<extra></extra>",
         "lat": {
          "bdata": "2QqallhtQsAotFFCVW1CwMSEhx9SbULAsuuD0VFtQsBZAt8jUW1CwPpvb8hQbULA",
          "dtype": "f8"
         },
         "legendgroup": "433802155",
         "line": {
          "color": "#FECB52"
         },
         "lon": {
          "bdata": "WwcHe5PYZUAXlLPBk9hlQEMHuHuU2GVA+GBjqJTYZUBDvwAMldhlQE4lA0CV2GVA",
          "dtype": "f8"
         },
         "mode": "lines",
         "name": "433802155",
         "showlegend": true,
         "subplot": "mapbox",
         "type": "scattermapbox"
        },
        {
         "customdata": [
          [
           "434309972",
           "Symonds Street",
           "primary",
           174.7613423,
           -36.8628624
          ],
          [
           "434309972",
           "Symonds Street",
           "primary",
           174.7612242,
           -36.8632163
          ],
          [
           "434309972",
           "Symonds Street",
           "primary",
           174.7611779,
           -36.8633553
          ]
         ],
         "hovertemplate": "edge_id=%{customdata[0]}<br>segment=434309972-0<br>road_name=%{customdata[1]}<br>highway=%{customdata[2]}<extra></extra>",
         "lat": {
          "bdata": "WnluRnJuQsDj7yjffW5CwAUqLW2CbkLA",
          "dtype": "f8"
         },
         "legendgroup": "434309972",
         "line": {
          "color": "#636efa"
         },
         "lon": {
          "bdata": "9/GG6lzYZUCPfdryW9hlQARewZFb2GVA",
          "dtype": "f8"
         },
         "mode": "lines",
         "name": "434309972",
         "showlegend": true,
         "subplot": "mapbox",
         "type": "scattermapbox"
        },
        {
         "customdata": [
          [
           "434309973",
           "Symonds Street",
           "primary",
           174.7614789,
           -36.8619345
          ],
          [
           "434309973",
           "Symonds Street",
           "primary",
           174.7614977,
           -36.8618929
          ],
          [
           "434309973",
           "Symonds Street",
           "primary",
           174.7616534,
           -36.861632
          ],
          [
           "434309973",
           "Symonds Street",
           "primary",
           174.7618737,
           -36.8612588
          ],
          [
           "434309973",
           "Symonds Street",
           "primary",
           174.7619266,
           -36.8612012
          ],
          [
           "434309973",
           "Symonds Street",
           "primary",
           174.761985,
           -36.8611502
          ]
         ],
         "hovertemplate": "edge_id=%{customdata[0]}<br>segment=434309973-0<br>road_name=%{customdata[1]}<br>highway=%{customdata[2]}<extra></extra>",
         "lat": {
          "bdata": "pWWk3lNuQsDKE62BUm5CwPKXFvVJbkLANLJ1uj1uQsBSo0bXO25CwND4dCs6bkLA",
          "dtype": "f8"
         },
         "legendgroup": "434309973",
         "line": {
          "color": "#EF553B"
         },
         "lon": {
          "bdata": "AoP/CF7YZUBWr2wwXthlQGR883Zf2GVA1yX0RGHYZUB7nuSzYdhlQF3hXS5i2GVA",
          "dtype": "f8"
         },
         "mode": "lines",
         "name": "434309973",
         "showlegend": true,
         "subplot": "mapbox",
         "type": "scattermapbox"
        },
        {
         "customdata": [
          [
           "617463104",
           "Symonds Street",
           "secondary",
           174.768219,
           -36.8540278
          ],
          [
           "617463104",
           "Symonds Street",
           "secondary",
           174.7682281,
           -36.8540199
          ]
         ],
         "hovertemplate": "edge_id=%{customdata[0]}<br>segment=617463104-0<br>road_name=%{customdata[1]}<br>highway=%{customdata[2]}<extra></extra>",
         "lat": {
          "bdata": "+m9vyFBtQsAMUSqGUG1CwA==",
          "dtype": "f8"
         },
         "legendgroup": "617463104",
         "line": {
          "color": "#00cc96"
         },
         "lon": {
          "bdata": "TiUDQJXYZUDIqxhTldhlQA==",
          "dtype": "f8"
         },
         "mode": "lines",
         "name": "617463104",
         "showlegend": true,
         "subplot": "mapbox",
         "type": "scattermapbox"
        },
        {
         "customdata": [
          [
           "618343965",
           "Symonds Street",
           "secondary",
           174.7682281,
           -36.8540199
          ],
          [
           "618343965",
           "Symonds Street",
           "secondary",
           174.7682343,
           -36.8540138
          ]
         ],
         "hovertemplate": "edge_id=%{customdata[0]}<br>segment=618343965-0<br>road_name=%{customdata[1]}<br>highway=%{customdata[2]}<extra></extra>",
         "lat": {
          "bdata": "DFEqhlBtQsCVqv5SUG1CwA==",
          "dtype": "f8"
         },
         "legendgroup": "618343965",
         "line": {
          "color": "#ab63fa"
         },
         "lon": {
          "bdata": "yKsYU5XYZUBLRRlgldhlQA==",
          "dtype": "f8"
         },
         "mode": "lines",
         "name": "618343965",
         "showlegend": true,
         "subplot": "mapbox",
         "type": "scattermapbox"
        },
        {
         "customdata": [
          [
           "619262350",
           "Symonds Street",
           "secondary",
           174.7625615,
           -36.8601794
          ],
          [
           "619262350",
           "Symonds Street",
           "secondary",
           174.7627793,
           -36.8598013
          ]
         ],
         "hovertemplate": "edge_id=%{customdata[0]}<br>segment=619262350-0<br>road_name=%{customdata[1]}<br>highway=%{customdata[2]}<extra></extra>",
         "lat": {
          "bdata": "sdjLWxpuQsB2RxD4DW5CwA==",
          "dtype": "f8"
         },
         "legendgroup": "619262350",
         "line": {
          "color": "#FFA15A"
         },
         "lon": {
          "bdata": "CvZf52bYZUAbciKwaNhlQA==",
          "dtype": "f8"
         },
         "mode": "lines",
         "name": "619262350",
         "showlegend": true,
         "subplot": "mapbox",
         "type": "scattermapbox"
        },
        {
         "customdata": [
          [
           "623566165",
           "Symonds Street",
           "secondary",
           174.7659349,
           -36.8561922
          ],
          [
           "623566165",
           "Symonds Street",
           "secondary",
           174.7659709,
           -36.8561602
          ],
          [
           "623566165",
           "Symonds Street",
           "secondary",
           174.7661827,
           -36.8559715
          ]
         ],
         "hovertemplate": "edge_id=%{customdata[0]}<br>segment=623566165-0<br>road_name=%{customdata[1]}<br>highway=%{customdata[2]}<extra></extra>",
         "lat": {
          "bdata": "jwu9tJdtQsCDkU2olm1CwG9nX3mQbULA",
          "dtype": "f8"
         },
         "legendgroup": "623566165",
         "line": {
          "color": "#19d3f3"
         },
         "lon": {
          "bdata": "rkvoiYLYZUACpmfVgthlQFrolJGE2GVA",
          "dtype": "f8"
         },
         "mode": "lines",
         "name": "623566165",
         "showlegend": true,
         "subplot": "mapbox",
         "type": "scattermapbox"
        },
        {
         "customdata": [
          [
           "623566173",
           "Symonds Street",
           "secondary",
           174.7655492,
           -36.8565573
          ],
          [
           "623566173",
           "Symonds Street",
           "secondary",
           174.7656226,
           -36.8564866
          ]
         ],
         "hovertemplate": "edge_id=%{customdata[0]}<br>segment=623566173-0<br>road_name=%{customdata[1]}<br>highway=%{customdata[2]}<extra></extra>",
         "lat": {
          "bdata": "NVNrq6NtQsAqO1haoW1CwA==",
          "dtype": "f8"
         },
         "legendgroup": "623566173",
         "line": {
          "color": "#FF6692"
         },
         "lon": {
          "bdata": "VC8JYX/YZUCDgvf6f9hlQA==",
          "dtype": "f8"
         },
         "mode": "lines",
         "name": "623566173",
         "showlegend": true,
         "subplot": "mapbox",
         "type": "scattermapbox"
        },
        {
         "customdata": [
          [
           "623566177",
           "Symonds Street",
           "secondary",
           174.7638197,
           -36.8580687
          ],
          [
           "623566177",
           "Symonds Street",
           "secondary",
           174.763862,
           -36.858014
          ],
          [
           "623566177",
           "Symonds Street",
           "secondary",
           174.7638975,
           -36.8579773
          ],
          [
           "623566177",
           "Symonds Street",
           "secondary",
           174.7639269,
           -36.857946
          ],
          [
           "623566177",
           "Symonds Street",
           "secondary",
           174.7639948,
           -36.8578905
          ],
          [
           "623566177",
           "Symonds Street",
           "secondary",
           174.7642248,
           -36.8577201
          ]
         ],
         "hovertemplate": "edge_id=%{customdata[0]}<br>segment=623566177-0<br>road_name=%{customdata[1]}<br>highway=%{customdata[2]}<extra></extra>",
         "lat": {
          "bdata": "URz2MdVtQsBMwRpn021CwO4aPjPSbULA9N2tLNFtQsBJhhxbz21CwJlPscXJbULA",
          "dtype": "f8"
         },
         "legendgroup": "623566177",
         "line": {
          "color": "#B6E880"
         },
         "lon": {
          "bdata": "TPECNnHYZUAHlbiOcdhlQOF/K9lx2GVAHIHTFnLYZUANCjmlcthlQFlZkYd02GVA",
          "dtype": "f8"
         },
         "mode": "lines",
         "name": "623566177",
         "showlegend": true,
         "subplot": "mapbox",
         "type": "scattermapbox"
        },
        {
         "customdata": [
          [
           "623566182",
           "Symonds Street",
           "secondary",
           174.7635944,
           -36.8584378
          ],
          [
           "623566182",
           "Symonds Street",
           "secondary",
           174.7636588,
           -36.8583257
          ],
          [
           "623566182",
           "Symonds Street",
           "secondary",
           174.7636723,
           -36.858303
          ],
          [
           "623566182",
           "Symonds Street",
           "secondary",
           174.7637506,
           -36.8581718
          ],
          [
           "623566182",
           "Symonds Street",
           "secondary",
           174.7638197,
           -36.8580687
          ]
         ],
         "hovertemplate": "edge_id=%{customdata[0]}<br>segment=623566182-0<br>road_name=%{customdata[1]}<br>highway=%{customdata[2]}<extra></extra>",
         "lat": {
          "bdata": "OVMySuFtQsB9aNWd3W1CwIOHad/cbULAu6zTkthtQsBRHPYx1W1CwA==",
          "dtype": "f8"
         },
         "legendgroup": "623566182",
         "line": {
          "color": "#FF97FF"
         },
         "lon": {
          "bdata": "FO2FXW/YZUCvaZTkb9hlQI4r5ABw2GVAnSkZpXDYZUBM8QI2cdhlQA==",
          "dtype": "f8"
         },
         "mode": "lines",
         "name": "623566182",
         "showlegend": true,
         "subplot": "mapbox",
         "type": "scattermapbox"
        },
        {
         "customdata": [
          [
           "623912214",
           "Symonds Street",
           "secondary",
           174.7703133,
           -36.8519293
          ],
          [
           "623912214",
           "Symonds Street",
           "secondary",
           174.7704645,
           -36.8517954
          ],
          [
           "623912214",
           "Symonds Street",
           "secondary",
           174.7705009,
           -36.8517601
          ]
         ],
         "hovertemplate": "edge_id=%{customdata[0]}<br>segment=623912214-0<br>road_name=%{customdata[1]}<br>highway=%{customdata[2]}<extra></extra>",
         "lat": {
          "bdata": "iQDxBAxtQsAO8bShB21CwNPElnkGbULA",
          "dtype": "f8"
         },
         "legendgroup": "623912214",
         "line": {
          "color": "#FECB52"
         },
         "lon": {
          "bdata": "kOUTaKbYZUBUxyqlp9hlQDzhgPGn2GVA",
          "dtype": "f8"
         },
         "mode": "lines",
         "name": "623912214",
         "showlegend": true,
         "subplot": "mapbox",
         "type": "scattermapbox"
        },
        {
         "customdata": [
          [
           "623912218",
           "Symonds Street",
           "secondary",
           174.7720905,
           -36.8504792
          ],
          [
           "623912218",
           "Symonds Street",
           "secondary",
           174.7723284,
           -36.8502953
          ],
          [
           "623912218",
           "Symonds Street",
           "secondary",
           174.7723487,
           -36.8502796
          ],
          [
           "623912218",
           "Symonds Street",
           "secondary",
           174.7724228,
           -36.8502223
          ]
         ],
         "hovertemplate": "edge_id=%{customdata[0]}<br>segment=623912218-0<br>road_name=%{customdata[1]}<br>highway=%{customdata[2]}<extra></extra>",
         "lat": {
          "bdata": "0faegNxsQsCkuPR51mxCwF06QfbVbELAOmqWFdRsQsA=",
          "dtype": "f8"
         },
         "legendgroup": "623912218",
         "line": {
          "color": "#636efa"
         },
         "lon": {
          "bdata": "rOEi97TYZUC0eAzqtthlQHbznhS32GVA6RUFsLfYZUA=",
          "dtype": "f8"
         },
         "mode": "lines",
         "name": "623912218",
         "showlegend": true,
         "subplot": "mapbox",
         "type": "scattermapbox"
        },
        {
         "customdata": [
          [
           "624129105",
           "Symonds Street",
           "primary",
           174.7608955,
           -36.8641383
          ],
          [
           "624129105",
           "Symonds Street",
           "primary",
           174.7608828,
           -36.8641883
          ]
         ],
         "hovertemplate": "edge_id=%{customdata[0]}<br>segment=624129105-0<br>road_name=%{customdata[1]}<br>highway=%{customdata[2]}<extra></extra>",
         "lat": {
          "bdata": "S9x0FZxuQsD9CuO4nW5CwA==",
          "dtype": "f8"
         },
         "legendgroup": "624129105",
         "line": {
          "color": "#EF553B"
         },
         "lon": {
          "bdata": "jgWFQVnYZUDYwuImWdhlQA==",
          "dtype": "f8"
         },
         "mode": "lines",
         "name": "624129105",
         "showlegend": true,
         "subplot": "mapbox",
         "type": "scattermapbox"
        },
        {
         "customdata": [
          [
           "624129108",
           "Symonds Street",
           "primary",
           174.7615511,
           -36.8621628
          ],
          [
           "624129108",
           "Symonds Street",
           "primary",
           174.7613912,
           -36.8627015
          ],
          [
           "624129108",
           "Symonds Street",
           "primary",
           174.761373,
           -36.8627622
          ],
          [
           "624129108",
           "Symonds Street",
           "primary",
           174.7613423,
           -36.8628624
          ]
         ],
         "hovertemplate": "edge_id=%{customdata[0]}<br>segment=624129108-0<br>road_name=%{customdata[1]}<br>highway=%{customdata[2]}<extra></extra>",
         "lat": {
          "bdata": "9enCWVtuQsDmWrQAbW5CwM2c5P1ubkLAWnluRnJuQsA=",
          "dtype": "f8"
         },
         "legendgroup": "624129108",
         "line": {
          "color": "#00cc96"
         },
         "lon": {
          "bdata": "c5dpoF7YZUDK7hNRXdhlQNbh6Cpd2GVA9/GG6lzYZUA=",
          "dtype": "f8"
         },
         "mode": "lines",
         "name": "624129108",
         "showlegend": true,
         "subplot": "mapbox",
         "type": "scattermapbox"
        },
        {
         "customdata": [
          [
           "624129109",
           "Symonds Street",
           "secondary",
           174.7624777,
           -36.8603214
          ],
          [
           "624129109",
           "Symonds Street",
           "secondary",
           174.7625615,
           -36.8601794
          ]
         ],
         "hovertemplate": "edge_id=%{customdata[0]}<br>segment=624129109-0<br>road_name=%{customdata[1]}<br>highway=%{customdata[2]}<extra></extra>",
         "lat": {
          "bdata": "Q4b6Ah9uQsCx2MtbGm5CwA==",
          "dtype": "f8"
         },
         "legendgroup": "624129109",
         "line": {
          "color": "#ab63fa"
         },
         "lon": {
          "bdata": "vS2iN2bYZUAK9l/nZthlQA==",
          "dtype": "f8"
         },
         "mode": "lines",
         "name": "624129109",
         "showlegend": true,
         "subplot": "mapbox",
         "type": "scattermapbox"
        },
        {
         "customdata": [
          [
           "624134369",
           "Symonds Street",
           "primary",
           174.7608828,
           -36.8641883
          ],
          [
           "624134369",
           "Symonds Street",
           "primary",
           174.7608093,
           -36.864437
          ]
         ],
         "hovertemplate": "edge_id=%{customdata[0]}<br>segment=624134369-0<br>road_name=%{customdata[1]}<br>highway=%{customdata[2]}<extra></extra>",
         "lat": {
          "bdata": "/QrjuJ1uQsDnOSLfpW5CwA==",
          "dtype": "f8"
         },
         "legendgroup": "624134369",
         "line": {
          "color": "#FFA15A"
         },
         "lon": {
          "bdata": "2MLiJlnYZUDEv76MWNhlQA==",
          "dtype": "f8"
         },
         "mode": "lines",
         "name": "624134369",
         "showlegend": true,
         "subplot": "mapbox",
         "type": "scattermapbox"
        },
        {
         "customdata": [
          [
           "624134370",
           "Symonds Street",
           "primary",
           174.760751,
           -36.864631
          ],
          [
           "624134370",
           "Symonds Street",
           "primary",
           174.7607177,
           -36.864742
          ],
          [
           "624134370",
           "Symonds Street",
           "primary",
           174.7606934,
           -36.8648237
          ]
         ],
         "hovertemplate": "edge_id=%{customdata[0]}<br>segment=624134370-0<br>road_name=%{customdata[1]}<br>highway=%{customdata[2]}<extra></extra>",
         "lat": {
          "bdata": "zA2GOqxuQsAjvajdr25CwCInAouybkLA",
          "dtype": "f8"
         },
         "legendgroup": "624134370",
         "line": {
          "color": "#19d3f3"
         },
         "lon": {
          "bdata": "xyx7EljYZUCgX6XMV9hlQA9pr5lX2GVA",
          "dtype": "f8"
         },
         "mode": "lines",
         "name": "624134370",
         "showlegend": true,
         "subplot": "mapbox",
         "type": "scattermapbox"
        },
        {
         "customdata": [
          [
           "654886197",
           "Symonds Street",
           "secondary",
           174.7682343,
           -36.8540138
          ],
          [
           "654886197",
           "Symonds Street",
           "secondary",
           174.7683437,
           -36.8539039
          ]
         ],
         "hovertemplate": "edge_id=%{customdata[0]}<br>segment=654886197-0<br>road_name=%{customdata[1]}<br>highway=%{customdata[2]}<extra></extra>",
         "lat": {
          "bdata": "lar+UlBtQsCjNha5TG1CwA==",
          "dtype": "f8"
         },
         "legendgroup": "654886197",
         "line": {
          "color": "#FF6692"
         },
         "lon": {
          "bdata": "S0UZYJXYZUDO8oZFlthlQA==",
          "dtype": "f8"
         },
         "mode": "lines",
         "name": "654886197",
         "showlegend": true,
         "subplot": "mapbox",
         "type": "scattermapbox"
        },
        {
         "customdata": [
          [
           "654886198",
           "Symonds Street",
           "secondary",
           174.7683862,
           -36.8538612
          ],
          [
           "654886198",
           "Symonds Street",
           "secondary",
           174.7684116,
           -36.8538356
          ]
         ],
         "hovertemplate": "edge_id=%{customdata[0]}<br>segment=654886198-0<br>road_name=%{customdata[1]}<br>highway=%{customdata[2]}<extra></extra>",
         "lat": {
          "bdata": "YqnkUkttQsCMFCV8Sm1CwA==",
          "dtype": "f8"
         },
         "legendgroup": "654886198",
         "line": {
          "color": "#B6E880"
         },
         "lon": {
          "bdata": "VPannpbYZUC/e+zTlthlQA==",
          "dtype": "f8"
         },
         "mode": "lines",
         "name": "654886198",
         "showlegend": true,
         "subplot": "mapbox",
         "type": "scattermapbox"
        },
        {
         "customdata": [
          [
           "671996833",
           "Symonds Street",
           "primary",
           174.7609032,
           -36.8638057
          ],
          [
           "671996833",
           "Symonds Street",
           "primary",
           174.760911,
           -36.8637703
          ]
         ],
         "hovertemplate": "edge_id=%{customdata[0]}<br>segment=671996833-0<br>road_name=%{customdata[1]}<br>highway=%{customdata[2]}<extra></extra>",
         "lat": {
          "bdata": "mMxnL5FuQsDI4HIGkG5CwA==",
          "dtype": "f8"
         },
         "legendgroup": "671996833",
         "line": {
          "color": "#FF97FF"
         },
         "lon": {
          "bdata": "f+2qUVnYZUBVhQZiWdhlQA==",
          "dtype": "f8"
         },
         "mode": "lines",
         "name": "671996833",
         "showlegend": true,
         "subplot": "mapbox",
         "type": "scattermapbox"
        },
        {
         "customdata": [
          [
           "671996834",
           "Symonds Street",
           "primary",
           174.760914,
           -36.86404
          ],
          [
           "671996834",
           "Symonds Street",
           "primary",
           174.7608852,
           -36.8639398
          ],
          [
           "671996834",
           "Symonds Street",
           "primary",
           174.7609032,
           -36.8638057
          ]
         ],
         "hovertemplate": "edge_id=%{customdata[0]}<br>segment=671996834-0<br>road_name=%{customdata[1]}<br>highway=%{customdata[2]}<extra></extra>",
         "lat": {
          "bdata": "yjfb3JhuQsA8W1GUlW5CwJjMZy+RbkLA",
          "dtype": "f8"
         },
         "legendgroup": "671996834",
         "line": {
          "color": "#FECB52"
         },
         "lon": {
          "bdata": "MiJRaFnYZUBVQOsrWdhlQH/tqlFZ2GVA",
          "dtype": "f8"
         },
         "mode": "lines",
         "name": "671996834",
         "showlegend": true,
         "subplot": "mapbox",
         "type": "scattermapbox"
        },
        {
         "customdata": [
          [
           "682351908",
           "Symonds Street",
           "primary",
           174.7610187,
           -36.8638462
          ],
          [
           "682351908",
           "Symonds Street",
           "primary",
           174.7609767,
           -36.8639399
          ],
          [
           "682351908",
           "Symonds Street",
           "primary",
           174.760914,
           -36.86404
          ]
         ],
         "hovertemplate": "edge_id=%{customdata[0]}<br>segment=682351908-0<br>road_name=%{customdata[1]}<br>highway=%{customdata[2]}<extra></extra>",
         "lat": {
          "bdata": "DuMkg5JuQsDRGiiVlW5CwMo329yYbkLA",
          "dtype": "f8"
         },
         "legendgroup": "682351908",
         "line": {
          "color": "#636efa"
         },
         "lon": {
          "bdata": "n4TjQ1rYZUCT8M7rWdhlQDIiUWhZ2GVA",
          "dtype": "f8"
         },
         "mode": "lines",
         "name": "682351908",
         "showlegend": true,
         "subplot": "mapbox",
         "type": "scattermapbox"
        },
        {
         "customdata": [
          [
           "682351909",
           "Symonds Street",
           "primary",
           174.7610372,
           -36.8637792
          ],
          [
           "682351909",
           "Symonds Street",
           "primary",
           174.7610187,
           -36.8638462
          ]
         ],
         "hovertemplate": "edge_id=%{customdata[0]}<br>segment=682351909-0<br>road_name=%{customdata[1]}<br>highway=%{customdata[2]}<extra></extra>",
         "lat": {
          "bdata": "h3sbUZBuQsAO4ySDkm5CwA==",
          "dtype": "f8"
         },
         "legendgroup": "682351909",
         "line": {
          "color": "#EF553B"
         },
         "lon": {
          "bdata": "Q6GvalrYZUCfhONDWthlQA==",
          "dtype": "f8"
         },
         "mode": "lines",
         "name": "682351909",
         "showlegend": true,
         "subplot": "mapbox",
         "type": "scattermapbox"
        },
        {
         "customdata": [
          [
           "759309051",
           "Symonds Street",
           "primary",
           174.760911,
           -36.8637703
          ],
          [
           "759309051",
           "Symonds Street",
           "primary",
           174.7609183,
           -36.863737
          ]
         ],
         "hovertemplate": "edge_id=%{customdata[0]}<br>segment=759309051-0<br>road_name=%{customdata[1]}<br>highway=%{customdata[2]}<extra></extra>",
         "lat": {
          "bdata": "yOByBpBuQsAurBvvjm5CwA==",
          "dtype": "f8"
         },
         "legendgroup": "759309051",
         "line": {
          "color": "#00cc96"
         },
         "lon": {
          "bdata": "VYUGYlnYZUCxrVVxWdhlQA==",
          "dtype": "f8"
         },
         "mode": "lines",
         "name": "759309051",
         "showlegend": true,
         "subplot": "mapbox",
         "type": "scattermapbox"
        },
        {
         "customdata": [
          [
           "803779774",
           "Symonds Street",
           "secondary",
           174.7643064,
           -36.857664
          ],
          [
           "803779774",
           "Symonds Street",
           "secondary",
           174.76449,
           -36.857519
          ],
          [
           "803779774",
           "Symonds Street",
           "secondary",
           174.7647254,
           -36.85732
          ]
         ],
         "hovertemplate": "edge_id=%{customdata[0]}<br>segment=803779774-0<br>road_name=%{customdata[1]}<br>highway=%{customdata[2]}<extra></extra>",
         "lat": {
          "bdata": "cHoX78dtQsBtWb4uw21CwHYaaam8bULA",
          "dtype": "f8"
         },
         "legendgroup": "803779774",
         "line": {
          "color": "#ab63fa"
         },
         "lon": {
          "bdata": "9AOyMnXYZUDPg7uzdthlQHXtZqF42GVA",
          "dtype": "f8"
         },
         "mode": "lines",
         "name": "803779774",
         "showlegend": true,
         "subplot": "mapbox",
         "type": "scattermapbox"
        },
        {
         "customdata": [
          [
           "803779775",
           "Symonds Street",
           "secondary",
           174.7642248,
           -36.8577201
          ],
          [
           "803779775",
           "Symonds Street",
           "secondary",
           174.7643064,
           -36.857664
          ]
         ],
         "hovertemplate": "edge_id=%{customdata[0]}<br>segment=803779775-0<br>road_name=%{customdata[1]}<br>highway=%{customdata[2]}<extra></extra>",
         "lat": {
          "bdata": "mU+xxcltQsBwehfvx21CwA==",
          "dtype": "f8"
         },
         "legendgroup": "803779775",
         "line": {
          "color": "#FFA15A"
         },
         "lon": {
          "bdata": "WVmRh3TYZUD0A7IyddhlQA==",
          "dtype": "f8"
         },
         "mode": "lines",
         "name": "803779775",
         "showlegend": true,
         "subplot": "mapbox",
         "type": "scattermapbox"
        },
        {
         "customdata": [
          [
           "815486465",
           "Symonds Street",
           "primary",
           174.7611779,
           -36.8633553
          ],
          [
           "815486465",
           "Symonds Street",
           "primary",
           174.7611724,
           -36.8633717
          ]
         ],
         "hovertemplate": "edge_id=%{customdata[0]}<br>segment=815486465-0<br>road_name=%{customdata[1]}<br>highway=%{customdata[2]}<extra></extra>",
         "lat": {
          "bdata": "BSotbYJuQsBe5b/2gm5CwA==",
          "dtype": "f8"
         },
         "legendgroup": "815486465",
         "line": {
          "color": "#19d3f3"
         },
         "lon": {
          "bdata": "BF7BkVvYZUDFkziGW9hlQA==",
          "dtype": "f8"
         },
         "mode": "lines",
         "name": "815486465",
         "showlegend": true,
         "subplot": "mapbox",
         "type": "scattermapbox"
        },
        {
         "customdata": [
          [
           "907165027",
           "Symonds Street",
           "secondary",
           174.7656771,
           -36.8564341
          ],
          [
           "907165027",
           "Symonds Street",
           "secondary",
           174.7657587,
           -36.8563587
          ],
          [
           "907165027",
           "Symonds Street",
           "secondary",
           174.7658852,
           -36.8562433
          ]
         ],
         "hovertemplate": "edge_id=%{customdata[0]}<br>segment=907165027-0<br>road_name=%{customdata[1]}<br>highway=%{customdata[2]}<extra></extra>",
         "lat": {
          "bdata": "8FbxoZ9tQsCSEnEpnW1CwKZ1ZWGZbULA",
          "dtype": "f8"
         },
         "legendgroup": "907165027",
         "line": {
          "color": "#FF6692"
         },
         "lon": {
          "bdata": "evlCbYDYZUAUpGMYgdhlQLLPrSGC2GVA",
          "dtype": "f8"
         },
         "mode": "lines",
         "name": "907165027",
         "showlegend": true,
         "subplot": "mapbox",
         "type": "scattermapbox"
        },
        {
         "customdata": [
          [
           "907165028",
           "Symonds Street",
           "secondary",
           174.7656226,
           -36.8564866
          ],
          [
           "907165028",
           "Symonds Street",
           "secondary",
           174.7656771,
           -36.8564341
          ]
         ],
         "hovertemplate": "edge_id=%{customdata[0]}<br>segment=907165028-0<br>road_name=%{customdata[1]}<br>highway=%{customdata[2]}<extra></extra>",
         "lat": {
          "bdata": "KjtYWqFtQsDwVvGhn21CwA==",
          "dtype": "f8"
         },
         "legendgroup": "907165028",
         "line": {
          "color": "#B6E880"
         },
         "lon": {
          "bdata": "g4L3+n/YZUB6+UJtgNhlQA==",
          "dtype": "f8"
         },
         "mode": "lines",
         "name": "907165028",
         "showlegend": true,
         "subplot": "mapbox",
         "type": "scattermapbox"
        },
        {
         "customdata": [
          [
           "907165029",
           "Symonds Street",
           "secondary",
           174.7663967,
           -36.8557853
          ],
          [
           "907165029",
           "Symonds Street",
           "secondary",
           174.7664814,
           -36.855709
          ]
         ],
         "hovertemplate": "edge_id=%{customdata[0]}<br>segment=907165029-0<br>road_name=%{customdata[1]}<br>highway=%{customdata[2]}<extra></extra>",
         "lat": {
          "bdata": "4/JpX4ptQsBJ8lzfh21CwA==",
          "dtype": "f8"
         },
         "legendgroup": "907165029",
         "line": {
          "color": "#FF97FF"
         },
         "lon": {
          "bdata": "ZUhfUobYZUDBPwAEh9hlQA==",
          "dtype": "f8"
         },
         "mode": "lines",
         "name": "907165029",
         "showlegend": true,
         "subplot": "mapbox",
         "type": "scattermapbox"
        },
        {
         "customdata": [
          [
           "907165030",
           "Symonds Street",
           "secondary",
           174.7664814,
           -36.855709
          ],
          [
           "907165030",
           "Symonds Street",
           "secondary",
           174.7669085,
           -36.855327
          ],
          [
           "907165030",
           "Symonds Street",
           "secondary",
           174.766943,
           -36.8552971
          ],
          [
           "907165030",
           "Symonds Street",
           "secondary",
           174.7669854,
           -36.8552602
          ],
          [
           "907165030",
           "Symonds Street",
           "secondary",
           174.7674915,
           -36.85482
          ],
          [
           "907165030",
           "Symonds Street",
           "secondary",
           174.7675643,
           -36.8547531
          ],
          [
           "907165030",
           "Symonds Street",
           "secondary",
           174.7676308,
           -36.8546838
          ],
          [
           "907165030",
           "Symonds Street",
           "secondary",
           174.767722,
           -36.8545785
          ],
          [
           "907165030",
           "Symonds Street",
           "secondary",
           174.7678295,
           -36.8544557
          ],
          [
           "907165030",
           "Symonds Street",
           "secondary",
           174.7678996,
           -36.8543757
          ],
          [
           "907165030",
           "Symonds Street",
           "secondary",
           174.768003,
           -36.854266
          ]
         ],
         "hovertemplate": "edge_id=%{customdata[0]}<br>segment=907165030-0<br>road_name=%{customdata[1]}<br>highway=%{customdata[2]}<extra></extra>",
         "lat": {
          "bdata": "SfJc34dtQsBiMepae21CwIxuGGB6bULAA0mOKnltQsC9++O9am1CwMtTsYxobULA47VcR2ZtQsCwrgrUYm1CwL6w681ebULAof/ULlxtQsDZCpqWWG1CwA==",
          "dtype": "f8"
         },
         "legendgroup": "907165030",
         "line": {
          "color": "#FECB52"
         },
         "lon": {
          "bdata": "wT8ABIfYZUDI0LGDithlQK3cC8yK2GVATjD3JIvYZUCojlVKj9hlQHjCAeOP2GVA4Kx3bpDYZUBuTbotkdhlQO7sKw+S2GVAkZMuopLYZUBbBwd7k9hlQA==",
          "dtype": "f8"
         },
         "mode": "lines",
         "name": "907165030",
         "showlegend": true,
         "subplot": "mapbox",
         "type": "scattermapbox"
        },
        {
         "customdata": [
          [
           "907165995",
           "Symonds Street",
           "secondary",
           174.7684116,
           -36.8538356
          ],
          [
           "907165995",
           "Symonds Street",
           "secondary",
           174.7685063,
           -36.8537484
          ]
         ],
         "hovertemplate": "edge_id=%{customdata[0]}<br>segment=907165995-0<br>road_name=%{customdata[1]}<br>highway=%{customdata[2]}<extra></extra>",
         "lat": {
          "bdata": "jBQlfEptQsCUgaigR21CwA==",
          "dtype": "f8"
         },
         "legendgroup": "907165995",
         "line": {
          "color": "#636efa"
         },
         "lon": {
          "bdata": "v3vs05bYZUCkKIaal9hlQA==",
          "dtype": "f8"
         },
         "mode": "lines",
         "name": "907165995",
         "showlegend": true,
         "subplot": "mapbox",
         "type": "scattermapbox"
        },
        {
         "customdata": [
          [
           "907165997",
           "Symonds Street",
           "secondary",
           174.7685562,
           -36.8536982
          ],
          [
           "907165997",
           "Symonds Street",
           "secondary",
           174.7685996,
           -36.8536546
          ],
          [
           "907165997",
           "Symonds Street",
           "secondary",
           174.7694229,
           -36.8528264
          ],
          [
           "907165997",
           "Symonds Street",
           "secondary",
           174.7700975,
           -36.8521478
          ]
         ],
         "hovertemplate": "edge_id=%{customdata[0]}<br>segment=907165997-0<br>road_name=%{customdata[1]}<br>highway=%{customdata[2]}<extra></extra>",
         "lat": {
          "bdata": "uNOM+0VtQsA8is6NRG1CwCyVXGopbULA3i3aLRNtQsA=",
          "dtype": "f8"
         },
         "legendgroup": "907165997",
         "line": {
          "color": "#EF553B"
         },
         "lon": {
          "bdata": "awQsA5jYZUD/NjBemNhlQGQJxhyf2GVAZyeDo6TYZUA=",
          "dtype": "f8"
         },
         "mode": "lines",
         "name": "907165997",
         "showlegend": true,
         "subplot": "mapbox",
         "type": "scattermapbox"
        },
        {
         "customdata": [
          [
           "927593135",
           "Symonds Street",
           "secondary",
           174.7658852,
           -36.8562433
          ],
          [
           "927593135",
           "Symonds Street",
           "secondary",
           174.7659349,
           -36.8561922
          ]
         ],
         "hovertemplate": "edge_id=%{customdata[0]}<br>segment=927593135-0<br>road_name=%{customdata[1]}<br>highway=%{customdata[2]}<extra></extra>",
         "lat": {
          "bdata": "pnVlYZltQsCPC720l21CwA==",
          "dtype": "f8"
         },
         "legendgroup": "927593135",
         "line": {
          "color": "#00cc96"
         },
         "lon": {
          "bdata": "ss+tIYLYZUCuS+iJgthlQA==",
          "dtype": "f8"
         },
         "mode": "lines",
         "name": "927593135",
         "showlegend": true,
         "subplot": "mapbox",
         "type": "scattermapbox"
        },
        {
         "customdata": [
          [
           "927593137",
           "Symonds Street",
           "secondary",
           174.7635462,
           -36.8585042
          ],
          [
           "927593137",
           "Symonds Street",
           "secondary",
           174.7635944,
           -36.8584378
          ]
         ],
         "hovertemplate": "edge_id=%{customdata[0]}<br>segment=927593137-0<br>road_name=%{customdata[1]}<br>highway=%{customdata[2]}<extra></extra>",
         "lat": {
          "bdata": "RD0zd+NtQsA5UzJK4W1CwA==",
          "dtype": "f8"
         },
         "legendgroup": "927593137",
         "line": {
          "color": "#ab63fa"
         },
         "lon": {
          "bdata": "hr9w+G7YZUAU7YVdb9hlQA==",
          "dtype": "f8"
         },
         "mode": "lines",
         "name": "927593137",
         "showlegend": true,
         "subplot": "mapbox",
         "type": "scattermapbox"
        },
        {
         "customdata": [
          [
           "927596411",
           "Symonds Street",
           "secondary",
           174.7683437,
           -36.8539039
          ],
          [
           "927596411",
           "Symonds Street",
           "secondary",
           174.7683718,
           -36.8538757
          ],
          [
           "927596411",
           "Symonds Street",
           "secondary",
           174.7683862,
           -36.8538612
          ]
         ],
         "hovertemplate": "edge_id=%{customdata[0]}<br>segment=927596411-0<br>road_name=%{customdata[1]}<br>highway=%{customdata[2]}<extra></extra>",
         "lat": {
          "bdata": "ozYWuUxtQsCwLIfMS21CwGKp5FJLbULA",
          "dtype": "f8"
         },
         "legendgroup": "927596411",
         "line": {
          "color": "#FFA15A"
         },
         "lon": {
          "bdata": "zvKGRZbYZUBmBXWAlthlQFT2p56W2GVA",
          "dtype": "f8"
         },
         "mode": "lines",
         "name": "927596411",
         "showlegend": true,
         "subplot": "mapbox",
         "type": "scattermapbox"
        }
       ],
       "layout": {
        "height": 560,
        "legend": {
         "title": {
          "text": "edge_id"
         },
         "tracegroupgap": 0
        },
        "mapbox": {
         "center": {
          "lat": -36.870640081171544,
          "lon": 174.7670517953975
         },
         "domain": {
          "x": [
           0,
           1
          ],
          "y": [
           0,
           1
          ]
         },
         "style": "carto-positron",
         "zoom": 13
        },
        "margin": {
         "b": 0,
         "l": 0,
         "r": 0,
         "t": 0
        },
        "template": {
         "data": {
          "bar": [
           {
            "error_x": {
             "color": "#2a3f5f"
            },
            "error_y": {
             "color": "#2a3f5f"
            },
            "marker": {
             "line": {
              "color": "#E5ECF6",
              "width": 0.5
             },
             "pattern": {
              "fillmode": "overlay",
              "size": 10,
              "solidity": 0.2
             }
            },
            "type": "bar"
           }
          ],
          "barpolar": [
           {
            "marker": {
             "line": {
              "color": "#E5ECF6",
              "width": 0.5
             },
             "pattern": {
              "fillmode": "overlay",
              "size": 10,
              "solidity": 0.2
             }
            },
            "type": "barpolar"
           }
          ],
          "carpet": [
           {
            "aaxis": {
             "endlinecolor": "#2a3f5f",
             "gridcolor": "white",
             "linecolor": "white",
             "minorgridcolor": "white",
             "startlinecolor": "#2a3f5f"
            },
            "baxis": {
             "endlinecolor": "#2a3f5f",
             "gridcolor": "white",
             "linecolor": "white",
             "minorgridcolor": "white",
             "startlinecolor": "#2a3f5f"
            },
            "type": "carpet"
           }
          ],
          "choropleth": [
           {
            "colorbar": {
             "outlinewidth": 0,
             "ticks": ""
            },
            "type": "choropleth"
           }
          ],
          "contour": [
           {
            "colorbar": {
             "outlinewidth": 0,
             "ticks": ""
            },
            "colorscale": [
             [
              0,
              "#0d0887"
             ],
             [
              0.1111111111111111,
              "#46039f"
             ],
             [
              0.2222222222222222,
              "#7201a8"
             ],
             [
              0.3333333333333333,
              "#9c179e"
             ],
             [
              0.4444444444444444,
              "#bd3786"
             ],
             [
              0.5555555555555556,
              "#d8576b"
             ],
             [
              0.6666666666666666,
              "#ed7953"
             ],
             [
              0.7777777777777778,
              "#fb9f3a"
             ],
             [
              0.8888888888888888,
              "#fdca26"
             ],
             [
              1,
              "#f0f921"
             ]
            ],
            "type": "contour"
           }
          ],
          "contourcarpet": [
           {
            "colorbar": {
             "outlinewidth": 0,
             "ticks": ""
            },
            "type": "contourcarpet"
           }
          ],
          "heatmap": [
           {
            "colorbar": {
             "outlinewidth": 0,
             "ticks": ""
            },
            "colorscale": [
             [
              0,
              "#0d0887"
             ],
             [
              0.1111111111111111,
              "#46039f"
             ],
             [
              0.2222222222222222,
              "#7201a8"
             ],
             [
              0.3333333333333333,
              "#9c179e"
             ],
             [
              0.4444444444444444,
              "#bd3786"
             ],
             [
              0.5555555555555556,
              "#d8576b"
             ],
             [
              0.6666666666666666,
              "#ed7953"
             ],
             [
              0.7777777777777778,
              "#fb9f3a"
             ],
             [
              0.8888888888888888,
              "#fdca26"
             ],
             [
              1,
              "#f0f921"
             ]
            ],
            "type": "heatmap"
           }
          ],
          "histogram": [
           {
            "marker": {
             "pattern": {
              "fillmode": "overlay",
              "size": 10,
              "solidity": 0.2
             }
            },
            "type": "histogram"
           }
          ],
          "histogram2d": [
           {
            "colorbar": {
             "outlinewidth": 0,
             "ticks": ""
            },
            "colorscale": [
             [
              0,
              "#0d0887"
             ],
             [
              0.1111111111111111,
              "#46039f"
             ],
             [
              0.2222222222222222,
              "#7201a8"
             ],
             [
              0.3333333333333333,
              "#9c179e"
             ],
             [
              0.4444444444444444,
              "#bd3786"
             ],
             [
              0.5555555555555556,
              "#d8576b"
             ],
             [
              0.6666666666666666,
              "#ed7953"
             ],
             [
              0.7777777777777778,
              "#fb9f3a"
             ],
             [
              0.8888888888888888,
              "#fdca26"
             ],
             [
              1,
              "#f0f921"
             ]
            ],
            "type": "histogram2d"
           }
          ],
          "histogram2dcontour": [
           {
            "colorbar": {
             "outlinewidth": 0,
             "ticks": ""
            },
            "colorscale": [
             [
              0,
              "#0d0887"
             ],
             [
              0.1111111111111111,
              "#46039f"
             ],
             [
              0.2222222222222222,
              "#7201a8"
             ],
             [
              0.3333333333333333,
              "#9c179e"
             ],
             [
              0.4444444444444444,
              "#bd3786"
             ],
             [
              0.5555555555555556,
              "#d8576b"
             ],
             [
              0.6666666666666666,
              "#ed7953"
             ],
             [
              0.7777777777777778,
              "#fb9f3a"
             ],
             [
              0.8888888888888888,
              "#fdca26"
             ],
             [
              1,
              "#f0f921"
             ]
            ],
            "type": "histogram2dcontour"
           }
          ],
          "mesh3d": [
           {
            "colorbar": {
             "outlinewidth": 0,
             "ticks": ""
            },
            "type": "mesh3d"
           }
          ],
          "parcoords": [
           {
            "line": {
             "colorbar": {
              "outlinewidth": 0,
              "ticks": ""
             }
            },
            "type": "parcoords"
           }
          ],
          "pie": [
           {
            "automargin": true,
            "type": "pie"
           }
          ],
          "scatter": [
           {
            "fillpattern": {
             "fillmode": "overlay",
             "size": 10,
             "solidity": 0.2
            },
            "type": "scatter"
           }
          ],
          "scatter3d": [
           {
            "line": {
             "colorbar": {
              "outlinewidth": 0,
              "ticks": ""
             }
            },
            "marker": {
             "colorbar": {
              "outlinewidth": 0,
              "ticks": ""
             }
            },
            "type": "scatter3d"
           }
          ],
          "scattercarpet": [
           {
            "marker": {
             "colorbar": {
              "outlinewidth": 0,
              "ticks": ""
             }
            },
            "type": "scattercarpet"
           }
          ],
          "scattergeo": [
           {
            "marker": {
             "colorbar": {
              "outlinewidth": 0,
              "ticks": ""
             }
            },
            "type": "scattergeo"
           }
          ],
          "scattergl": [
           {
            "marker": {
             "colorbar": {
              "outlinewidth": 0,
              "ticks": ""
             }
            },
            "type": "scattergl"
           }
          ],
          "scattermap": [
           {
            "marker": {
             "colorbar": {
              "outlinewidth": 0,
              "ticks": ""
             }
            },
            "type": "scattermap"
           }
          ],
          "scattermapbox": [
           {
            "marker": {
             "colorbar": {
              "outlinewidth": 0,
              "ticks": ""
             }
            },
            "type": "scattermapbox"
           }
          ],
          "scatterpolar": [
           {
            "marker": {
             "colorbar": {
              "outlinewidth": 0,
              "ticks": ""
             }
            },
            "type": "scatterpolar"
           }
          ],
          "scatterpolargl": [
           {
            "marker": {
             "colorbar": {
              "outlinewidth": 0,
              "ticks": ""
             }
            },
            "type": "scatterpolargl"
           }
          ],
          "scatterternary": [
           {
            "marker": {
             "colorbar": {
              "outlinewidth": 0,
              "ticks": ""
             }
            },
            "type": "scatterternary"
           }
          ],
          "surface": [
           {
            "colorbar": {
             "outlinewidth": 0,
             "ticks": ""
            },
            "colorscale": [
             [
              0,
              "#0d0887"
             ],
             [
              0.1111111111111111,
              "#46039f"
             ],
             [
              0.2222222222222222,
              "#7201a8"
             ],
             [
              0.3333333333333333,
              "#9c179e"
             ],
             [
              0.4444444444444444,
              "#bd3786"
             ],
             [
              0.5555555555555556,
              "#d8576b"
             ],
             [
              0.6666666666666666,
              "#ed7953"
             ],
             [
              0.7777777777777778,
              "#fb9f3a"
             ],
             [
              0.8888888888888888,
              "#fdca26"
             ],
             [
              1,
              "#f0f921"
             ]
            ],
            "type": "surface"
           }
          ],
          "table": [
           {
            "cells": {
             "fill": {
              "color": "#EBF0F8"
             },
             "line": {
              "color": "white"
             }
            },
            "header": {
             "fill": {
              "color": "#C8D4E3"
             },
             "line": {
              "color": "white"
             }
            },
            "type": "table"
           }
          ]
         },
         "layout": {
          "annotationdefaults": {
           "arrowcolor": "#2a3f5f",
           "arrowhead": 0,
           "arrowwidth": 1
          },
          "autotypenumbers": "strict",
          "coloraxis": {
           "colorbar": {
            "outlinewidth": 0,
            "ticks": ""
           }
          },
          "colorscale": {
           "diverging": [
            [
             0,
             "#8e0152"
            ],
            [
             0.1,
             "#c51b7d"
            ],
            [
             0.2,
             "#de77ae"
            ],
            [
             0.3,
             "#f1b6da"
            ],
            [
             0.4,
             "#fde0ef"
            ],
            [
             0.5,
             "#f7f7f7"
            ],
            [
             0.6,
             "#e6f5d0"
            ],
            [
             0.7,
             "#b8e186"
            ],
            [
             0.8,
             "#7fbc41"
            ],
            [
             0.9,
             "#4d9221"
            ],
            [
             1,
             "#276419"
            ]
           ],
           "sequential": [
            [
             0,
             "#0d0887"
            ],
            [
             0.1111111111111111,
             "#46039f"
            ],
            [
             0.2222222222222222,
             "#7201a8"
            ],
            [
             0.3333333333333333,
             "#9c179e"
            ],
            [
             0.4444444444444444,
             "#bd3786"
            ],
            [
             0.5555555555555556,
             "#d8576b"
            ],
            [
             0.6666666666666666,
             "#ed7953"
            ],
            [
             0.7777777777777778,
             "#fb9f3a"
            ],
            [
             0.8888888888888888,
             "#fdca26"
            ],
            [
             1,
             "#f0f921"
            ]
           ],
           "sequentialminus": [
            [
             0,
             "#0d0887"
            ],
            [
             0.1111111111111111,
             "#46039f"
            ],
            [
             0.2222222222222222,
             "#7201a8"
            ],
            [
             0.3333333333333333,
             "#9c179e"
            ],
            [
             0.4444444444444444,
             "#bd3786"
            ],
            [
             0.5555555555555556,
             "#d8576b"
            ],
            [
             0.6666666666666666,
             "#ed7953"
            ],
            [
             0.7777777777777778,
             "#fb9f3a"
            ],
            [
             0.8888888888888888,
             "#fdca26"
            ],
            [
             1,
             "#f0f921"
            ]
           ]
          },
          "colorway": [
           "#636efa",
           "#EF553B",
           "#00cc96",
           "#ab63fa",
           "#FFA15A",
           "#19d3f3",
           "#FF6692",
           "#B6E880",
           "#FF97FF",
           "#FECB52"
          ],
          "font": {
           "color": "#2a3f5f"
          },
          "geo": {
           "bgcolor": "white",
           "lakecolor": "white",
           "landcolor": "#E5ECF6",
           "showlakes": true,
           "showland": true,
           "subunitcolor": "white"
          },
          "hoverlabel": {
           "align": "left"
          },
          "hovermode": "closest",
          "mapbox": {
           "style": "light"
          },
          "paper_bgcolor": "white",
          "plot_bgcolor": "#E5ECF6",
          "polar": {
           "angularaxis": {
            "gridcolor": "white",
            "linecolor": "white",
            "ticks": ""
           },
           "bgcolor": "#E5ECF6",
           "radialaxis": {
            "gridcolor": "white",
            "linecolor": "white",
            "ticks": ""
           }
          },
          "scene": {
           "xaxis": {
            "backgroundcolor": "#E5ECF6",
            "gridcolor": "white",
            "gridwidth": 2,
            "linecolor": "white",
            "showbackground": true,
            "ticks": "",
            "zerolinecolor": "white"
           },
           "yaxis": {
            "backgroundcolor": "#E5ECF6",
            "gridcolor": "white",
            "gridwidth": 2,
            "linecolor": "white",
            "showbackground": true,
            "ticks": "",
            "zerolinecolor": "white"
           },
           "zaxis": {
            "backgroundcolor": "#E5ECF6",
            "gridcolor": "white",
            "gridwidth": 2,
            "linecolor": "white",
            "showbackground": true,
            "ticks": "",
            "zerolinecolor": "white"
           }
          },
          "shapedefaults": {
           "line": {
            "color": "#2a3f5f"
           }
          },
          "ternary": {
           "aaxis": {
            "gridcolor": "white",
            "linecolor": "white",
            "ticks": ""
           },
           "baxis": {
            "gridcolor": "white",
            "linecolor": "white",
            "ticks": ""
           },
           "bgcolor": "#E5ECF6",
           "caxis": {
            "gridcolor": "white",
            "linecolor": "white",
            "ticks": ""
           }
          },
          "title": {
           "x": 0.05
          },
          "xaxis": {
           "automargin": true,
           "gridcolor": "white",
           "linecolor": "white",
           "ticks": "",
           "title": {
            "standoff": 15
           },
           "zerolinecolor": "white",
           "zerolinewidth": 2
          },
          "yaxis": {
           "automargin": true,
           "gridcolor": "white",
           "linecolor": "white",
           "ticks": "",
           "title": {
            "standoff": 15
           },
           "zerolinecolor": "white",
           "zerolinewidth": 2
          }
         }
        }
       }
      }
     },
     "metadata": {},
     "output_type": "display_data"
    }
   ],
   "source": [
    "# Plot df_by_name edge polylines on a paler basemap\n",
    "import json\n",
    "import pandas as pd\n",
    "import plotly.express as px\n",
    "from IPython.display import HTML, display\n",
    "try:\n",
    "    from shapely import wkt as shapely_wkt\n",
    "    from shapely.geometry import LineString, MultiLineString\n",
    "except Exception:\n",
    "    shapely_wkt = None\n",
    "    LineString = MultiLineString = None\n",
    "\n",
    "if 'df_by_name' not in globals() or df_by_name is None or len(df_by_name) == 0:\n",
    "    print(\"No rows in df_by_name to plot. Run the query cell above first.\")\n",
    "else:\n",
    "    recs = []\n",
    "    for _, row in df_by_name.iterrows():\n",
    "        geom = row.get('edge_geom')\n",
    "        eid = str(row.get('edge_id'))\n",
    "        if geom is None:\n",
    "            continue\n",
    "        coords_groups = []\n",
    "        # Try GeoJSON string\n",
    "        gj = None\n",
    "        if isinstance(geom, str):\n",
    "            try:\n",
    "                gj = json.loads(geom)\n",
    "            except Exception:\n",
    "                gj = None\n",
    "        if gj and isinstance(gj, dict):\n",
    "            typ = gj.get('type')\n",
    "            if typ == 'LineString':\n",
    "                coords_groups = [gj['coordinates']]\n",
    "            elif typ == 'MultiLineString':\n",
    "                coords_groups = gj['coordinates']\n",
    "        # __geo_interface__\n",
    "        if not coords_groups and hasattr(geom, '__geo_interface__'):\n",
    "            gi = geom.__geo_interface__\n",
    "            typ = gi.get('type')\n",
    "            if typ == 'LineString':\n",
    "                coords_groups = [gi['coordinates']]\n",
    "            elif typ == 'MultiLineString':\n",
    "                coords_groups = gi['coordinates']\n",
    "        # WKT via shapely if available\n",
    "        if not coords_groups and isinstance(geom, str) and shapely_wkt is not None:\n",
    "            try:\n",
    "                g = shapely_wkt.loads(geom)\n",
    "                if isinstance(g, LineString):\n",
    "                    coords_groups = [list(g.coords)]\n",
    "                elif isinstance(g, MultiLineString):\n",
    "                    coords_groups = [list(ls.coords) for ls in g.geoms]\n",
    "            except Exception:\n",
    "                pass\n",
    "        for idx, coords in enumerate(coords_groups):\n",
    "            for lon, lat in coords:\n",
    "                recs.append({'lon': float(lon), 'lat': float(lat), 'segment': f\"{eid}-{idx}\", 'edge_id': eid,\n",
    "                             'road_name': row.get('road_name'), 'highway': row.get('highway')})\n",
    "    if not recs:\n",
    "        print(\"Could not parse geometries from df_by_name.edge_geom.\")\n",
    "    else:\n",
    "        gdf = pd.DataFrame(recs)\n",
    "        center_lat = float(gdf['lat'].mean())\n",
    "        center_lon = float(gdf['lon'].mean())\n",
    "        fig = px.line_mapbox(\n",
    "            gdf,\n",
    "            lon='lon', lat='lat', line_group='segment', color='edge_id',\n",
    "            hover_data={'edge_id': True, 'road_name': True, 'highway': True, 'lon': False, 'lat': False},\n",
    "            height=560, zoom=13,\n",
    "        )\n",
    "        fig.update_layout(\n",
    "            mapbox_style='carto-positron',\n",
    "            mapbox_center={'lat': center_lat, 'lon': center_lon},\n",
    "            margin=dict(l=0, r=0, t=0, b=0)\n",
    "        )\n",
    "        try:\n",
    "            fig.show()\n",
    "        except Exception as e:\n",
    "            html = fig.to_html(include_plotlyjs='cdn', full_html=False)\n",
    "            display(HTML(html))\n",
    "            print(f\"Rendered via HTML fallback (renderer error: {e})\")"
   ]
  }
 ],
 "metadata": {
  "kernelspec": {
   "display_name": ".venv",
   "language": "python",
   "name": "python3"
  },
  "language_info": {
   "codemirror_mode": {
    "name": "ipython",
    "version": 3
   },
   "file_extension": ".py",
   "mimetype": "text/x-python",
   "name": "python",
   "nbconvert_exporter": "python",
   "pygments_lexer": "ipython3",
   "version": "3.11.12"
  }
 },
 "nbformat": 4,
 "nbformat_minor": 5
}
