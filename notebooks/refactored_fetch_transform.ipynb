{
 "cells": [
  {
   "cell_type": "markdown",
   "id": "47954607",
   "metadata": {},
   "source": [
    "## Set up"
   ]
  },
  {
   "cell_type": "code",
   "execution_count": 1,
   "id": "4b9317ab",
   "metadata": {},
   "outputs": [],
   "source": [
    "# Add the src directory to Python path so we can import from src modules\n",
    "import sys\n",
    "sys.path.append('../src')"
   ]
  },
  {
   "cell_type": "code",
   "execution_count": 2,
   "id": "5ecce128",
   "metadata": {},
   "outputs": [],
   "source": [
    "# Run existing ingest code to populate dataframe\n",
    "\n",
    "import os\n",
    "import json\n",
    "\n",
    "os.environ[\"PROJECT_ID\"] = \"regal-dynamo-470908-v9\"\n",
    "os.environ[\"BQ_DATASET\"] = \"auckland_data_dev\"\n",
    "os.environ[\"BUCKET\"] = \"auckland-data-dev\"\n",
    "\n",
    "# Encode headers as base64 (matching Terraform pattern)\n",
    "import base64\n",
    "_headers_dict = {\n",
    "  'Ocp-Apim-Subscription-Key': '1159c79486524360b17501ad888ee7d6'\n",
    "}\n",
    "os.environ[\"HEADERS\"] = base64.b64encode(json.dumps(_headers_dict).encode(\"utf-8\")).decode(\"utf-8\")\n",
    "\n",
    "os.environ[\"URL\"] = 'https://api.at.govt.nz/realtime/legacy/tripupdates'\n",
    "os.environ[\"DATASET\"] = 'trip-updates'\n",
    "os.environ[\"SPEC\"] = 'rt'\n",
    "os.environ[\"RESPONSE_TYPE\"] = 'json'\n",
    "\n",
    "project_id = \"regal-dynamo-470908-v9\"\n",
    "dataset = \"auckland_data_dev\"\n",
    "table_name = 'rt_trip_updates'\n",
    "table_id = f\"{project_id}.{dataset}.{table_name}\""
   ]
  },
  {
   "cell_type": "code",
   "execution_count": 7,
   "id": "cf7b7945",
   "metadata": {},
   "outputs": [],
   "source": [
    "# Run existing ingest code to populate dataframe\n",
    "\n",
    "import os\n",
    "import json\n",
    "\n",
    "os.environ[\"PROJECT_ID\"] = \"regal-dynamo-470908-v9\"\n",
    "os.environ[\"BQ_DATASET\"] = \"auckland_data_dev\"\n",
    "os.environ[\"BUCKET\"] = \"auckland-data-dev\"\n",
    "\n",
    "# Encode headers as base64 (matching Terraform pattern)\n",
    "import base64\n",
    "_headers_dict = {\n",
    "  'Ocp-Apim-Subscription-Key': '1159c79486524360b17501ad888ee7d6'\n",
    "}\n",
    "os.environ[\"HEADERS\"] = base64.b64encode(json.dumps(_headers_dict).encode(\"utf-8\")).decode(\"utf-8\")\n",
    "\n",
    "os.environ[\"URL\"] = 'https://gtfs.at.govt.nz/gtfs.zip'\n",
    "os.environ[\"DATASET\"] = 'schedule'\n",
    "os.environ[\"SPEC\"] = 'sc'\n",
    "os.environ[\"RESPONSE_TYPE\"] = 'zip'\n",
    "\n",
    "project_id = \"regal-dynamo-470908-v9\"\n",
    "dataset = \"auckland_data_dev\"\n",
    "table_name = 'sc_schedule'\n",
    "table_id = f\"{project_id}.{dataset}.{table_name}\""
   ]
  },
  {
   "cell_type": "markdown",
   "id": "de3072a5",
   "metadata": {},
   "source": [
    "## Run Fetch"
   ]
  },
  {
   "cell_type": "code",
   "execution_count": 3,
   "id": "4e56dc54",
   "metadata": {},
   "outputs": [
    {
     "name": "stdout",
     "output_type": "stream",
     "text": [
      "INFO - Starting Fetch and Store process for dataset=trip-updates\n",
      "INFO - Fetch complete: bytes=638269 duration=0.54s\n",
      "INFO - Cache upload complete: object=rt-trip-updates/cache/year=2025/month=10/day=27/hour=00/trip-updates-20251027T004418Z.json.gz duration=2.47s\n"
     ]
    },
    {
     "data": {
      "text/plain": [
       "({'status': 'cached',\n",
       "  'dataset': 'trip-updates',\n",
       "  'object': 'rt-trip-updates/cache/year=2025/month=10/day=27/hour=00/trip-updates-20251027T004418Z.json.gz'},\n",
       " 200)"
      ]
     },
     "execution_count": 3,
     "metadata": {},
     "output_type": "execute_result"
    }
   ],
   "source": [
    "from fetch.main import run\n",
    "run({})"
   ]
  },
  {
   "cell_type": "markdown",
   "id": "1a1fef06",
   "metadata": {},
   "source": [
    "## Run Transform"
   ]
  },
  {
   "cell_type": "code",
   "execution_count": 4,
   "id": "1e631f39",
   "metadata": {},
   "outputs": [
    {
     "name": "stdout",
     "output_type": "stream",
     "text": [
      "INFO - Starting Transform and Upload process for trip-updates (bucket=auckland-data-dev, cache_prefix=rt-trip-updates/cache/)\n",
      "INFO - Realtime batch download complete: processed_blobs=1 raw_rows=1208 duration=0.19s\n",
      "INFO - Realtime transformation complete: rows=1208 duration=0.12s\n",
      "INFO - Realtime BigQuery upsert complete: table=rt_trip_updates rows=1208 duration=9.22s\n",
      "INFO - Realtime cache move complete: moved=1 duration=0.18s\n",
      "INFO - Realtime batch complete: dataset=trip-updates rows=1208 processed_blobs=1 moved=1\n"
     ]
    },
    {
     "data": {
      "text/plain": [
       "{'status': 'ok',\n",
       " 'dataset': 'trip-updates',\n",
       " 'rows': 1208,\n",
       " 'processed': 1,\n",
       " 'moved': 1,\n",
       " 'bq': {'table': 'regal-dynamo-470908-v9.auckland_data_dev.rt_trip_updates',\n",
       "  'rows_processed': 1208,\n",
       "  'method': 'merge',\n",
       "  'staging_table': 'regal-dynamo-470908-v9.auckland_data_dev.rt_trip_updates_staging_00f87089',\n",
       "  'load_job_id': '46ec7290-b9eb-4d92-b4f3-c5a12fa08e11',\n",
       "  'merge_job_id': 'c6d44a4e-24d4-4e5c-b557-7eeb249f2787'}}"
      ]
     },
     "execution_count": 4,
     "metadata": {},
     "output_type": "execute_result"
    }
   ],
   "source": [
    "from transform.main import run\n",
    "response, status = run({})\n",
    "response"
   ]
  },
  {
   "cell_type": "code",
   "execution_count": 10,
   "id": "487143e5",
   "metadata": {},
   "outputs": [
    {
     "data": {
      "text/plain": [
       "{'status': 'empty', 'dataset': 'schedule', 'feeds': 0, 'rows': 0}"
      ]
     },
     "execution_count": 10,
     "metadata": {},
     "output_type": "execute_result"
    }
   ],
   "source": [
    "status\n",
    "response"
   ]
  }
 ],
 "metadata": {
  "kernelspec": {
   "display_name": ".venv",
   "language": "python",
   "name": "python3"
  },
  "language_info": {
   "codemirror_mode": {
    "name": "ipython",
    "version": 3
   },
   "file_extension": ".py",
   "mimetype": "text/x-python",
   "name": "python",
   "nbconvert_exporter": "python",
   "pygments_lexer": "ipython3",
   "version": "3.11.12"
  }
 },
 "nbformat": 4,
 "nbformat_minor": 5
}
